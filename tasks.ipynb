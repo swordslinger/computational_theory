{
 "cells": [
  {
   "cell_type": "markdown",
   "metadata": {},
   "source": [
    "# Computational Theory Tasks"
   ]
  },
  {
   "cell_type": "code",
   "execution_count": 3,
   "metadata": {},
   "outputs": [],
   "source": [
    "# Imports for explanation of ROTL function and generating random binary integers.\n",
    "from random import randint,getrandbits"
   ]
  },
  {
   "cell_type": "markdown",
   "metadata": {},
   "source": [
    "## Task 1: Binary Representations"
   ]
  },
  {
   "cell_type": "markdown",
   "metadata": {},
   "source": [
    "### ROTL n^(x) Function\n",
    "The ROTL function as defined in [FIPS PUB 180-4](https://nvlpubs.nist.gov/nistpubs/FIPS/NIST.FIPS.180-4.pdf) \n",
    " page 5. <br>\n",
    "$$\n",
    "\\text{ROTL}^{n}(x) = (x \\ll n) \\vee (x \\gg w - n)\n",
    "$$\n",
    "<br>\n",
    "\n",
    "$$\n",
    "\\begin{aligned}\n",
    "x & : \\text{A word of length } w \\text{ (a binary number with } w \\text{ bits).} \\\\\n",
    "n & : \\text{The number of positions to rotate left, where } 0 \\leq n < w. \\\\\n",
    "w & : \\text{The total bit-length of the word } x. \\\\\n",
    "\\ll & : \\text{Left shift operation.} \\\\\n",
    "\\gg & : \\text{Right shift operation.} \\\\\n",
    "\\vee & : \\text{Bitwise OR operation.}\n",
    "\\end{aligned}\n",
    "$$\n",
    "\n",
    "\n",
    "\n",
    "\n"
   ]
  },
  {
   "cell_type": "markdown",
   "metadata": {},
   "source": [
    "#### ROTL n^(x) Function variable explanation"
   ]
  },
  {
   "cell_type": "markdown",
   "metadata": {},
   "source": [
    "X is a binary number whos length will be determined by by the bits (W). <br>\n",
    "so we have a rough implementation below demonstrating the relationship between x and w. W  determing the length of the a binary number (x). <br><br>\n",
    "[Generate a number with x amount of digits](https://stackoverflow.com/questions/2673385/how-to-generate-a-random-number-with-a-specific-amount-of-digits) <br>\n",
    "[Convert a value to its binary value](https://docs.python.org/3/library/functions.html#bin) <br>\n",
    "[Convert a number to a binary value of fixed length](https://stackoverflow.com/questions/3252528/converting-a-number-to-binary-with-a-fixed-length)"
   ]
  },
  {
   "cell_type": "code",
   "execution_count": 16,
   "metadata": {},
   "outputs": [
    {
     "name": "stdout",
     "output_type": "stream",
     "text": [
      "0b11\n"
     ]
    }
   ],
   "source": [
    "w = 4\n",
    "num = randint(0, (2 ** w) - 1)\n",
    "bin_x_str = f'{num:0{w}b}'\n",
    "x_num = int(bin_x_str,2)\n",
    "x_bin = bin(x_num)\n",
    "print(x_bin)"
   ]
  },
  {
   "cell_type": "code",
   "execution_count": null,
   "metadata": {},
   "outputs": [],
   "source": []
  },
  {
   "cell_type": "code",
   "execution_count": null,
   "metadata": {},
   "outputs": [],
   "source": []
  },
  {
   "cell_type": "markdown",
   "metadata": {},
   "source": [
    "so n is the number of postions to rotate by if we take  w = 4, x = 0010 and  and n as 1, then x should now equal 0100"
   ]
  },
  {
   "cell_type": "markdown",
   "metadata": {},
   "source": [
    "https://python-reference.readthedocs.io/en/latest/docs/operators/bitwise_left_shift_assignment.html\n",
    "$$\n",
    "\\begin{aligned}\n",
    "\\ll & : \\text{Left shift operation.} \\\\\n",
    "\\end{aligned}\n",
    "$$\n",
    "\n",
    "The bitwise left shift operator shifts all the bits of a value to the left by a specfied number of places.\n",
    "Bits shifted out from the left most value are discarded if shift size > bit width.\n",
    "Zeros are appeneded to the right to fill in empty values from the shift.\n"
   ]
  },
  {
   "cell_type": "code",
   "execution_count": 3,
   "metadata": {},
   "outputs": [
    {
     "name": "stdout",
     "output_type": "stream",
     "text": [
      "0b1\n",
      "1\n",
      "0b10\n",
      "2\n"
     ]
    }
   ],
   "source": [
    "\n",
    "b = 0b0001\n",
    "print(bin(b))\n",
    "print(b)\n",
    "b <<= 1\n",
    "print(bin(b))\n",
    "print(b)\n"
   ]
  },
  {
   "cell_type": "markdown",
   "metadata": {},
   "source": [
    "https://python-reference.readthedocs.io/en/latest/docs/operators/bitwise_right_shift_assignment.html\n",
    "$$\n",
    "\\begin{aligned}\n",
    "\\gg & : \\text{Right shift operation.} \\\\\n",
    "\\end{aligned}\n",
    "$$\n",
    "\n",
    "The bitwise right shift operator shifts all the bits of a value to the right by a specfied number of places.\n",
    "Bits shifted out from the right most value are discarded if shift size > bit width.\n",
    "Zeros are appeneded to the left to fill in unsigned integers from the shift."
   ]
  },
  {
   "cell_type": "code",
   "execution_count": 4,
   "metadata": {},
   "outputs": [
    {
     "name": "stdout",
     "output_type": "stream",
     "text": [
      "0b1111\n",
      "15\n",
      "0b111\n",
      "7\n"
     ]
    }
   ],
   "source": [
    "b = 0b1111\n",
    "print(bin(b))\n",
    "print(b)\n",
    "b >>= 1\n",
    "print(bin(b))\n",
    "print(b)"
   ]
  },
  {
   "cell_type": "markdown",
   "metadata": {},
   "source": [
    "$$\n",
    "\\begin{aligned}\n",
    "\\vee & : \\text{Bitwise OR operation.}\n",
    "\\end{aligned}\n",
    "$$\n",
    "The bitwise exclusive OR operation compares two bits,if the bits are different the result is 1, if the bits are the same the result is 0.\n",
    "\n",
    "https://python-reference.readthedocs.io/en/latest/docs/operators/bitwise_XOR.html"
   ]
  },
  {
   "cell_type": "code",
   "execution_count": 10,
   "metadata": {},
   "outputs": [
    {
     "name": "stdout",
     "output_type": "stream",
     "text": [
      "0b100\n",
      "0b11\n",
      "0b111\n"
     ]
    }
   ],
   "source": [
    "x = bin(4)\n",
    "print(x)\n",
    "y = bin(3)\n",
    "print(y)\n",
    "z = int(x, 2) ^ int(y, 2)\n",
    "print(bin(z))"
   ]
  },
  {
   "cell_type": "code",
   "execution_count": 11,
   "metadata": {},
   "outputs": [
    {
     "name": "stdout",
     "output_type": "stream",
     "text": [
      "0b1000\n",
      "0b1000\n",
      "0b0\n"
     ]
    }
   ],
   "source": [
    "x = bin(8)\n",
    "print(x)\n",
    "y = bin(8)\n",
    "print(y)\n",
    "z = int(x, 2) ^ int(y, 2)\n",
    "print(bin(z))"
   ]
  },
  {
   "cell_type": "markdown",
   "metadata": {},
   "source": [
    "https://www.geeksforgeeks.org/python3-program-to-rotate-bits-of-a-number/\n",
    "n will be the number of bits to rotate to the left \n",
    "https://stackoverflow.com/questions/40724597/converting-a-string-which-represents-binary-to-binary-python"
   ]
  },
  {
   "cell_type": "code",
   "execution_count": 17,
   "metadata": {},
   "outputs": [],
   "source": [
    "#def randBinary(w):\n",
    "    # range_start = 10**(w-1)\n",
    "    # range_end = (10**w)-1\n",
    "    # x = randint(range_start, range_end)\n",
    "    # return (x)"
   ]
  },
  {
   "cell_type": "code",
   "execution_count": 4,
   "metadata": {},
   "outputs": [],
   "source": [
    "def rotl(x, n):\n",
    "    return (x << n)|(n >> (32 - n))"
   ]
  },
  {
   "cell_type": "code",
   "execution_count": 14,
   "metadata": {},
   "outputs": [
    {
     "name": "stdout",
     "output_type": "stream",
     "text": [
      "Bit width: 32, binary number to be rotated: 0b1111011101101000100000100001000, number of rotations: 2\n",
      "Rotated value: 0b111101110110100010000010000100000\n"
     ]
    }
   ],
   "source": [
    "w = 32\n",
    "x = getrandbits(w)\n",
    "n = 2\n",
    "print(f\"Bit width: {w}, binary number to be rotated: {bin(x)}, number of rotations: {n}\")\n",
    "left_rotate_x = bin(rotl(x, n))\n",
    "print(f\"Rotated value: {left_rotate_x}\")"
   ]
  },
  {
   "cell_type": "markdown",
   "metadata": {},
   "source": []
  },
  {
   "cell_type": "markdown",
   "metadata": {
    "vscode": {
     "languageId": "plaintext"
    }
   },
   "source": [
    "## Task 2: Hash Functions"
   ]
  },
  {
   "cell_type": "markdown",
   "metadata": {},
   "source": []
  },
  {
   "cell_type": "markdown",
   "metadata": {
    "vscode": {
     "languageId": "plaintext"
    }
   },
   "source": [
    "## Task 3: SHA256"
   ]
  },
  {
   "cell_type": "code",
   "execution_count": null,
   "metadata": {},
   "outputs": [],
   "source": []
  },
  {
   "cell_type": "markdown",
   "metadata": {
    "vscode": {
     "languageId": "plaintext"
    }
   },
   "source": [
    "## Task 4: Prime Numbers"
   ]
  },
  {
   "cell_type": "code",
   "execution_count": null,
   "metadata": {},
   "outputs": [],
   "source": []
  },
  {
   "cell_type": "markdown",
   "metadata": {},
   "source": [
    "## Task 5: Roots\n"
   ]
  },
  {
   "cell_type": "code",
   "execution_count": null,
   "metadata": {},
   "outputs": [],
   "source": []
  },
  {
   "cell_type": "markdown",
   "metadata": {},
   "source": [
    "## Task 6: Proof of Work"
   ]
  },
  {
   "cell_type": "code",
   "execution_count": null,
   "metadata": {},
   "outputs": [],
   "source": []
  },
  {
   "cell_type": "markdown",
   "metadata": {},
   "source": [
    "## Task 7: Turing Machines"
   ]
  },
  {
   "cell_type": "code",
   "execution_count": null,
   "metadata": {},
   "outputs": [],
   "source": []
  },
  {
   "cell_type": "markdown",
   "metadata": {},
   "source": [
    "## Task 8: Computational Complexity"
   ]
  }
 ],
 "metadata": {
  "kernelspec": {
   "display_name": "Python 3",
   "language": "python",
   "name": "python3"
  },
  "language_info": {
   "codemirror_mode": {
    "name": "ipython",
    "version": 3
   },
   "file_extension": ".py",
   "mimetype": "text/x-python",
   "name": "python",
   "nbconvert_exporter": "python",
   "pygments_lexer": "ipython3",
   "version": "3.12.1"
  }
 },
 "nbformat": 4,
 "nbformat_minor": 2
}
