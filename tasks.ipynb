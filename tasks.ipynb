{
 "cells": [
  {
   "cell_type": "markdown",
   "metadata": {},
   "source": [
    "# Computational Theory Tasks"
   ]
  },
  {
   "cell_type": "code",
   "execution_count": 3,
   "metadata": {},
   "outputs": [],
   "source": [
    "# Imports for explanation of ROTL function and generating random binary integers.\n",
    "from random import randint,getrandbits\n",
    "import os\n",
    "import itertools\n",
    "import math\n",
    "import numpy"
   ]
  },
  {
   "cell_type": "markdown",
   "metadata": {},
   "source": [
    "## Task 1: Binary Representations"
   ]
  },
  {
   "cell_type": "markdown",
   "metadata": {},
   "source": [
    "### ROTL n^(x) Function\n",
    "The ROTL function as defined in [FIPS PUB 180-4](https://nvlpubs.nist.gov/nistpubs/FIPS/NIST.FIPS.180-4.pdf) \n",
    " page 5. <br>\n",
    "$$\n",
    "\\text{ROTL}^{n}(x) = (x \\ll n) \\vee (x \\gg w - n)\n",
    "$$\n",
    "<br>\n",
    "\n",
    "$$\n",
    "\\begin{aligned}\n",
    "x & : \\text{A word of length } w \\text{ (a binary number with } w \\text{ bits).} \\\\\n",
    "n & : \\text{The number of positions to rotate left, where } 0 \\leq n < w. \\\\\n",
    "w & : \\text{The total bit-length of the word } x. \\\\\n",
    "\\ll & : \\text{Left shift operation.} \\\\\n",
    "\\gg & : \\text{Right shift operation.} \\\\\n",
    "\\vee & : \\text{Bitwise OR operation.}\n",
    "\\end{aligned}\n",
    "$$\n",
    "\n",
    "\n",
    "\n",
    "\n"
   ]
  },
  {
   "cell_type": "markdown",
   "metadata": {},
   "source": [
    "#### ROTL n^(x) Function variable explanation"
   ]
  },
  {
   "cell_type": "markdown",
   "metadata": {},
   "source": [
    "X is a binary number whos length will be determined by by the bits (W). <br>\n",
    "so we have a rough implementation below demonstrating the relationship between x and w. W  determing the length of the a binary number (x). <br><br>\n",
    "[Generate a number with x amount of digits](https://stackoverflow.com/questions/2673385/how-to-generate-a-random-number-with-a-specific-amount-of-digits) <br>\n",
    "[Convert a value to its binary value](https://docs.python.org/3/library/functions.html#bin) <br>\n",
    "[Convert a number to a binary value of fixed length](https://stackoverflow.com/questions/3252528/converting-a-number-to-binary-with-a-fixed-length)"
   ]
  },
  {
   "cell_type": "markdown",
   "metadata": {},
   "source": [
    "This is going to determine the number of bits in a value."
   ]
  },
  {
   "cell_type": "code",
   "execution_count": 4,
   "metadata": {},
   "outputs": [],
   "source": [
    "# Bit width.\n",
    "w = 4"
   ]
  },
  {
   "cell_type": "markdown",
   "metadata": {},
   "source": [
    "Here I am using the randint method as part of pythons random libary to get a random integer betweewn 0 and (2** w) -1. <br>\n",
    "If we take w = 4 and raise this by the ** 2 (power of 2) we get 16, 16-1 = 15. <br>\n",
    "The binary representation of 15 is 1111, which is the highest binary representation a bit value can have of length 4.<br>\n",
    "[randint usage](https://docs.python.org/3/library/random.html#module-random)"
   ]
  },
  {
   "cell_type": "code",
   "execution_count": 5,
   "metadata": {},
   "outputs": [
    {
     "data": {
      "text/plain": [
       "10"
      ]
     },
     "execution_count": 5,
     "metadata": {},
     "output_type": "execute_result"
    }
   ],
   "source": [
    "# Generate a pseduo-random integer with a maximum bit length of w.\n",
    "num = randint(0, (2 ** w) - 1)\n",
    "num"
   ]
  },
  {
   "cell_type": "markdown",
   "metadata": {},
   "source": [
    "Pythons in-built bin method is used to convert the pseudo-random integer(of bit length w) to binary representation as a String. <br>\n",
    "[Bin usage](https://docs.python.org/3/library/functions.html#bin) "
   ]
  },
  {
   "cell_type": "code",
   "execution_count": 6,
   "metadata": {},
   "outputs": [
    {
     "name": "stdout",
     "output_type": "stream",
     "text": [
      "0b1010\n"
     ]
    }
   ],
   "source": [
    "# Convert integer into string binary representation.\n",
    "bin_num_str = bin(num)\n",
    "print(bin_num_str)\n",
    "\n"
   ]
  },
  {
   "cell_type": "markdown",
   "metadata": {},
   "source": [
    "N is the number of postions to rotate by. <br> If we take  w = 4, x = 0010 and  and n as 1, then x should will equal to 0100 <br>\n",
    "If we we take w = 4, x = 1000 and n=1 then x will equal to 0001 <br>"
   ]
  },
  {
   "cell_type": "markdown",
   "metadata": {},
   "source": [
    "$$\n",
    "\\begin{aligned}\n",
    "\\ll & : \\text{Left shift operation.} \\\\\n",
    "\\end{aligned}\n",
    "$$\n",
    "\n",
    "The bitwise left shift operator shifts all the bits of a value to the left by a specfied number of places.\n",
    "Bits shifted out from the left most value are discarded if shift size > bit width.\n",
    "Zeros are appeneded to the right to fill in empty values from the shift.\n",
    "\n",
    "[Left Shift](https://python-reference.readthedocs.io/en/latest/docs/operators/bitwise_left_shift_assignment.html)\n",
    "\n"
   ]
  },
  {
   "cell_type": "markdown",
   "metadata": {},
   "source": [
    "Bitwise left shift operator example pre left shift."
   ]
  },
  {
   "cell_type": "code",
   "execution_count": 7,
   "metadata": {},
   "outputs": [
    {
     "name": "stdout",
     "output_type": "stream",
     "text": [
      "0b1\n",
      "1\n"
     ]
    }
   ],
   "source": [
    "# Variable for 1.\n",
    "b = 1\n",
    "# Print binary value of b to screen.\n",
    "print(bin(b))\n",
    "# Print b to screen.\n",
    "print(b)\n",
    "\n"
   ]
  },
  {
   "cell_type": "markdown",
   "metadata": {},
   "source": [
    "Bitwise left shift operator example post left shift."
   ]
  },
  {
   "cell_type": "code",
   "execution_count": 8,
   "metadata": {},
   "outputs": [
    {
     "name": "stdout",
     "output_type": "stream",
     "text": [
      "0b10\n",
      "2\n"
     ]
    }
   ],
   "source": [
    "# Apply bitwise left shift to b.\n",
    "b <<= 1\n",
    "# Print the new binary value of b.\n",
    "print(bin(b))\n",
    "# Print the new integer value of b.\n",
    "print(b)"
   ]
  },
  {
   "cell_type": "markdown",
   "metadata": {},
   "source": [
    "\n",
    "$$\n",
    "\\begin{aligned}\n",
    "\\gg & : \\text{Right shift operation.} \\\\\n",
    "\\end{aligned}\n",
    "$$\n",
    "\n",
    "The bitwise right shift operator shifts all the bits of a value to the right by a specfied number of places.\n",
    "Bits shifted out from the right most value are discarded if shift size > bit width.\n",
    "Zeros are appeneded to the left to fill in unsigned integers from the shift.\n",
    "\n",
    "[Right Shift](https://python-reference.readthedocs.io/en/latest/docs/operators/bitwise_right_shift_assignment.html)"
   ]
  },
  {
   "cell_type": "markdown",
   "metadata": {},
   "source": [
    "Bitwise right shift operator example pre right shift."
   ]
  },
  {
   "cell_type": "code",
   "execution_count": 9,
   "metadata": {},
   "outputs": [
    {
     "name": "stdout",
     "output_type": "stream",
     "text": [
      "0b1111\n",
      "15\n"
     ]
    }
   ],
   "source": [
    "# Variable for 15.\n",
    "b = 15\n",
    "# Binary value 15.\n",
    "print(bin(b))\n",
    "# Print 15 to screen.\n",
    "print(b)"
   ]
  },
  {
   "cell_type": "markdown",
   "metadata": {},
   "source": [
    "Bitwise right shift operator example pre right shift."
   ]
  },
  {
   "cell_type": "code",
   "execution_count": 10,
   "metadata": {},
   "outputs": [
    {
     "name": "stdout",
     "output_type": "stream",
     "text": [
      "0b111\n",
      "7\n"
     ]
    }
   ],
   "source": [
    "\n",
    "# Apply bitwise left shift to b.\n",
    "b >>= 1\n",
    "# Print b's new binary value.\n",
    "print(bin(b))\n",
    "# Print b's new integer value.\n",
    "print(b)"
   ]
  },
  {
   "cell_type": "markdown",
   "metadata": {},
   "source": [
    "$$\n",
    "\\begin{aligned}\n",
    "\\vee & : \\text{Bitwise OR operation.}\n",
    "\\end{aligned}\n",
    "$$\n",
    "The bitwise exclusive OR operation compares two bits,if the bits are different the result is 1, if the bits are the same the result is 0.\n",
    "\n",
    "[XOR](https://python-reference.readthedocs.io/en/latest/docs/operators/bitwise_XOR.html)"
   ]
  },
  {
   "cell_type": "markdown",
   "metadata": {},
   "source": [
    "First value to be compared."
   ]
  },
  {
   "cell_type": "code",
   "execution_count": 11,
   "metadata": {},
   "outputs": [
    {
     "name": "stdout",
     "output_type": "stream",
     "text": [
      "0b100\n"
     ]
    }
   ],
   "source": [
    "# Varaible to store binary value of 4.\n",
    "x = bin(4)\n",
    "# Print binary value to screen.\n",
    "print(x)"
   ]
  },
  {
   "cell_type": "markdown",
   "metadata": {},
   "source": [
    "Second value to be compared."
   ]
  },
  {
   "cell_type": "code",
   "execution_count": 12,
   "metadata": {},
   "outputs": [
    {
     "name": "stdout",
     "output_type": "stream",
     "text": [
      "0b11\n"
     ]
    }
   ],
   "source": [
    "# Binary value of 3.\n",
    "y = bin(3)\n",
    "# Print binary value to screen.\n",
    "print(y)"
   ]
  },
  {
   "cell_type": "markdown",
   "metadata": {},
   "source": [
    "The 2 binary values are converted to there integer counterparts and then XOR operator is applied."
   ]
  },
  {
   "cell_type": "code",
   "execution_count": 13,
   "metadata": {},
   "outputs": [
    {
     "name": "stdout",
     "output_type": "stream",
     "text": [
      "0b111\n"
     ]
    }
   ],
   "source": [
    "# Apply XOR to the first and second values to be compared.\n",
    "z = int(x, 2) ^ int(y, 2)\n",
    "# Print the result to the screen.\n",
    "print(bin(z))"
   ]
  },
  {
   "cell_type": "markdown",
   "metadata": {},
   "source": [
    "As x = 100 and y is 11, leading 0's does not change a binary value, we can treat y as 011, as atleast 1 bit as a different value <br>\n",
    "the result of this operation is 111."
   ]
  },
  {
   "cell_type": "markdown",
   "metadata": {},
   "source": [
    " Rough work for generating a random binary number of bit width w, prior to my discovery of getrandbits method from the random package."
   ]
  },
  {
   "cell_type": "code",
   "execution_count": 14,
   "metadata": {},
   "outputs": [],
   "source": [
    "#def randBinary(w):\n",
    "    # range_start = 10**(w-1)\n",
    "    # range_end = (10**w)-1\n",
    "    # x = randint(range_start, range_end)\n",
    "    # return (x)"
   ]
  },
  {
   "cell_type": "markdown",
   "metadata": {},
   "source": []
  },
  {
   "cell_type": "code",
   "execution_count": 15,
   "metadata": {},
   "outputs": [],
   "source": [
    "# Implementation of The function rotl(x, n=1) that rotates the bits in a 32-bit unsigned integer to the left n places.\n",
    "def rotl(x, n=1):\n",
    "    # Print formated bit width and function paramters to screen.\n",
    "    print(f\"Bit width: 32, binary number to be rotated: {bin(x)}, number of rotations: {n}\")\n",
    "    # Returns left rotated value\n",
    "    return (x << n)|(x >> (32 - n)) & 0xFFFFFFFF"
   ]
  },
  {
   "cell_type": "markdown",
   "metadata": {},
   "source": [
    "Genearting a random binary value of length w to be passed in as a paramter to the ROTLF implementation."
   ]
  },
  {
   "cell_type": "code",
   "execution_count": 16,
   "metadata": {},
   "outputs": [
    {
     "name": "stdout",
     "output_type": "stream",
     "text": [
      "7\n"
     ]
    }
   ],
   "source": [
    "# Generates a pseudorandom 4 bit value.\n",
    "new_x = getrandbits(w)\n",
    "print(new_x)"
   ]
  },
  {
   "cell_type": "markdown",
   "metadata": {},
   "source": [
    "Invokes ROTLF implementation with pseudo random binary value."
   ]
  },
  {
   "cell_type": "code",
   "execution_count": 17,
   "metadata": {},
   "outputs": [
    {
     "name": "stdout",
     "output_type": "stream",
     "text": [
      "Bit width: 32, binary number to be rotated: 0b111, number of rotations: 2\n",
      "Rotated value: 0b11100\n"
     ]
    }
   ],
   "source": [
    "# Calls ROTLF function and stores result.\n",
    "left_rotate_new_x = bin(rotl(new_x,2))\n",
    "# Prints formated result to screen.\n",
    "print(f\"Rotated value: {left_rotate_new_x}\")"
   ]
  },
  {
   "cell_type": "markdown",
   "metadata": {},
   "source": []
  },
  {
   "cell_type": "markdown",
   "metadata": {
    "vscode": {
     "languageId": "plaintext"
    }
   },
   "source": [
    "## Task 2: Hash Functions"
   ]
  },
  {
   "cell_type": "markdown",
   "metadata": {},
   "source": []
  },
  {
   "cell_type": "markdown",
   "metadata": {
    "vscode": {
     "languageId": "plaintext"
    }
   },
   "source": [
    "## Task 3: SHA256"
   ]
  },
  {
   "cell_type": "markdown",
   "metadata": {},
   "source": [
    "Below is my python implementation of padding stage for SHA-256 preprocessing.  \n",
    "This implementation follows the guidelines outlined in  [SHA-256 Padding Page 5 Section 5.1 - 5.11](https://doi.org/10.6028/NIST.FIPS.180-4)  \n",
    "which defines the padding process for the SHA-256 encrpytion standard.    \n"
   ]
  },
  {
   "cell_type": "markdown",
   "metadata": {},
   "source": [
    " As per [SHA-256 Padding Page 5 Section 5.1.1](https://doi.org/10.6028/NIST.FIPS.180-4) the padding formula can be defined as follows : \n",
    "$$\n",
    "(\\lambda + 1 + k) = 448 \\mod 512\n",
    "$$  \n",
    "$$\n",
    "\\begin{aligned}\n",
    "\\lambda & : \\text{The length of orginal original in bits} \\\\\n",
    "k & : \\text{The number of zero bits appended to the message after the initial 1 bit} \n",
    "\\end{aligned}\n",
    "$$  \n",
    "During pre-processing a single 1 bit is appeneded to seperate the message from the padding. This is followed by a number of 0 bits (k) until the message is 448 bits mod 512. Finally the message length in bits  is stored as 64 bit integer guaranteeing the message length is a multiple of 512 bits. This completes the pre-processing and making the message ready for hashing."
   ]
  },
  {
   "cell_type": "markdown",
   "metadata": {},
   "source": [
    "If we take an example string of 'abc'."
   ]
  },
  {
   "cell_type": "code",
   "execution_count": 18,
   "metadata": {},
   "outputs": [
    {
     "name": "stdout",
     "output_type": "stream",
     "text": [
      "abc\n"
     ]
    }
   ],
   "source": [
    "pad_example = 'abc'\n",
    "print(pad_example)"
   ]
  },
  {
   "cell_type": "markdown",
   "metadata": {},
   "source": [
    "Then we convert 'abc' to a byte string using pythons in-built encode method.\n",
    "[encode method usage](https://python-reference.readthedocs.io/en/latest/docs/str/encode.html).  \n",
    "We do this to computate the bit-length."
   ]
  },
  {
   "cell_type": "code",
   "execution_count": 19,
   "metadata": {},
   "outputs": [
    {
     "name": "stdout",
     "output_type": "stream",
     "text": [
      "b'abc'\n"
     ]
    }
   ],
   "source": [
    "# Convert string to byte string.\n",
    "pad_example_bytes = pad_example.encode()\n",
    "# Print string to screen.\n",
    "print(pad_example_bytes)"
   ]
  },
  {
   "cell_type": "markdown",
   "metadata": {},
   "source": [
    "This calculates the length of the byte String in bits. We know each byte is 8 bits so if we multiply the length of the byte string by 8 we will have the bit length of the byte string. We are doing this so we can calculate how much padding is needed to make the total bit length a multiple of 512."
   ]
  },
  {
   "cell_type": "code",
   "execution_count": 20,
   "metadata": {},
   "outputs": [
    {
     "name": "stdout",
     "output_type": "stream",
     "text": [
      "24\n"
     ]
    }
   ],
   "source": [
    "# Calculate the bit length of the example byte string. \n",
    "pad_example_bit_len = len(pad_example_bytes) * 8\n",
    "# Print bit length to screen.\n",
    "print(pad_example_bit_len)"
   ]
  },
  {
   "cell_type": "markdown",
   "metadata": {},
   "source": [
    "this would make $ \\lambda $ (message bit length)  = 24 and leaving us to solve for k (padding required). so we will take the equation used above and modify with our values to solve for k.\n",
    "\n",
    "$$\n",
    "k = (448 - (\\lambda + 1)) \\mod 512\n",
    "$$\n"
   ]
  },
  {
   "cell_type": "markdown",
   "metadata": {},
   "source": [
    "python implementation of modified padding formuala to determine number of 0 bits to appened."
   ]
  },
  {
   "cell_type": "code",
   "execution_count": 21,
   "metadata": {},
   "outputs": [
    {
     "name": "stdout",
     "output_type": "stream",
     "text": [
      "423\n"
     ]
    }
   ],
   "source": [
    "# Calculate number of 0 bits to pad the example byte string.\n",
    "padding_bits_example = (448 - (pad_example_bit_len + 1)) % 512\n",
    "# Print the number of 0 bits.\n",
    "print(padding_bits_example)"
   ]
  },
  {
   "cell_type": "markdown",
   "metadata": {},
   "source": [
    "Adding a 1 bit to the byte string [as per 5.1.2 pg 13 ](https://nvlpubs.nist.gov/nistpubs/FIPS/NIST.FIPS.180-4.pdf)."
   ]
  },
  {
   "cell_type": "code",
   "execution_count": 22,
   "metadata": {},
   "outputs": [
    {
     "name": "stdout",
     "output_type": "stream",
     "text": [
      "4\n"
     ]
    }
   ],
   "source": [
    "# Pad byte String with 1 bit.\n",
    "padded_message = pad_example_bytes + b'\\x80'\n",
    "# Print the length of the byte String.\n",
    "print(len(padded_message))"
   ]
  },
  {
   "cell_type": "markdown",
   "metadata": {},
   "source": [
    "Add 0 bits until the padded message length is 64 bits short of 512 bits."
   ]
  },
  {
   "cell_type": "code",
   "execution_count": 23,
   "metadata": {},
   "outputs": [
    {
     "name": "stdout",
     "output_type": "stream",
     "text": [
      "56\n"
     ]
    }
   ],
   "source": [
    "# Loop until the length is 64 bits short 512 bits.\n",
    "while(len(padded_message) * 8) % 512 != 448:\n",
    "    # Appened 0 bit to the byte string.\n",
    "    padded_message += b'\\x00'\n",
    "# Print the length of the padded message to the screen.    \n",
    "print(len(padded_message))"
   ]
  },
  {
   "cell_type": "markdown",
   "metadata": {},
   "source": [
    "Convert the bit value of the message to be padded big-endian byte format."
   ]
  },
  {
   "cell_type": "code",
   "execution_count": 24,
   "metadata": {},
   "outputs": [
    {
     "name": "stdout",
     "output_type": "stream",
     "text": [
      "8\n"
     ]
    }
   ],
   "source": [
    "# Convert byte string to big-endian format.\n",
    "pad_example_length_bytes = pad_example_bit_len.to_bytes(8, 'big')\n",
    "\n",
    "# Print the lenght of the byte String.\n",
    "print(len(pad_example_length_bytes))"
   ]
  },
  {
   "cell_type": "markdown",
   "metadata": {},
   "source": [
    "Add the the 64 bit integer to the padded message."
   ]
  },
  {
   "cell_type": "code",
   "execution_count": 25,
   "metadata": {},
   "outputs": [
    {
     "name": "stdout",
     "output_type": "stream",
     "text": [
      "64\n"
     ]
    }
   ],
   "source": [
    "padded_message += pad_example_length_bytes\n",
    "print(len(padded_message))"
   ]
  },
  {
   "cell_type": "markdown",
   "metadata": {},
   "source": [
    "Output the value in hex."
   ]
  },
  {
   "cell_type": "code",
   "execution_count": 26,
   "metadata": {},
   "outputs": [
    {
     "name": "stdout",
     "output_type": "stream",
     "text": [
      "61626380000000000000000000000000000000000000000000000000000000000000000000000000000000000000000000000000000000000000000000000018\n"
     ]
    }
   ],
   "source": [
    "# Print the padded value in hex to the screen\n",
    "print(padded_message.hex())"
   ]
  },
  {
   "cell_type": "markdown",
   "metadata": {},
   "source": [
    "this was a rough implementation to calculate the number of 0 bits to be appeneded"
   ]
  },
  {
   "cell_type": "code",
   "execution_count": 27,
   "metadata": {},
   "outputs": [],
   "source": [
    "def sha256PaddingRough(filePath):\n",
    "    fileBitSize = (os.path.getsize(filePath)) * 8\n",
    "    print(fileBitSize)\n",
    "\n",
    "    remainder = fileBitSize % 512\n",
    "    print(remainder)\n",
    "\n",
    "    padding = 512 - remainder\n",
    "    print(padding)\n",
    "\n",
    "    result = fileBitSize + padding + 64\n",
    "    print(result)"
   ]
  },
  {
   "cell_type": "markdown",
   "metadata": {},
   "source": [
    "Below we have a list of constants required for the sha-256 padding."
   ]
  },
  {
   "cell_type": "code",
   "execution_count": 28,
   "metadata": {},
   "outputs": [],
   "source": [
    "APPENDED_PADDING_BYTE = b'\\x80'\n",
    "PADDING_BLOCK_SIZE = 64\n",
    "ZERO_PADDING_SIZE = 56\n",
    "BYTE_LENGTH = 8\n",
    "APPENDED_ZERO_PADDING_BYTE = b'\\x00'"
   ]
  },
  {
   "cell_type": "markdown",
   "metadata": {},
   "source": [
    "This is a helper function to print out the binary values for the contents of a file."
   ]
  },
  {
   "cell_type": "code",
   "execution_count": 29,
   "metadata": {},
   "outputs": [],
   "source": [
    "# Takes a file path as a paramter/\n",
    "def binary_contents(file_path):\n",
    "    # Open the file and treat it as binary.\n",
    "    with open(file_path, 'rb') as file:\n",
    "        # Store the binary file content in a variable.\n",
    "        binary_content = file.read()\n",
    "    \n",
    "    # Print the binary values of each byte.\n",
    "    print(\"Binary values of each byte before padding:\")\n",
    "    print(' '.join(map(lambda byte: f\"{byte:08b}\", binary_content)))\n",
    "    return binary_content\n",
    "    "
   ]
  },
  {
   "cell_type": "markdown",
   "metadata": {},
   "source": [
    "Helper function to print the padding blocks to be applied to a byte string."
   ]
  },
  {
   "cell_type": "code",
   "execution_count": 30,
   "metadata": {},
   "outputs": [],
   "source": [
    "# takes a a byte String paramter.\n",
    "def byte_chunker(padding):\n",
    "    # Split the padding into 8 byte chunks\n",
    "    chunks = [padding[i:i+8].hex().upper() for i in range(0, len(padding), 8)]\n",
    "    # Format so that each chunk is on a new line.\n",
    "    formatted_chunks = '\\n'.join([f\"padding block: {i}: {chunk}\" for i, chunk in enumerate(chunks, 1)])\n",
    "    # Print formatted chunk to screen.\n",
    "    print(formatted_chunks)\n"
   ]
  },
  {
   "cell_type": "markdown",
   "metadata": {},
   "source": [
    "This is the python implementation of the SHA-256 padding formula."
   ]
  },
  {
   "cell_type": "code",
   "execution_count": 31,
   "metadata": {},
   "outputs": [],
   "source": [
    "# Takes a file path as a parameter\n",
    "def sha256Padding(file_Path):\n",
    "    \n",
    "    # Prints the binary values to the screen.\n",
    "    data_bin = binary_contents(file_Path)\n",
    "    \n",
    "    # Calculates the file size in bits.\n",
    "    file_size_bit = len(data_bin) * BYTE_LENGTH\n",
    "\n",
    "    # Number of 0 bits to append.\n",
    "    needed_padding = (ZERO_PADDING_SIZE - ((file_size_bit + 1 + 64) % PADDING_BLOCK_SIZE)) % PADDING_BLOCK_SIZE\n",
    "\n",
    "    # Create padding value.\n",
    "    padding = APPENDED_PADDING_BYTE + APPENDED_ZERO_PADDING_BYTE * needed_padding + file_size_bit.to_bytes(BYTE_LENGTH, 'big')\n",
    "\n",
    "    # Print out padding blocks.\n",
    "    byte_chunker(padding)\n",
    "\n",
    "    # Print out padded value hex.\n",
    "    print(\"Unfromated padded value: \" + padding.hex())\n"
   ]
  },
  {
   "cell_type": "code",
   "execution_count": 32,
   "metadata": {},
   "outputs": [
    {
     "name": "stdout",
     "output_type": "stream",
     "text": [
      "Binary values of each byte before padding:\n",
      "01100001 01100010 01100011\n",
      "padding block: 1: 8000000000000000\n",
      "padding block: 2: 0000000000000000\n",
      "padding block: 3: 0000000000000000\n",
      "padding block: 4: 0000000000000000\n",
      "padding block: 5: 0000000000000018\n",
      "Unfromated padded value: 80000000000000000000000000000000000000000000000000000000000000000000000000000018\n"
     ]
    }
   ],
   "source": [
    "# Create padded value.\n",
    "sha256Padding('example.txt')"
   ]
  },
  {
   "cell_type": "markdown",
   "metadata": {
    "vscode": {
     "languageId": "plaintext"
    }
   },
   "source": [
    "## Task 4: Prime Numbers"
   ]
  },
  {
   "cell_type": "markdown",
   "metadata": {},
   "source": [
    "Calculate the first 100 prime numbers using two different algorithms.  \n",
    "Any algorithms that are well-established and works correctly are okay to use.  \n",
    "Explain how the algorithms work.  "
   ]
  },
  {
   "cell_type": "markdown",
   "metadata": {},
   "source": [
    "What is a prime number?\n",
    "A prime number can be defined as a natural number greater then 1 that can only be divided evenly by itself and 1. "
   ]
  },
  {
   "cell_type": "markdown",
   "metadata": {},
   "source": [
    "What is a composite number? A composite number is a natural number greather then 1 that can only be divided evenly by atleast one number other then itself and one."
   ]
  },
  {
   "cell_type": "markdown",
   "metadata": {},
   "source": [
    "Algorithm 1: [The Sieve of Eratosthenes](https://blngcc.wordpress.com/wp-content/uploads/2008/11/hardy-wright-theory_of_numbers.pdf)\n",
    "The Sieve of Eratosthenes starts with a list of numbers from 1 - N. Beginning with 2, it crosses out all multiples of 2. It then moves to the next prime number and repeats the process of crossing out its multiples, This continues until reaching the square root of N."
   ]
  },
  {
   "cell_type": "markdown",
   "metadata": {},
   "source": [
    "why do we start with 2?\n",
    "We start with 2 as it is the samallest prime number."
   ]
  },
  {
   "cell_type": "markdown",
   "metadata": {},
   "source": [
    "Why do we cross out multiples?\n",
    "If 2 is prime but its multiples (4,6,8...) can be divided by 2 they are not prime as they can divided by factors other then 1 and themselves."
   ]
  },
  {
   "cell_type": "markdown",
   "metadata": {},
   "source": [
    "why stop do we use the square root of N and why stop there?.\n",
    "If we take N to be 25."
   ]
  },
  {
   "cell_type": "markdown",
   "metadata": {},
   "source": [
    "[The Sieve of Eratosthenes](https://www.cs.ucdavis.edu/~amenta/s05/sievenotes.pdf)"
   ]
  },
  {
   "cell_type": "markdown",
   "metadata": {},
   "source": [
    "IF we take pseudo-code implementation in the notes above.  \n",
    "For (i = 2 to (a − 1) )  \n",
    "    If (n[i] 6 = ∅)  \n",
    "        j = 2  \n",
    "        while ( j n[i] < a )  \n",
    "            n[ j n[i] ] = ∅  \n",
    "            j = j + 1  "
   ]
  },
  {
   "cell_type": "code",
   "execution_count": 33,
   "metadata": {},
   "outputs": [],
   "source": [
    "# Rough implementation of the Sieve of Eratosthenes algorithm.\n",
    "def rough_work_SOE(a):\n",
    "    # Intialize Empty list to store prime numbers after sieving.\n",
    "    primes = []\n",
    "\n",
    "    # Populate a list of size a with True values.\n",
    "    n = [True] * a\n",
    "\n",
    "    # Start sieving from the first prime number (2) to the upper bound\n",
    "    for i in range (2, int(math.sqrt(a)+1)):\n",
    "\n",
    "        # Check if the value at index i is True.\n",
    "        if n[i]:\n",
    "\n",
    "            # Square the index.\n",
    "            j = i * i\n",
    "\n",
    "            # Loop while the squared index is less than the upper bound.\n",
    "            while j < a:\n",
    "\n",
    "                # Mark j as composite.\n",
    "                n[j] = False\n",
    "\n",
    "                # Move to next multiple of i.\n",
    "                j += i\n",
    "\n",
    "    # loop from the 2 (1st prime) to the upper bound.\n",
    "    for i in range(2, a):\n",
    "        \n",
    "        # Check if the value at index i is True.\n",
    "        if n[i]:\n",
    "\n",
    "            # Append the prime number to the list of primes.\n",
    "            primes.append(i)\n",
    "\n",
    "    # Return populated list.\n",
    "    return primes\n",
    "                    "
   ]
  },
  {
   "cell_type": "code",
   "execution_count": 34,
   "metadata": {},
   "outputs": [],
   "source": [
    "a = 10\n",
    "b = 100000000"
   ]
  },
  {
   "cell_type": "code",
   "execution_count": 35,
   "metadata": {},
   "outputs": [],
   "source": [
    "primes = rough_work_SOE(a)"
   ]
  },
  {
   "cell_type": "code",
   "execution_count": 36,
   "metadata": {},
   "outputs": [],
   "source": [
    "largePrimes = rough_work_SOE(b)"
   ]
  },
  {
   "cell_type": "code",
   "execution_count": 37,
   "metadata": {},
   "outputs": [
    {
     "name": "stdout",
     "output_type": "stream",
     "text": [
      "prime numbers less than 10: [2, 3, 5, 7]\n"
     ]
    }
   ],
   "source": [
    "print(f\"prime numbers less than {a}: {primes}\")"
   ]
  },
  {
   "cell_type": "code",
   "execution_count": 38,
   "metadata": {},
   "outputs": [
    {
     "name": "stdout",
     "output_type": "stream",
     "text": [
      "prime numbers less than 100000000: [2, 3, 5, 7, 11, 13, 17, 19, 23, 29]\n"
     ]
    }
   ],
   "source": [
    "print(f\"prime numbers less than {b}: {largePrimes[:10]}\")"
   ]
  },
  {
   "cell_type": "markdown",
   "metadata": {},
   "source": [
    "Now here is what I think are some of the problems with that pseudo code and my implementation. \n",
    "For stars this works perfectly fine for generating samller lists of prime numbers  \n",
    "for the first 10 primes it executes in under 1s. But as we start to generate the first 100000000 we \n",
    "start to see between 14-15s for execution time. What I suspect are the causes of this.\n",
    "the nested while loop in the for loop is peforming checks on numbers already marked as non prime,\n",
    "the usage of a python array instead of a numpy array. Looping through the primes at the end to populate an empty array\n",
    "after they have already been generated.\n",
    "bearing this in mind lets we what we can do down below here."
   ]
  },
  {
   "cell_type": "code",
   "execution_count": 39,
   "metadata": {},
   "outputs": [],
   "source": [
    "def sieve_of_eathosthenese(a):\n",
    "    is_prime = numpy.ones(a +1, dtype=bool)\n",
    "\n",
    "    is_prime[:2] = False\n",
    "\n",
    "    for p in range(2, int(math.sqrt(a) + 1)):\n",
    "\n",
    "        if is_prime[p]:\n",
    "\n",
    "            is_prime[p * p::p] = False\n",
    "    \n",
    "    return numpy.nonzero(is_prime)[0]\n",
    "\n",
    "    \n",
    "    \n"
   ]
  },
  {
   "cell_type": "code",
   "execution_count": 40,
   "metadata": {},
   "outputs": [],
   "source": [
    "largerprimes = sieve_of_eathosthenese(b)"
   ]
  },
  {
   "cell_type": "code",
   "execution_count": 41,
   "metadata": {},
   "outputs": [
    {
     "name": "stdout",
     "output_type": "stream",
     "text": [
      "prime numbers less than 100000000: [ 2  3  5  7 11 13 17 19 23 29]\n"
     ]
    }
   ],
   "source": [
    "print(f\"prime numbers less than {b}: {largerprimes[:10]}\")"
   ]
  },
  {
   "cell_type": "markdown",
   "metadata": {},
   "source": [
    "Algorithim 2: [Wheel factorization](https://en.wikipedia.org/wiki/Wheel_factorization):\n",
    "is defined as a \" is a method for generating a sequence of natural numbers by repeated additions, as determined by a number of the first few primes, so that the generated numbers    \n",
    "are coprime with these primes, by construction\"."
   ]
  },
  {
   "cell_type": "markdown",
   "metadata": {},
   "source": [
    "Wheel factorization starts with something called the basis primes which function as the foundation for this algorithim. You will choose a small list intial primes as your basis."
   ]
  },
  {
   "cell_type": "code",
   "execution_count": 42,
   "metadata": {},
   "outputs": [],
   "source": [
    "# Basis primes.\n",
    "inital_primes = [2,3,5]\n",
    "large_intial_primes = [2,3,5,7,11,13,17,19,23,29]"
   ]
  },
  {
   "cell_type": "markdown",
   "metadata": {},
   "source": [
    "We will get the LCM of the basis primes."
   ]
  },
  {
   "cell_type": "code",
   "execution_count": 43,
   "metadata": {},
   "outputs": [
    {
     "name": "stdout",
     "output_type": "stream",
     "text": [
      "30\n"
     ]
    }
   ],
   "source": [
    "\n",
    "# Calculate the LCM of the basis primes and print to screen. \n",
    "lcm_example = math.lcm(*inital_primes)\n",
    "print(lcm_example)"
   ]
  },
  {
   "cell_type": "markdown",
   "metadata": {},
   "source": [
    "This defines a cycle the length of the LCM in this case 30. If we will check the divisability of 30 by the basis primes (2,3,5)."
   ]
  },
  {
   "cell_type": "markdown",
   "metadata": {},
   "source": [
    "Here we define an example function in python that will generate the pattern that forms the basis of the wheel.\n",
    "It takes the basis primes (2,3,5) and their respective LCM (30) as paramters.  \n",
    "It checks from 0-29 what numbers are not divisble by the basis primes.  \n",
    "This pattern returned [1, 7, 11, 13, 17, 19, 23, 29]. This means that  \n",
    "for each cycle there will 8 postions whos values are not divisible by the primes in  \n",
    "the first cylce. Thus in each cycle of 30 we only need to check the values at these 8 postions as the values in the other 22 postions are guranteed to be divisably by atleast 1 of (2,3,5)."
   ]
  },
  {
   "cell_type": "code",
   "execution_count": 44,
   "metadata": {},
   "outputs": [],
   "source": [
    "def example_wheel_pattern(basis_primes, lcm):\n",
    "    # Wheel pattern.\n",
    "    pattern = []\n",
    "\n",
    "    # Loop through the the range of the least common multiple.\n",
    "    for number in range(lcm):\n",
    "        # Check if the number is not divisible by the basis primes.\n",
    "        if all(number % p != 0 for p in basis_primes):\n",
    "            # Append the number to the wheel pattern.\n",
    "            pattern.append(number)\n",
    "    # Return the wheel pattern.\n",
    "    return pattern"
   ]
  },
  {
   "cell_type": "code",
   "execution_count": 45,
   "metadata": {},
   "outputs": [
    {
     "name": "stdout",
     "output_type": "stream",
     "text": [
      "[1, 7, 11, 13, 17, 19, 23, 29]\n"
     ]
    }
   ],
   "source": [
    "# Print the first cycle of the wheel pattern.\n",
    "pattern_exmaple = example_wheel_pattern(inital_primes, lcm_example)\n",
    "print(pattern_exmaple)"
   ]
  },
  {
   "cell_type": "markdown",
   "metadata": {},
   "source": [
    "Why do this at all?  \n",
    "So in the context of this example if we are genearting the first 300 prime  numbers, this would run for 10 cycles, each cycle the length of 30 and 22 possiblilitys elimated from each cycle would me that we have reduced the amount of numbers to be tested for primaility by 73.33 recurring %. which is a huge reduction especially when dealing with the generation of larger prime numbers."
   ]
  },
  {
   "cell_type": "markdown",
   "metadata": {},
   "source": [
    "Trial division implementation for vertifying the primiality of the basis primes and for primaility testing in wheel factorizationn."
   ]
  },
  {
   "cell_type": "code",
   "execution_count": 46,
   "metadata": {},
   "outputs": [],
   "source": [
    "def trial_division(n, primes):\n",
    "    # If the number is less than 2 its not prime.\n",
    "    if n < 2:\n",
    "    # Return False.\n",
    "        return False\n",
    "    # Loop through the primes.\n",
    "    for p in primes:\n",
    "        # If the \n",
    "        if p > math.isqrt(n):\n",
    "            break\n",
    "        # If n is divisbily by any prime it is composite.\n",
    "        if n % p == 0:\n",
    "            return False\n",
    "    # If no prime divides n, then n is prime.\n",
    "    return True"
   ]
  },
  {
   "cell_type": "markdown",
   "metadata": {},
   "source": [
    "Confirming the primiliaty of the basis primes."
   ]
  },
  {
   "cell_type": "code",
   "execution_count": 47,
   "metadata": {},
   "outputs": [],
   "source": [
    "# Run the trial division function on each basis prime candiate.\n",
    "res1 = trial_division(2, [])\n",
    "res2 = trial_division(3, [2])\n",
    "res3 = trial_division(5, [2,3])"
   ]
  },
  {
   "cell_type": "markdown",
   "metadata": {},
   "source": [
    "Print basis primes to screen."
   ]
  },
  {
   "cell_type": "code",
   "execution_count": 48,
   "metadata": {},
   "outputs": [
    {
     "name": "stdout",
     "output_type": "stream",
     "text": [
      "True\n",
      "True\n",
      "True\n"
     ]
    }
   ],
   "source": [
    "# Print of the results of the trial division function.\n",
    "print(res1)\n",
    "print(res2)\n",
    "print(res3)"
   ]
  },
  {
   "cell_type": "markdown",
   "metadata": {},
   "source": [
    "we can now begin a rough implementation of wheel factorization with or basis primes now vertified."
   ]
  },
  {
   "cell_type": "code",
   "execution_count": 49,
   "metadata": {},
   "outputs": [],
   "source": [
    "def rough_work_wf(n, basis_primes):\n",
    "    \n",
    "    # Seed the wheel with the fisrt 3 prime numbers.\n",
    "    primes = [2, 3, 5]\n",
    "\n",
    "    # next number to check for primality.\n",
    "    candidate = 7\n",
    "\n",
    "    # Continue until we have n primes.\n",
    "    while len(primes) < n:\n",
    "        # Check if the candidate is not divisible by the basis primeses.\n",
    "        if all(candidate % p != 0 for p in basis_primes):\n",
    "            # Check if the candidate is prime via trial divsion.\n",
    "            if trial_division(candidate, primes):\n",
    "                # Append the candidate to the wheel.\n",
    "                primes.append(candidate)\n",
    "\n",
    "        # Move to the next candidate.\n",
    "        candidate += 1\n",
    "\n",
    "    # Return the list of primes\n",
    "    return primes"
   ]
  },
  {
   "cell_type": "code",
   "execution_count": 50,
   "metadata": {},
   "outputs": [
    {
     "name": "stdout",
     "output_type": "stream",
     "text": [
      "[2, 3, 5, 7, 11, 13, 17, 19, 23, 29, 31, 37, 41, 43, 47, 53, 59, 61, 67, 71, 73, 79, 83, 89, 97, 101, 103, 107, 109, 113, 127, 131, 137, 139, 149, 151, 157, 163, 167, 173, 179, 181, 191, 193, 197, 199, 211, 223, 227, 229, 233, 239, 241, 251, 257, 263, 269, 271, 277, 281, 283, 293, 307, 311, 313, 317, 331, 337, 347, 349, 353, 359, 367, 373, 379, 383, 389, 397, 401, 409, 419, 421, 431, 433, 439, 443, 449, 457, 461, 463, 467, 479, 487, 491, 499, 503, 509, 521, 523, 541]\n"
     ]
    }
   ],
   "source": [
    "print(rough_work_wf(100, [2,3,5]))"
   ]
  },
  {
   "cell_type": "code",
   "execution_count": 51,
   "metadata": {},
   "outputs": [],
   "source": [
    "def optimized_wf(n, basis_primes):\n",
    "\n",
    "    # Return the first 3 primes.\n",
    "    yield from basis_primes\n",
    "\n",
    "    # Create a list of primes.\n",
    "    current_prime_list = list(basis_primes)\n",
    "\n",
    "    # The next number to check for primality.\n",
    "    candidate = max(basis_primes) + 1\n",
    "\n",
    "    # Number of primes.\n",
    "    count = len(basis_primes)\n",
    "\n",
    "    # Next number to check for primality.\n",
    "    cycle_size = math.lcm(*basis_primes)\n",
    "\n",
    "    # Create a pattern of numbers that aren't divisible by any of the basis primes/\n",
    "    wheel_pattern = [candidate for candidate  in range(cycle_size) if all(candidate  % p != 0 or candidate == p for p in basis_primes)]\n",
    "    \n",
    "    # steps = [] - Ask lecture\n",
    "\n",
    "    # Convert wheel pattern to set.\n",
    "    wheel_positions = set(wheel_pattern)\n",
    "\n",
    "    # Loop till the nth prime number.\n",
    "    while n is None or count < n:\n",
    "\n",
    "        # Checks if the current number is in the wheel pattern.\n",
    "        if candidate % cycle_size in wheel_positions:\n",
    "\n",
    "            # Checks if the candidate is prime via trial division.\n",
    "            if trial_division(candidate, current_prime_list):\n",
    "\n",
    "                # Add the candidate to the list of primes.\n",
    "                current_prime_list.append(candidate)\n",
    "\n",
    "                # Incremnent prime count.\n",
    "                count += 1\n",
    "\n",
    "                # Return primes one at a time.\n",
    "                yield candidate\n",
    "\n",
    "        # Move to the next number.\n",
    "        candidate += 1\n",
    "        "
   ]
  },
  {
   "cell_type": "markdown",
   "metadata": {},
   "source": []
  },
  {
   "cell_type": "code",
   "execution_count": 52,
   "metadata": {},
   "outputs": [
    {
     "name": "stdout",
     "output_type": "stream",
     "text": [
      "[2, 3, 5, 7, 11, 13, 17, 19, 23, 29, 31, 37, 41, 43, 47, 53, 59, 61, 67, 71, 73, 79, 83, 89, 97, 101, 103, 107, 109, 113, 127, 131, 137, 139, 149, 151, 157, 163, 167, 173, 179, 181, 191, 193, 197, 199, 211, 223, 227, 229, 233, 239, 241, 251, 257, 263, 269, 271, 277, 281, 283, 293, 307, 311, 313, 317, 331, 337, 347, 349, 353, 359, 367, 373, 379, 383, 389, 397, 401, 409, 419, 421, 431, 433, 439, 443, 449, 457, 461, 463, 467, 479, 487, 491, 499, 503, 509, 521, 523, 541]\n"
     ]
    }
   ],
   "source": [
    "print(list(optimized_wf(100,[2,3,5])))"
   ]
  },
  {
   "cell_type": "markdown",
   "metadata": {},
   "source": [
    "## Task 5: Roots\n"
   ]
  },
  {
   "cell_type": "markdown",
   "metadata": {},
   "source": [
    "Using the algorithm from the previous task, we generate the first 100 prime numbers."
   ]
  },
  {
   "cell_type": "code",
   "execution_count": 53,
   "metadata": {},
   "outputs": [],
   "source": [
    "# Generate the first 100 primes.\n",
    "first_100_primes = list(optimized_wf(100, [2,3,5]))"
   ]
  },
  {
   "cell_type": "code",
   "execution_count": 54,
   "metadata": {},
   "outputs": [
    {
     "name": "stdout",
     "output_type": "stream",
     "text": [
      "[2, 3, 5, 7, 11, 13, 17, 19, 23, 29]\n"
     ]
    }
   ],
   "source": [
    "# Print a slice of the first 100 primes.\n",
    "print(first_100_primes[:10])"
   ]
  },
  {
   "cell_type": "markdown",
   "metadata": {},
   "source": [
    " [ Python implentation for Calculating the first 32 bits of the fractional part of the square roots of the first 100 prime numbers. ](https://github.com/ianmcloughlin/computational_theory/blob/main/materials/cube_roots.ipynb)"
   ]
  },
  {
   "cell_type": "code",
   "execution_count": 55,
   "metadata": {},
   "outputs": [],
   "source": [
    "# Intilize an empty list to store the fractional part of the square roots of the first 100 primes.\n",
    "frac32 = []"
   ]
  },
  {
   "cell_type": "code",
   "execution_count": 56,
   "metadata": {},
   "outputs": [],
   "source": [
    "# Iterate over each prime number in the first 100 primes.\n",
    "for prime in first_100_primes:\n",
    "\n",
    "    # Compute cube root.\n",
    "    root = prime ** (1/3)\n",
    "\n",
    "    # Modulo 1.\n",
    "    frac = root - int(root)\n",
    "\n",
    "    # Move 32 bits in front of decimal point.\n",
    "    frac = frac * (2**32)\n",
    "\n",
    "    # Convert to integer.\n",
    "    bits = int(frac)\n",
    "\n",
    "    # Append.\n",
    "    frac32.append(bits)"
   ]
  },
  {
   "cell_type": "code",
   "execution_count": 57,
   "metadata": {},
   "outputs": [
    {
     "name": "stdout",
     "output_type": "stream",
     "text": [
      "Prime:      2 -> Bits: 01000010100010100010111110011000\n",
      "Prime:      3 -> Bits: 01110001001101110100010010010001\n",
      "Prime:      5 -> Bits: 10110101110000001111101111001111\n",
      "Prime:      7 -> Bits: 11101001101101011101101110100101\n",
      "Prime:     11 -> Bits: 00111001010101101100001001011011\n",
      "Prime:     13 -> Bits: 01011001111100010001000111110001\n",
      "Prime:     17 -> Bits: 10010010001111111000001010100100\n",
      "Prime:     19 -> Bits: 10101011000111000101111011010101\n",
      "Prime:     23 -> Bits: 11011000000001111010101010011000\n",
      "Prime:     29 -> Bits: 00010010100000110101101100000001\n"
     ]
    }
   ],
   "source": [
    "# Print.\n",
    "for prime, bits in list(zip(first_100_primes, frac32))[:10]:\n",
    "    print(f\"Prime: {prime:6} -> Bits: {bits:032b}\")"
   ]
  },
  {
   "cell_type": "code",
   "execution_count": 58,
   "metadata": {},
   "outputs": [
    {
     "name": "stdout",
     "output_type": "stream",
     "text": [
      "428a2f98\n",
      "71374491\n",
      "b5c0fbcf\n",
      "e9b5dba5\n",
      "3956c25b\n",
      "59f111f1\n",
      "923f82a4\n",
      "ab1c5ed5\n",
      "d807aa98\n",
      "12835b01\n"
     ]
    }
   ],
   "source": [
    "# In hex.\n",
    "for frac in frac32[:10]:\n",
    "    print(f\"{frac:08x}\")"
   ]
  },
  {
   "cell_type": "markdown",
   "metadata": {},
   "source": [
    "What is a square root? [Square root definition.](https://en.wikipedia.org/wiki/Square_root)  \n",
    "\"In mathematics, a square root of a number x is a number y such that $y^{2}=x$; in other words,  \n",
    "a number y whos square (the result of multiplying the number by itself, or $y\\cdot y$) is x  "
   ]
  },
  {
   "cell_type": "markdown",
   "metadata": {},
   "source": [
    "[math.isqrt method usage](https://docs.python.org/3/library/math.html#math.isqrt)  \n",
    "Pythons implementation of the squareroot operation from the math module functions perfectly for perfect squares such as 4,19,16 etc....\n",
    "But when we start dealing with irrational numbers we can see very small rounding errors introduced as irrational numbers cannot be \n",
    "computed. "
   ]
  },
  {
   "cell_type": "markdown",
   "metadata": {},
   "source": [
    "[Python floating point numbers.](https://en.wikipedia.org/wiki/IEEE_754#Formats) Python uses double percision for floating point numbers which is specficed under the basic and interchange formats table. For the purpose of this work we are focusing on the Decimal digits subheading of the Significand heading which states that a number can have up to 15.95 digits after the decimal point. In practice it will go up to 16."
   ]
  },
  {
   "cell_type": "code",
   "execution_count": 59,
   "metadata": {},
   "outputs": [
    {
     "name": "stdout",
     "output_type": "stream",
     "text": [
      "3.0\n",
      "1.4142135623730951\n"
     ]
    }
   ],
   "source": [
    "# Print the square root of 9.\n",
    "print(math.sqrt(9))\n",
    "\n",
    "# Prints an approximiation of the square root of 2.\n",
    "print(math.sqrt(2))"
   ]
  },
  {
   "cell_type": "markdown",
   "metadata": {},
   "source": [
    "Due to the rounding errors introduced from both python and binary limiations of representing floating point errors we can see these small rounding errors when  \n",
    "we multiply pythons approximation of the square root of 2 by itself and we get 2.0000000000000004."
   ]
  },
  {
   "cell_type": "code",
   "execution_count": 60,
   "metadata": {},
   "outputs": [],
   "source": [
    "# Approximation of the square root of 2 multiplied by itself.\n",
    "example_root = math.sqrt(2) * math.sqrt(2) "
   ]
  },
  {
   "cell_type": "code",
   "execution_count": 61,
   "metadata": {},
   "outputs": [
    {
     "name": "stdout",
     "output_type": "stream",
     "text": [
      "2.0000000000000004\n"
     ]
    }
   ],
   "source": [
    "# Print the result to the screen.\n",
    "print(example_root)"
   ]
  },
  {
   "cell_type": "markdown",
   "metadata": {},
   "source": [
    "The consquence of this, is when running equivlance operations on floating point numbers one must be cautious of rounding errors can introduce false postives/negatives.\n"
   ]
  },
  {
   "cell_type": "code",
   "execution_count": 62,
   "metadata": {},
   "outputs": [
    {
     "name": "stdout",
     "output_type": "stream",
     "text": [
      "True\n"
     ]
    }
   ],
   "source": [
    "# Check if the result is not equal to 2.\n",
    "if(example_root != 2):\n",
    "    # Print True to the screen.\n",
    "    print(\"True\")"
   ]
  },
  {
   "cell_type": "markdown",
   "metadata": {},
   "source": [
    "[numpy sqrt() method usage](https://numpy.org/doc/stable/reference/generated/numpy.sqrt.html)  The numpy implementation of the square root function although differes in implementation (discussed below) suffers with the same constraints as discussed above."
   ]
  },
  {
   "cell_type": "code",
   "execution_count": 63,
   "metadata": {},
   "outputs": [
    {
     "name": "stdout",
     "output_type": "stream",
     "text": [
      "3.0\n",
      "1.4142135623730951\n"
     ]
    }
   ],
   "source": [
    "# Print the square root of 9 using numpy.\n",
    "print(numpy.sqrt(9))\n",
    "# Print the approximation of the square root of 2 using numpy.\n",
    "print(numpy.sqrt(2))"
   ]
  },
  {
   "cell_type": "code",
   "execution_count": 64,
   "metadata": {},
   "outputs": [],
   "source": [
    "# Approximation of the square root of 2 multiplied by itself using numpy.\n",
    "example_root2 = 1.4142135623730951 * 1.4142135623730951"
   ]
  },
  {
   "cell_type": "code",
   "execution_count": 65,
   "metadata": {},
   "outputs": [
    {
     "name": "stdout",
     "output_type": "stream",
     "text": [
      "2.0000000000000004\n"
     ]
    }
   ],
   "source": [
    "# Print the result to the screen.\n",
    "print(example_root2)"
   ]
  },
  {
   "cell_type": "markdown",
   "metadata": {},
   "source": [
    "[First 40 prime numbers](https://en.wikipedia.org/wiki/List_of_prime_numbers)"
   ]
  },
  {
   "cell_type": "code",
   "execution_count": 66,
   "metadata": {},
   "outputs": [],
   "source": [
    "# List of the first 40 prime numbers.\n",
    "example40_primes = [2,\t3,\t5,\t7,\t11,\t13,\t17,\t19,\t23,\t29,\t31,\t37,\t41,\t43,\t47,\t53,\t59,\t61,\t67,\t71,\n",
    "                    73,\t79,\t83,\t89,\t97,\t101, 103, 107, 109,\t113, 127, 131, 137, 139, 149, 151, 157, 163, 167, 173 ]"
   ]
  },
  {
   "cell_type": "markdown",
   "metadata": {},
   "source": [
    "Some of the way's numpy.sqrt() function differs itself from math.sqrt() is math.sqrt() has to operate on an element by element of an array where numpy.sqrt() can operate on an entire array."
   ]
  },
  {
   "cell_type": "code",
   "execution_count": 67,
   "metadata": {},
   "outputs": [
    {
     "name": "stdout",
     "output_type": "stream",
     "text": [
      "[ 1.41421356  1.73205081  2.23606798  2.64575131  3.31662479  3.60555128\n",
      "  4.12310563  4.35889894  4.79583152  5.38516481  5.56776436  6.08276253\n",
      "  6.40312424  6.55743852  6.8556546   7.28010989  7.68114575  7.81024968\n",
      "  8.18535277  8.42614977  8.54400375  8.88819442  9.11043358  9.43398113\n",
      "  9.8488578  10.04987562 10.14889157 10.34408043 10.44030651 10.63014581\n",
      " 11.26942767 11.44552314 11.70469991 11.78982612 12.20655562 12.28820573\n",
      " 12.52996409 12.76714533 12.92284798 13.15294644]\n"
     ]
    }
   ],
   "source": [
    "# Print the square root of the first 40 prime numbers using numpy.\n",
    "print(numpy.sqrt(example40_primes))"
   ]
  },
  {
   "cell_type": "markdown",
   "metadata": {},
   "source": [
    "To achieve the same functionality with the math libary one has to use a list comphrension in conjunction with the math.sqrt which is arugeably a little more verbose but definetely more inefficent."
   ]
  },
  {
   "cell_type": "code",
   "execution_count": 68,
   "metadata": {},
   "outputs": [
    {
     "name": "stdout",
     "output_type": "stream",
     "text": [
      "[1.4142135623730951, 1.7320508075688772, 2.23606797749979, 2.6457513110645907, 3.3166247903554, 3.605551275463989, 4.123105625617661, 4.358898943540674, 4.795831523312719, 5.385164807134504, 5.5677643628300215, 6.082762530298219, 6.4031242374328485, 6.557438524302, 6.855654600401044, 7.280109889280518, 7.681145747868608, 7.810249675906654, 8.18535277187245, 8.426149773176359, 8.54400374531753, 8.888194417315589, 9.1104335791443, 9.433981132056603, 9.848857801796104, 10.04987562112089, 10.14889156509222, 10.344080432788601, 10.44030650891055, 10.63014581273465, 11.269427669584644, 11.445523142259598, 11.704699910719626, 11.789826122551595, 12.206555615733702, 12.288205727444508, 12.529964086141668, 12.767145334803704, 12.922847983320086, 13.152946437965905]\n"
     ]
    }
   ],
   "source": [
    "# Print the square root of the first 40 prime numbers using math libary..\n",
    "print([math.sqrt(prime) for prime in example40_primes])"
   ]
  },
  {
   "cell_type": "code",
   "execution_count": 69,
   "metadata": {},
   "outputs": [],
   "source": [
    "# Generate the first 2 million primes.\n",
    "aPrimes =list((optimized_wf(2000000, [2,3,5])))"
   ]
  },
  {
   "cell_type": "code",
   "execution_count": 70,
   "metadata": {},
   "outputs": [],
   "source": [
    "# Square the first 2 million primes using numpy\n",
    "squaresNumpy = numpy.sqrt(aPrimes)"
   ]
  },
  {
   "cell_type": "code",
   "execution_count": 71,
   "metadata": {},
   "outputs": [],
   "source": [
    "# Square the first 2 million primes using math library.\n",
    "squaresMath = [math.sqrt(prime) for prime in list(aPrimes)]"
   ]
  },
  {
   "cell_type": "markdown",
   "metadata": {},
   "source": [
    "Although there is only a 0.1s< difference in this example, if you moved into larger list's of primes there would be an increasing time difference highlighting the effiency of numpy.sqrt() over math.sqrt()."
   ]
  },
  {
   "cell_type": "markdown",
   "metadata": {},
   "source": [
    "Now we begin to calculate the fractional parts of the first 100 primes."
   ]
  },
  {
   "cell_type": "code",
   "execution_count": 72,
   "metadata": {},
   "outputs": [],
   "source": [
    "# Calculate the square roots of the first 100 primes.\n",
    "sqrt_values = numpy.sqrt(first_100_primes)"
   ]
  },
  {
   "cell_type": "code",
   "execution_count": 73,
   "metadata": {},
   "outputs": [
    {
     "name": "stdout",
     "output_type": "stream",
     "text": [
      "[1.41421356 1.73205081 2.23606798 2.64575131 3.31662479 3.60555128\n",
      " 4.12310563 4.35889894 4.79583152 5.38516481]\n"
     ]
    }
   ],
   "source": [
    "# Print the square roots of the first 10 primes.\n",
    "print(sqrt_values[:10])"
   ]
  },
  {
   "cell_type": "markdown",
   "metadata": {},
   "source": [
    "[numpy.floor() usage](https://numpy.org/doc/2.2/reference/generated/numpy.floor.html)  \n",
    "Here we are using numpys.floor() to isolate the fractional part of each prime number.    [flooring definition](https://en.wikipedia.org/wiki/Floor_and_ceiling_functions) flooring is rounding down a number to the lowest integer that is less then or equal to said number."
   ]
  },
  {
   "cell_type": "code",
   "execution_count": 74,
   "metadata": {},
   "outputs": [],
   "source": [
    "# Number that we want the fractional part of.\n",
    "example_floor  = 2.46"
   ]
  },
  {
   "cell_type": "code",
   "execution_count": 75,
   "metadata": {},
   "outputs": [
    {
     "name": "stdout",
     "output_type": "stream",
     "text": [
      "2.46\n"
     ]
    }
   ],
   "source": [
    "# Print.\n",
    "print(example_floor)"
   ]
  },
  {
   "cell_type": "code",
   "execution_count": 76,
   "metadata": {},
   "outputs": [],
   "source": [
    "# Integer value of the floored number.\n",
    "example_whole = numpy.floor(example_floor)"
   ]
  },
  {
   "cell_type": "code",
   "execution_count": 77,
   "metadata": {},
   "outputs": [
    {
     "name": "stdout",
     "output_type": "stream",
     "text": [
      "2.0\n"
     ]
    }
   ],
   "source": [
    "# Print.\n",
    "print(example_whole)"
   ]
  },
  {
   "cell_type": "code",
   "execution_count": 78,
   "metadata": {},
   "outputs": [
    {
     "name": "stdout",
     "output_type": "stream",
     "text": [
      "0.45999999999999996\n"
     ]
    }
   ],
   "source": [
    "# Subtract the Integer value from the number pre-flooring to isolate the fractional part.\n",
    "print(example_floor - example_whole)"
   ]
  },
  {
   "cell_type": "markdown",
   "metadata": {},
   "source": [
    "We are leveraging numpy's capacitity to operate on an entire array to subract the integer part from square root of the first 100 primes to isolate the fractional part."
   ]
  },
  {
   "cell_type": "code",
   "execution_count": 79,
   "metadata": {},
   "outputs": [],
   "source": [
    "# Get the fractional parts of the first 100 primes.\n",
    "frac = sqrt_values - numpy.floor(sqrt_values)"
   ]
  },
  {
   "cell_type": "code",
   "execution_count": 80,
   "metadata": {},
   "outputs": [
    {
     "name": "stdout",
     "output_type": "stream",
     "text": [
      "[0.41421356 0.73205081 0.23606798 0.64575131 0.31662479 0.60555128\n",
      " 0.12310563 0.35889894 0.79583152 0.38516481]\n"
     ]
    }
   ],
   "source": [
    "# Print the fractional parts of the first 10 primes.\n",
    "print(frac[:10])"
   ]
  },
  {
   "cell_type": "markdown",
   "metadata": {},
   "source": [
    "[Scaling in binary](https://en.wikipedia.org/wiki/Fixed-point_arithmetic) Scaling in this sense can be defined as \"In computing, fixed-point is a method of representing fractional (non-integer) numbers by storing a fixed number of digits of their fractional part.\" In the context of what we are doing we are multiplying the fractional part by 2^32 to shift over the decimal point and casting it as an integer."
   ]
  },
  {
   "cell_type": "code",
   "execution_count": null,
   "metadata": {},
   "outputs": [],
   "source": [
    "# move the fractional part 32 bits in front of the decimal point.\n",
    "int_val = numpy.floor(frac * (2**32)).astype(numpy.int64)"
   ]
  },
  {
   "cell_type": "code",
   "execution_count": 82,
   "metadata": {},
   "outputs": [
    {
     "name": "stdout",
     "output_type": "stream",
     "text": [
      "[1779033703 3144134277 1013904242 2773480762 1359893119 2600822924\n",
      "  528734635 1541459225 3418070365 1654270250]\n"
     ]
    }
   ],
   "source": [
    "# Print the first 10 scaled integer values of fractional parts of the first 10 primes.\n",
    "print(int_val[:10])"
   ]
  },
  {
   "cell_type": "code",
   "execution_count": 83,
   "metadata": {},
   "outputs": [
    {
     "name": "stdout",
     "output_type": "stream",
     "text": [
      "√     2 fractional part (32 bits): 01101010000010011110011001100111\n",
      "√     3 fractional part (32 bits): 10111011011001111010111010000101\n",
      "√     5 fractional part (32 bits): 00111100011011101111001101110010\n",
      "√     7 fractional part (32 bits): 10100101010011111111010100111010\n",
      "√    11 fractional part (32 bits): 01010001000011100101001001111111\n",
      "√    13 fractional part (32 bits): 10011011000001010110100010001100\n",
      "√    17 fractional part (32 bits): 00011111100000111101100110101011\n",
      "√    19 fractional part (32 bits): 01011011111000001100110100011001\n",
      "√    23 fractional part (32 bits): 11001011101110111001110101011101\n",
      "√    29 fractional part (32 bits): 01100010100110100010100100101010\n"
     ]
    }
   ],
   "source": [
    "# Iterate over the first 100 primes and their corresponding scaled integer values.\n",
    "for prime, val in list(zip(first_100_primes, int_val))[:10]:\n",
    "    # Print the square root of the prime number and the binary value of the fractional part.\n",
    "    print(f\"√{prime:6} fractional part (32 bits): {val:032b}\")"
   ]
  },
  {
   "cell_type": "markdown",
   "metadata": {},
   "source": [
    "## Task 6: Proof of Work\n",
    "Find the word(s) in the English language with the greatest number of 0 bits at the beginning of their SHA256 hash digest.\n",
    "Include proof that any word you list is in at least one English dictionary."
   ]
  },
  {
   "cell_type": "code",
   "execution_count": null,
   "metadata": {},
   "outputs": [],
   "source": []
  },
  {
   "cell_type": "markdown",
   "metadata": {},
   "source": [
    "## Task 7: Turing Machines"
   ]
  },
  {
   "cell_type": "code",
   "execution_count": null,
   "metadata": {},
   "outputs": [],
   "source": []
  },
  {
   "cell_type": "markdown",
   "metadata": {},
   "source": [
    "## Task 8: Computational Complexity"
   ]
  }
 ],
 "metadata": {
  "kernelspec": {
   "display_name": "Python 3",
   "language": "python",
   "name": "python3"
  },
  "language_info": {
   "codemirror_mode": {
    "name": "ipython",
    "version": 3
   },
   "file_extension": ".py",
   "mimetype": "text/x-python",
   "name": "python",
   "nbconvert_exporter": "python",
   "pygments_lexer": "ipython3",
   "version": "3.12.1"
  }
 },
 "nbformat": 4,
 "nbformat_minor": 2
}
