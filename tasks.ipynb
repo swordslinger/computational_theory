{
 "cells": [
  {
   "cell_type": "markdown",
   "metadata": {},
   "source": [
    "# Computational Theory Tasks"
   ]
  },
  {
   "cell_type": "code",
   "execution_count": 1,
   "metadata": {},
   "outputs": [],
   "source": [
    "# Imports for explanation of ROTL function and generating random binary integers.\n",
    "from random import randint,getrandbits\n",
    "import os\n",
    "import itertools\n",
    "import math"
   ]
  },
  {
   "cell_type": "markdown",
   "metadata": {},
   "source": [
    "## Task 1: Binary Representations"
   ]
  },
  {
   "cell_type": "markdown",
   "metadata": {},
   "source": [
    "### ROTL n^(x) Function\n",
    "The ROTL function as defined in [FIPS PUB 180-4](https://nvlpubs.nist.gov/nistpubs/FIPS/NIST.FIPS.180-4.pdf) \n",
    " page 5. <br>\n",
    "$$\n",
    "\\text{ROTL}^{n}(x) = (x \\ll n) \\vee (x \\gg w - n)\n",
    "$$\n",
    "<br>\n",
    "\n",
    "$$\n",
    "\\begin{aligned}\n",
    "x & : \\text{A word of length } w \\text{ (a binary number with } w \\text{ bits).} \\\\\n",
    "n & : \\text{The number of positions to rotate left, where } 0 \\leq n < w. \\\\\n",
    "w & : \\text{The total bit-length of the word } x. \\\\\n",
    "\\ll & : \\text{Left shift operation.} \\\\\n",
    "\\gg & : \\text{Right shift operation.} \\\\\n",
    "\\vee & : \\text{Bitwise OR operation.}\n",
    "\\end{aligned}\n",
    "$$\n",
    "\n",
    "\n",
    "\n",
    "\n"
   ]
  },
  {
   "cell_type": "markdown",
   "metadata": {},
   "source": [
    "#### ROTL n^(x) Function variable explanation"
   ]
  },
  {
   "cell_type": "markdown",
   "metadata": {},
   "source": [
    "X is a binary number whos length will be determined by by the bits (W). <br>\n",
    "so we have a rough implementation below demonstrating the relationship between x and w. W  determing the length of the a binary number (x). <br><br>\n",
    "[Generate a number with x amount of digits](https://stackoverflow.com/questions/2673385/how-to-generate-a-random-number-with-a-specific-amount-of-digits) <br>\n",
    "[Convert a value to its binary value](https://docs.python.org/3/library/functions.html#bin) <br>\n",
    "[Convert a number to a binary value of fixed length](https://stackoverflow.com/questions/3252528/converting-a-number-to-binary-with-a-fixed-length)"
   ]
  },
  {
   "cell_type": "markdown",
   "metadata": {},
   "source": [
    "This is going to determine the number of bits in a value."
   ]
  },
  {
   "cell_type": "code",
   "execution_count": 3,
   "metadata": {},
   "outputs": [],
   "source": [
    "# Bit width.\n",
    "w = 4"
   ]
  },
  {
   "cell_type": "markdown",
   "metadata": {},
   "source": [
    "Here I am using the randint method as part of pythons random libary to get a random integer betweewn 0 and (2** w) -1. <br>\n",
    "If we take w = 4 and raise this by the ** 2 (power of 2) we get 16, 16-1 = 15. <br>\n",
    "The binary representation of 15 is 1111, which is the highest binary representation a bit value can have of length 4.<br>\n",
    "[randint usage](https://docs.python.org/3/library/random.html#module-random)"
   ]
  },
  {
   "cell_type": "code",
   "execution_count": 4,
   "metadata": {},
   "outputs": [
    {
     "data": {
      "text/plain": [
       "3"
      ]
     },
     "execution_count": 4,
     "metadata": {},
     "output_type": "execute_result"
    }
   ],
   "source": [
    "# Generate a pseduo-random integer with a maximum bit length of w.\n",
    "num = randint(0, (2 ** w) - 1)\n",
    "num"
   ]
  },
  {
   "cell_type": "markdown",
   "metadata": {},
   "source": [
    "Pythons in-built bin method is used to convert the pseudo-random integer(of bit length w) to binary representation as a String. <br>\n",
    "[Bin usage](https://docs.python.org/3/library/functions.html#bin) "
   ]
  },
  {
   "cell_type": "code",
   "execution_count": 5,
   "metadata": {},
   "outputs": [
    {
     "name": "stdout",
     "output_type": "stream",
     "text": [
      "0b11\n"
     ]
    }
   ],
   "source": [
    "# Convert integer into string binary representation.\n",
    "bin_num_str = bin(num)\n",
    "print(bin_num_str)\n",
    "\n"
   ]
  },
  {
   "cell_type": "markdown",
   "metadata": {},
   "source": [
    "N is the number of postions to rotate by. <br> If we take  w = 4, x = 0010 and  and n as 1, then x should will equal to 0100 <br>\n",
    "If we we take w = 4, x = 1000 and n=1 then x will equal to 0001 <br>"
   ]
  },
  {
   "cell_type": "markdown",
   "metadata": {},
   "source": [
    "$$\n",
    "\\begin{aligned}\n",
    "\\ll & : \\text{Left shift operation.} \\\\\n",
    "\\end{aligned}\n",
    "$$\n",
    "\n",
    "The bitwise left shift operator shifts all the bits of a value to the left by a specfied number of places.\n",
    "Bits shifted out from the left most value are discarded if shift size > bit width.\n",
    "Zeros are appeneded to the right to fill in empty values from the shift.\n",
    "\n",
    "[Left Shift](https://python-reference.readthedocs.io/en/latest/docs/operators/bitwise_left_shift_assignment.html)\n",
    "\n"
   ]
  },
  {
   "cell_type": "markdown",
   "metadata": {},
   "source": [
    "Bitwise left shift operator example pre left shift."
   ]
  },
  {
   "cell_type": "code",
   "execution_count": 6,
   "metadata": {},
   "outputs": [
    {
     "name": "stdout",
     "output_type": "stream",
     "text": [
      "0b1\n",
      "1\n"
     ]
    }
   ],
   "source": [
    "# Variable for 1.\n",
    "b = 1\n",
    "# Print binary value of b to screen.\n",
    "print(bin(b))\n",
    "# Print b to screen.\n",
    "print(b)\n",
    "\n"
   ]
  },
  {
   "cell_type": "markdown",
   "metadata": {},
   "source": [
    "Bitwise left shift operator example post left shift."
   ]
  },
  {
   "cell_type": "code",
   "execution_count": 7,
   "metadata": {},
   "outputs": [
    {
     "name": "stdout",
     "output_type": "stream",
     "text": [
      "0b10\n",
      "2\n"
     ]
    }
   ],
   "source": [
    "# Apply bitwise left shift to b.\n",
    "b <<= 1\n",
    "# Print the new binary value of b.\n",
    "print(bin(b))\n",
    "# Print the new integer value of b.\n",
    "print(b)"
   ]
  },
  {
   "cell_type": "markdown",
   "metadata": {},
   "source": [
    "\n",
    "$$\n",
    "\\begin{aligned}\n",
    "\\gg & : \\text{Right shift operation.} \\\\\n",
    "\\end{aligned}\n",
    "$$\n",
    "\n",
    "The bitwise right shift operator shifts all the bits of a value to the right by a specfied number of places.\n",
    "Bits shifted out from the right most value are discarded if shift size > bit width.\n",
    "Zeros are appeneded to the left to fill in unsigned integers from the shift.\n",
    "\n",
    "[Right Shift](https://python-reference.readthedocs.io/en/latest/docs/operators/bitwise_right_shift_assignment.html)"
   ]
  },
  {
   "cell_type": "markdown",
   "metadata": {},
   "source": [
    "Bitwise right shift operator example pre right shift."
   ]
  },
  {
   "cell_type": "code",
   "execution_count": 8,
   "metadata": {},
   "outputs": [
    {
     "name": "stdout",
     "output_type": "stream",
     "text": [
      "0b1111\n",
      "15\n"
     ]
    }
   ],
   "source": [
    "# Variable for 15.\n",
    "b = 15\n",
    "# Binary value 15.\n",
    "print(bin(b))\n",
    "# Print 15 to screen.\n",
    "print(b)"
   ]
  },
  {
   "cell_type": "markdown",
   "metadata": {},
   "source": [
    "Bitwise right shift operator example pre right shift."
   ]
  },
  {
   "cell_type": "code",
   "execution_count": 9,
   "metadata": {},
   "outputs": [
    {
     "name": "stdout",
     "output_type": "stream",
     "text": [
      "0b111\n",
      "7\n"
     ]
    }
   ],
   "source": [
    "\n",
    "# Apply bitwise left shift to b.\n",
    "b >>= 1\n",
    "# Print b's new binary value.\n",
    "print(bin(b))\n",
    "# Print b's new integer value.\n",
    "print(b)"
   ]
  },
  {
   "cell_type": "markdown",
   "metadata": {},
   "source": [
    "$$\n",
    "\\begin{aligned}\n",
    "\\vee & : \\text{Bitwise OR operation.}\n",
    "\\end{aligned}\n",
    "$$\n",
    "The bitwise exclusive OR operation compares two bits,if the bits are different the result is 1, if the bits are the same the result is 0.\n",
    "\n",
    "[XOR](https://python-reference.readthedocs.io/en/latest/docs/operators/bitwise_XOR.html)"
   ]
  },
  {
   "cell_type": "markdown",
   "metadata": {},
   "source": [
    "First value to be compared."
   ]
  },
  {
   "cell_type": "code",
   "execution_count": 10,
   "metadata": {},
   "outputs": [
    {
     "name": "stdout",
     "output_type": "stream",
     "text": [
      "0b100\n"
     ]
    }
   ],
   "source": [
    "# Varaible to store binary value of 4.\n",
    "x = bin(4)\n",
    "# Print binary value to screen.\n",
    "print(x)"
   ]
  },
  {
   "cell_type": "markdown",
   "metadata": {},
   "source": [
    "Second value to be compared."
   ]
  },
  {
   "cell_type": "code",
   "execution_count": 11,
   "metadata": {},
   "outputs": [
    {
     "name": "stdout",
     "output_type": "stream",
     "text": [
      "0b11\n"
     ]
    }
   ],
   "source": [
    "# Binary value of 3.\n",
    "y = bin(3)\n",
    "# Print binary value to screen.\n",
    "print(y)"
   ]
  },
  {
   "cell_type": "markdown",
   "metadata": {},
   "source": [
    "The 2 binary values are converted to there integer counterparts and then XOR operator is applied."
   ]
  },
  {
   "cell_type": "code",
   "execution_count": 12,
   "metadata": {},
   "outputs": [
    {
     "name": "stdout",
     "output_type": "stream",
     "text": [
      "0b111\n"
     ]
    }
   ],
   "source": [
    "# Apply XOR to the first and second values to be compared.\n",
    "z = int(x, 2) ^ int(y, 2)\n",
    "# Print the result to the screen.\n",
    "print(bin(z))"
   ]
  },
  {
   "cell_type": "markdown",
   "metadata": {},
   "source": [
    "As x = 100 and y is 11, leading 0's does not change a binary value, we can treat y as 011, as atleast 1 bit as a different value <br>\n",
    "the result of this operation is 111."
   ]
  },
  {
   "cell_type": "markdown",
   "metadata": {},
   "source": [
    " Rough work for generating a random binary number of bit width w, prior to my discovery of getrandbits method from the random package."
   ]
  },
  {
   "cell_type": "code",
   "execution_count": 13,
   "metadata": {},
   "outputs": [],
   "source": [
    "#def randBinary(w):\n",
    "    # range_start = 10**(w-1)\n",
    "    # range_end = (10**w)-1\n",
    "    # x = randint(range_start, range_end)\n",
    "    # return (x)"
   ]
  },
  {
   "cell_type": "markdown",
   "metadata": {},
   "source": []
  },
  {
   "cell_type": "code",
   "execution_count": 14,
   "metadata": {},
   "outputs": [],
   "source": [
    "# Implementation of The function rotl(x, n=1) that rotates the bits in a 32-bit unsigned integer to the left n places.\n",
    "def rotl(x, n=1):\n",
    "    # Print formated bit width and function paramters to screen.\n",
    "    print(f\"Bit width: 32, binary number to be rotated: {bin(x)}, number of rotations: {n}\")\n",
    "    # Returns left rotated value\n",
    "    return (x << n)|(x >> (32 - n)) & 0xFFFFFFFF"
   ]
  },
  {
   "cell_type": "markdown",
   "metadata": {},
   "source": [
    "Genearting a random binary value of length w to be passed in as a paramter to the ROTLF implementation."
   ]
  },
  {
   "cell_type": "code",
   "execution_count": 15,
   "metadata": {},
   "outputs": [
    {
     "name": "stdout",
     "output_type": "stream",
     "text": [
      "14\n"
     ]
    }
   ],
   "source": [
    "# Generates a pseudorandom 4 bit value.\n",
    "new_x = getrandbits(w)\n",
    "print(new_x)"
   ]
  },
  {
   "cell_type": "markdown",
   "metadata": {},
   "source": [
    "Invokes ROTLF implementation with pseudo random binary value."
   ]
  },
  {
   "cell_type": "code",
   "execution_count": 16,
   "metadata": {},
   "outputs": [
    {
     "name": "stdout",
     "output_type": "stream",
     "text": [
      "Bit width: 32, binary number to be rotated: 0b1110, number of rotations: 2\n",
      "Rotated value: 0b111000\n"
     ]
    }
   ],
   "source": [
    "# Calls ROTLF function and stores result.\n",
    "left_rotate_new_x = bin(rotl(new_x,2))\n",
    "# Prints formated result to screen.\n",
    "print(f\"Rotated value: {left_rotate_new_x}\")"
   ]
  },
  {
   "cell_type": "markdown",
   "metadata": {},
   "source": []
  },
  {
   "cell_type": "markdown",
   "metadata": {
    "vscode": {
     "languageId": "plaintext"
    }
   },
   "source": [
    "## Task 2: Hash Functions"
   ]
  },
  {
   "cell_type": "markdown",
   "metadata": {},
   "source": []
  },
  {
   "cell_type": "markdown",
   "metadata": {
    "vscode": {
     "languageId": "plaintext"
    }
   },
   "source": [
    "## Task 3: SHA256"
   ]
  },
  {
   "cell_type": "markdown",
   "metadata": {},
   "source": [
    "Below is my python implementation of padding stage for SHA-256 preprocessing.  \n",
    "This implementation follows the guidelines outlined in  [SHA-256 Padding Page 5 Section 5.1 - 5.11](https://doi.org/10.6028/NIST.FIPS.180-4)  \n",
    "which defines the padding process for the SHA-256 encrpytion standard.    \n"
   ]
  },
  {
   "cell_type": "markdown",
   "metadata": {},
   "source": [
    " As per [SHA-256 Padding Page 5 Section 5.1.1](https://doi.org/10.6028/NIST.FIPS.180-4) the padding formula can be defined as follows : \n",
    "$$\n",
    "(\\lambda + 1 + k) = 448 \\mod 512\n",
    "$$  \n",
    "$$\n",
    "\\begin{aligned}\n",
    "\\lambda & : \\text{The length of orginal original in bits} \\\\\n",
    "k & : \\text{The number of zero bits appended to the message after the initial 1 bit} \n",
    "\\end{aligned}\n",
    "$$  \n",
    "During pre-processing a single 1 bit is appeneded to seperate the message from the padding. This is followed by a number of 0 bits (k) until the message is 448 bits mod 512. Finally the message length in bits  is stored as 64 bit integer guaranteeing the message length is a multiple of 512 bits. This completes the pre-processing and making the message ready for hashing."
   ]
  },
  {
   "cell_type": "markdown",
   "metadata": {},
   "source": [
    "If we take an example string of 'abc'."
   ]
  },
  {
   "cell_type": "code",
   "execution_count": 17,
   "metadata": {},
   "outputs": [
    {
     "name": "stdout",
     "output_type": "stream",
     "text": [
      "abc\n"
     ]
    }
   ],
   "source": [
    "pad_example = 'abc'\n",
    "print(pad_example)"
   ]
  },
  {
   "cell_type": "markdown",
   "metadata": {},
   "source": [
    "Then we convert 'abc' to a byte string using pythons in-built encode method.\n",
    "[encode method usage](https://python-reference.readthedocs.io/en/latest/docs/str/encode.html).  \n",
    "We do this to computate the bit-length."
   ]
  },
  {
   "cell_type": "code",
   "execution_count": 18,
   "metadata": {},
   "outputs": [
    {
     "name": "stdout",
     "output_type": "stream",
     "text": [
      "b'abc'\n"
     ]
    }
   ],
   "source": [
    "# Convert string to byte string.\n",
    "pad_example_bytes = pad_example.encode()\n",
    "# Print string to screen.\n",
    "print(pad_example_bytes)"
   ]
  },
  {
   "cell_type": "markdown",
   "metadata": {},
   "source": [
    "This calculates the length of the byte String in bits. We know each byte is 8 bits so if we multiply the length of the byte string by 8 we will have the bit length of the byte string. We are doing this so we can calculate how much padding is needed to make the total bit length a multiple of 512."
   ]
  },
  {
   "cell_type": "code",
   "execution_count": 19,
   "metadata": {},
   "outputs": [
    {
     "name": "stdout",
     "output_type": "stream",
     "text": [
      "24\n"
     ]
    }
   ],
   "source": [
    "# Calculate the bit length of the example byte string. \n",
    "pad_example_bit_len = len(pad_example_bytes) * 8\n",
    "# Print bit length to screen.\n",
    "print(pad_example_bit_len)"
   ]
  },
  {
   "cell_type": "markdown",
   "metadata": {},
   "source": [
    "this would make $ \\lambda $ (message bit length)  = 24 and leaving us to solve for k (padding required). so we will take the equation used above and modify with our values to solve for k.\n",
    "\n",
    "$$\n",
    "k = (448 - (\\lambda + 1)) \\mod 512\n",
    "$$\n"
   ]
  },
  {
   "cell_type": "markdown",
   "metadata": {},
   "source": [
    "python implementation of modified padding formuala to determine number of 0 bits to appened."
   ]
  },
  {
   "cell_type": "code",
   "execution_count": 20,
   "metadata": {},
   "outputs": [
    {
     "name": "stdout",
     "output_type": "stream",
     "text": [
      "423\n"
     ]
    }
   ],
   "source": [
    "# Calculate number of 0 bits to pad the example byte string.\n",
    "padding_bits_example = (448 - (pad_example_bit_len + 1)) % 512\n",
    "# Print the number of 0 bits.\n",
    "print(padding_bits_example)"
   ]
  },
  {
   "cell_type": "markdown",
   "metadata": {},
   "source": [
    "Adding a 1 bit to the byte string [as per 5.1.2 pg 13 ](https://nvlpubs.nist.gov/nistpubs/FIPS/NIST.FIPS.180-4.pdf)."
   ]
  },
  {
   "cell_type": "code",
   "execution_count": null,
   "metadata": {},
   "outputs": [
    {
     "name": "stdout",
     "output_type": "stream",
     "text": [
      "4\n"
     ]
    }
   ],
   "source": [
    "# Pad byte String with 1 bit.\n",
    "padded_message = pad_example_bytes + b'\\x80'\n",
    "# Print the length of the byte String.\n",
    "print(len(padded_message))"
   ]
  },
  {
   "cell_type": "markdown",
   "metadata": {},
   "source": [
    "Add 0 bits until the padded message length is 64 bits short of 512 bits."
   ]
  },
  {
   "cell_type": "code",
   "execution_count": null,
   "metadata": {},
   "outputs": [
    {
     "name": "stdout",
     "output_type": "stream",
     "text": [
      "56\n"
     ]
    }
   ],
   "source": [
    "# Loop until the length is 64 bits short 512 bits.\n",
    "while(len(padded_message) * 8) % 512 != 448:\n",
    "    # Appened 0 bit to the byte string.\n",
    "    padded_message += b'\\x00'\n",
    "# Print the length of the padded message to the screen.    \n",
    "print(len(padded_message))"
   ]
  },
  {
   "cell_type": "markdown",
   "metadata": {},
   "source": [
    "Convert the bit value of the message to be padded big-endian byte format."
   ]
  },
  {
   "cell_type": "code",
   "execution_count": null,
   "metadata": {},
   "outputs": [
    {
     "name": "stdout",
     "output_type": "stream",
     "text": [
      "8\n"
     ]
    }
   ],
   "source": [
    "# Convert byte string to big-endian format.\n",
    "pad_example_length_bytes = pad_example_bit_len.to_bytes(8, 'big')\n",
    "\n",
    "# Print the lenght of the byte String.\n",
    "print(len(pad_example_length_bytes))"
   ]
  },
  {
   "cell_type": "markdown",
   "metadata": {},
   "source": [
    "Add the the 64 bit integer to the padded message."
   ]
  },
  {
   "cell_type": "code",
   "execution_count": 26,
   "metadata": {},
   "outputs": [
    {
     "name": "stdout",
     "output_type": "stream",
     "text": [
      "64\n"
     ]
    }
   ],
   "source": [
    "padded_message += pad_example_length_bytes\n",
    "print(len(padded_message))"
   ]
  },
  {
   "cell_type": "markdown",
   "metadata": {},
   "source": [
    "Output the value in hex."
   ]
  },
  {
   "cell_type": "code",
   "execution_count": null,
   "metadata": {},
   "outputs": [
    {
     "name": "stdout",
     "output_type": "stream",
     "text": [
      "61626380000000000000000000000000000000000000000000000000000000000000000000000000000000000000000000000000000000000000000000000018\n"
     ]
    }
   ],
   "source": [
    "# Print the padded value in hex to the screen\n",
    "print(padded_message.hex())"
   ]
  },
  {
   "cell_type": "markdown",
   "metadata": {},
   "source": [
    "this was a rough implementation to calculate the number of 0 bits to be appeneded"
   ]
  },
  {
   "cell_type": "code",
   "execution_count": null,
   "metadata": {},
   "outputs": [],
   "source": [
    "def sha256PaddingRough(filePath):\n",
    "    fileBitSize = (os.path.getsize(filePath)) * 8\n",
    "    print(fileBitSize)\n",
    "\n",
    "    remainder = fileBitSize % 512\n",
    "    print(remainder)\n",
    "\n",
    "    padding = 512 - remainder\n",
    "    print(padding)\n",
    "\n",
    "    result = fileBitSize + padding + 64\n",
    "    print(result)"
   ]
  },
  {
   "cell_type": "markdown",
   "metadata": {},
   "source": [
    "Below we have a list of constants required for the sha-256 padding."
   ]
  },
  {
   "cell_type": "code",
   "execution_count": 19,
   "metadata": {},
   "outputs": [],
   "source": [
    "APPENDED_PADDING_BYTE = b'\\x80'\n",
    "PADDING_BLOCK_SIZE = 64\n",
    "ZERO_PADDING_SIZE = 56\n",
    "BYTE_LENGTH = 8\n",
    "APPENDED_ZERO_PADDING_BYTE = b'\\x00'"
   ]
  },
  {
   "cell_type": "markdown",
   "metadata": {},
   "source": [
    "This is a helper function to print out the binary values for the contents of a file."
   ]
  },
  {
   "cell_type": "code",
   "execution_count": 16,
   "metadata": {},
   "outputs": [],
   "source": [
    "# Takes a file path as a paramter/\n",
    "def binary_contents(file_path):\n",
    "    # Open the file and treat it as binary.\n",
    "    with open(file_path, 'rb') as file:\n",
    "        # Store the binary file content in a variable.\n",
    "        binary_content = file.read()\n",
    "    \n",
    "    # Print the binary values of each byte.\n",
    "    print(\"Binary values of each byte before padding:\")\n",
    "    print(' '.join(map(lambda byte: f\"{byte:08b}\", binary_content)))\n",
    "    return binary_content\n",
    "    "
   ]
  },
  {
   "cell_type": "markdown",
   "metadata": {},
   "source": [
    "Helper function to print the padding blocks to be applied to a byte string."
   ]
  },
  {
   "cell_type": "code",
   "execution_count": 4,
   "metadata": {},
   "outputs": [],
   "source": [
    "# takes a a byte String paramter.\n",
    "def byte_chunker(padding):\n",
    "    # Split the padding into 8 byte chunks\n",
    "    chunks = [padding[i:i+8].hex().upper() for i in range(0, len(padding), 8)]\n",
    "    # Format so that each chunk is on a new line.\n",
    "    formatted_chunks = '\\n'.join([f\"padding block: {i}: {chunk}\" for i, chunk in enumerate(chunks, 1)])\n",
    "    # Print formatted chunk to screen.\n",
    "    print(formatted_chunks)\n"
   ]
  },
  {
   "cell_type": "markdown",
   "metadata": {},
   "source": [
    "This is the python implementation of the SHA-256 padding formula."
   ]
  },
  {
   "cell_type": "code",
   "execution_count": null,
   "metadata": {},
   "outputs": [],
   "source": [
    "# Takes a file path as a parameter\n",
    "def sha256Padding(file_Path):\n",
    "    \n",
    "    # Prints the binary values to the screen.\n",
    "    data_bin = binary_contents(file_Path)\n",
    "    \n",
    "    # Calculates the file size in bits.\n",
    "    file_size_bit = len(data_bin) * BYTE_LENGTH\n",
    "\n",
    "    # Number of 0 bits to append.\n",
    "    needed_padding = (ZERO_PADDING_SIZE - ((file_size_bit + 1 + 64) % PADDING_BLOCK_SIZE)) % PADDING_BLOCK_SIZE\n",
    "\n",
    "    # Create padding value.\n",
    "    padding = APPENDED_PADDING_BYTE + APPENDED_ZERO_PADDING_BYTE * needed_padding + file_size_bit.to_bytes(BYTE_LENGTH, 'big')\n",
    "\n",
    "    # Print out padding blocks.\n",
    "    byte_chunker(padding)\n",
    "\n",
    "    # Print out padded value hex.\n",
    "    print(\"Unfromated padded value: \" + padding.hex())\n"
   ]
  },
  {
   "cell_type": "code",
   "execution_count": null,
   "metadata": {},
   "outputs": [
    {
     "name": "stdout",
     "output_type": "stream",
     "text": [
      "Binary values of each byte before padding:\n",
      "01100001 01100010 01100011\n",
      "padding block: 1: 8000000000000000\n",
      "padding block: 2: 0000000000000000\n",
      "padding block: 3: 0000000000000000\n",
      "padding block: 4: 0000000000000000\n",
      "padding block: 5: 0000000000000018\n",
      "Unfromated padded value: 80000000000000000000000000000000000000000000000000000000000000000000000000000018\n"
     ]
    }
   ],
   "source": [
    "# Create padded value.\n",
    "sha256Padding('example.txt')"
   ]
  },
  {
   "cell_type": "markdown",
   "metadata": {
    "vscode": {
     "languageId": "plaintext"
    }
   },
   "source": [
    "## Task 4: Prime Numbers"
   ]
  },
  {
   "cell_type": "markdown",
   "metadata": {},
   "source": [
    "Calculate the first 100 prime numbers using two different algorithms.  \n",
    "Any algorithms that are well-established and works correctly are okay to use.  \n",
    "Explain how the algorithms work.  "
   ]
  },
  {
   "cell_type": "markdown",
   "metadata": {},
   "source": [
    "What is a prime number?\n",
    "A prime number can be defined as a natural number greater then 1 that can only be divided evenly by itself and 1. "
   ]
  },
  {
   "cell_type": "markdown",
   "metadata": {},
   "source": [
    "What is a composite number? A composite number is a natural number greather then 1 that can only be divided evenly by atleast one number other then itself and one."
   ]
  },
  {
   "cell_type": "markdown",
   "metadata": {},
   "source": [
    "Algorithm 1: [The Sieve of Eratosthenes](https://maths.ucd.ie/~plynch/Publications/Prime-Sieve.pdf)\n",
    "The Sieve of Eratosthenes starts with a list of numbers from 1 - N. Beginning with 2, it crosses out all multiples of 2. It then moves to the next prime number and repeats the process of crossing out its multiples, This continues until reaching the square root of N."
   ]
  },
  {
   "cell_type": "markdown",
   "metadata": {},
   "source": [
    "why do we start with 2?\n",
    "We start with 2 as it is the samallest prime number."
   ]
  },
  {
   "cell_type": "markdown",
   "metadata": {},
   "source": [
    "Why do we cross out multiples?\n",
    "If 2 is prime but its multiples (4,6,8...) can be divided by 2 they are not prime as they can divided by factors other then 1 and themselves."
   ]
  },
  {
   "cell_type": "markdown",
   "metadata": {},
   "source": [
    "why stop do we use the square root of N and why stop there?.\n",
    "If we take N to be 25."
   ]
  },
  {
   "cell_type": "markdown",
   "metadata": {},
   "source": [
    "[The Sieve of Eratosthenes](https://www.cs.ucdavis.edu/~amenta/s05/sievenotes.pdf)"
   ]
  },
  {
   "cell_type": "markdown",
   "metadata": {},
   "source": [
    "IF we take pseudo-code implementation in the notes above.  \n",
    "For (i = 2 to (a − 1) )  \n",
    "    If (n[i] 6 = ∅)  \n",
    "        j = 2  \n",
    "        while ( j n[i] < a )  \n",
    "            n[ j n[i] ] = ∅  \n",
    "            j = j + 1  "
   ]
  },
  {
   "cell_type": "code",
   "execution_count": 2,
   "metadata": {},
   "outputs": [],
   "source": [
    "# Rough implementation of the Sieve of Eratosthenes algorithm.\n",
    "def rough_work_SOE(a):\n",
    "    # Intialize Empty list to store prime numbers after sieving.\n",
    "    primes = []\n",
    "\n",
    "    # Populate a list of size a with True values.\n",
    "    n = [True] * a\n",
    "\n",
    "    # Start sieving from the first prime number (2) to the upper bound\n",
    "    for i in range (2, int(math.sqrt(a)+1)):\n",
    "\n",
    "        # Check if the value at index i is True.\n",
    "        if n[i]:\n",
    "\n",
    "            # Square the index.\n",
    "            j = i * i\n",
    "\n",
    "            # Loop while the squared index is less than the upper bound.\n",
    "            while j < a:\n",
    "\n",
    "                # Mark j as composite.\n",
    "                n[j] = False\n",
    "\n",
    "                # Move to next multiple of i.\n",
    "                j += i\n",
    "\n",
    "    # loop from the 2 (1st prime) to the upper bound.\n",
    "    for i in range(2, a):\n",
    "        \n",
    "        # Check if the value at index i is True.\n",
    "        if n[i]:\n",
    "\n",
    "            # Append the prime number to the list of primes.\n",
    "            primes.append(i)\n",
    "\n",
    "    # Return populated list.\n",
    "    return primes\n",
    "                    "
   ]
  },
  {
   "cell_type": "code",
   "execution_count": 3,
   "metadata": {},
   "outputs": [],
   "source": [
    "a = 25"
   ]
  },
  {
   "cell_type": "code",
   "execution_count": 4,
   "metadata": {},
   "outputs": [],
   "source": [
    "primes = rough_work_SOE(a)"
   ]
  },
  {
   "cell_type": "code",
   "execution_count": 5,
   "metadata": {},
   "outputs": [
    {
     "name": "stdout",
     "output_type": "stream",
     "text": [
      "prime numbers less than 25: [2, 3, 5, 7, 11, 13, 17, 19, 23]\n"
     ]
    }
   ],
   "source": [
    "print(f\"prime numbers less than {a}: {primes}\")"
   ]
  },
  {
   "cell_type": "code",
   "execution_count": null,
   "metadata": {},
   "outputs": [],
   "source": []
  },
  {
   "cell_type": "markdown",
   "metadata": {},
   "source": [
    "## Task 5: Roots\n"
   ]
  },
  {
   "cell_type": "code",
   "execution_count": null,
   "metadata": {},
   "outputs": [],
   "source": []
  },
  {
   "cell_type": "markdown",
   "metadata": {},
   "source": [
    "## Task 6: Proof of Work"
   ]
  },
  {
   "cell_type": "code",
   "execution_count": null,
   "metadata": {},
   "outputs": [],
   "source": []
  },
  {
   "cell_type": "markdown",
   "metadata": {},
   "source": [
    "## Task 7: Turing Machines"
   ]
  },
  {
   "cell_type": "code",
   "execution_count": null,
   "metadata": {},
   "outputs": [],
   "source": []
  },
  {
   "cell_type": "markdown",
   "metadata": {},
   "source": [
    "## Task 8: Computational Complexity"
   ]
  }
 ],
 "metadata": {
  "kernelspec": {
   "display_name": "Python 3",
   "language": "python",
   "name": "python3"
  },
  "language_info": {
   "codemirror_mode": {
    "name": "ipython",
    "version": 3
   },
   "file_extension": ".py",
   "mimetype": "text/x-python",
   "name": "python",
   "nbconvert_exporter": "python",
   "pygments_lexer": "ipython3",
   "version": "3.12.1"
  }
 },
 "nbformat": 4,
 "nbformat_minor": 2
}
