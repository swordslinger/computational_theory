{
 "cells": [
  {
   "cell_type": "markdown",
   "metadata": {},
   "source": [
    "# Computational Theory Tasks"
   ]
  },
  {
   "cell_type": "code",
   "execution_count": null,
   "metadata": {},
   "outputs": [],
   "source": [
    "# Imports for different tasks in note book.\n",
    "import random\n",
    "import os\n",
    "import itertools\n",
    "import math\n",
    "import numpy\n",
    "import hashlib"
   ]
  },
  {
   "cell_type": "markdown",
   "metadata": {},
   "source": [
    "## Task 1: Binary Representations"
   ]
  },
  {
   "cell_type": "markdown",
   "metadata": {},
   "source": [
    "Create the following functions in Python, demonstrating their use with examples and tests.\n",
    "\n",
    "    The function rotl(x, n=1) that rotates the bits in a 32-bit unsigned integer to the left n places.\n",
    "\n",
    "    The function rotr(x, n=1) that rotates the bits in a 32-bit unsigned integer to the right n places.\n",
    "\n",
    "    The function ch(x, y, z) that chooses the bits from y where x has bits set to 1 and bits in z where x has bits set to 0.\n",
    "\n",
    "    The function maj(x, y, z) which takes a majority vote of the bits in x, y, and z.\n",
    "    The output should have a 1 in bit position i where at least two of x, y, and z have 1's in position i.\n",
    "    All other output bit positions should be 0.\n"
   ]
  },
  {
   "cell_type": "markdown",
   "metadata": {},
   "source": [
    "### ROTL n^(x) Function\n",
    "The ROTL function as defined in [FIPS PUB 180-4](https://nvlpubs.nist.gov/nistpubs/FIPS/NIST.FIPS.180-4.pdf) \n",
    " page 5. \n",
    "$$\n",
    "\\text{ROTL}^{n}(x) = (x \\ll n) \\vee (x \\gg w - n)\n",
    "$$\n",
    "\n",
    "\n",
    "$$\n",
    "\\begin{aligned}\n",
    "x & : \\text{A word of length } w \\text{ (a binary number with } w \\text{ bits).} \\\\\n",
    "n & : \\text{The number of positions to rotate left, where } 0 \\leq n < w. \\\\\n",
    "w & : \\text{The total bit-length of the word } x. \\\\\n",
    "\\ll & : \\text{Left shift operation.} \\\\\n",
    "\\gg & : \\text{Right shift operation.} \\\\\n",
    "\\vee & : \\text{Bitwise OR operation.}\n",
    "\\end{aligned}\n",
    "$$\n",
    "\n",
    "\n",
    "\n",
    "\n"
   ]
  },
  {
   "cell_type": "markdown",
   "metadata": {},
   "source": [
    "#### ROTL n^(x) Function variable explanation"
   ]
  },
  {
   "cell_type": "markdown",
   "metadata": {},
   "source": [
    "X is a binary number whose length will be determined  by the bits (W).  \n",
    "so we have a rough implementation below demonstrating the relationship between x and w. W  determines the length of the a binary number (x).  \n",
    "[Generate a number with x amount of digits](https://stackoverflow.com/questions/2673385/how-to-generate-a-random-number-with-a-specific-amount-of-digits)  \n",
    "[Convert a value to its binary value](https://docs.python.org/3/library/functions.html#bin)  \n",
    "[Convert a number to a binary value of fixed length](https://stackoverflow.com/questions/3252528/converting-a-number-to-binary-with-a-fixed-length)  "
   ]
  },
  {
   "cell_type": "markdown",
   "metadata": {},
   "source": [
    "This is going to determine the number of bits in a value."
   ]
  },
  {
   "cell_type": "code",
   "execution_count": null,
   "metadata": {},
   "outputs": [],
   "source": [
    "# Bit width.\n",
    "w = 4"
   ]
  },
  {
   "cell_type": "markdown",
   "metadata": {},
   "source": [
    "Here I am using the randint method as part of pythons random library to get a pseudo-random integer between 0 and (2** w) -1.  \n",
    "If we take w = 4 and raise this by the ** 2 (power of 2) we get 16, 16-1 = 15.  \n",
    "The binary representation of 15 is 1111, which is the highest binary representation a bit value can have of length 4.  \n",
    "[randint usage](https://docs.python.org/3/library/random.html#module-random)"
   ]
  },
  {
   "cell_type": "code",
   "execution_count": null,
   "metadata": {},
   "outputs": [
    {
     "data": {
      "text/plain": [
       "5"
      ]
     },
     "execution_count": 26,
     "metadata": {},
     "output_type": "execute_result"
    }
   ],
   "source": [
    "# Generate a pseduo-random integer with a maximum bit length of w.\n",
    "num = random.randint(0, (2 ** w) - 1)\n",
    "num"
   ]
  },
  {
   "cell_type": "markdown",
   "metadata": {},
   "source": [
    "Python in-built bin method is used to convert the pseudo-random integer(of bit length w) to binary representation as a String.  \n",
    "[Bin usage](https://docs.python.org/3/library/functions.html#bin) "
   ]
  },
  {
   "cell_type": "code",
   "execution_count": null,
   "metadata": {},
   "outputs": [
    {
     "name": "stdout",
     "output_type": "stream",
     "text": [
      "0b101\n"
     ]
    }
   ],
   "source": [
    "# Convert integer into string binary representation.\n",
    "bin_num_str = bin(num)\n",
    "print(bin_num_str)\n",
    "\n"
   ]
  },
  {
   "cell_type": "markdown",
   "metadata": {},
   "source": [
    "N is the number of postions to rotate by.   \n",
    "If we take w = 4, x = 0010 and n as 1, then x will equal to 0100.  \n",
    "If we take w = 4, x = 1000 and n=1 then x will equal to 0001."
   ]
  },
  {
   "cell_type": "markdown",
   "metadata": {},
   "source": [
    "$$\n",
    "\\begin{aligned}\n",
    "\\ll & : \\text{Left shift operation.} \\\\\n",
    "\\end{aligned}\n",
    "$$\n",
    "\n",
    "The bitwise left shift operator shifts all the bits of a value to the left by a specified number of places.\n",
    "Bits shifted out from the left most value are discarded if shift size > bit width.\n",
    "Zeros are appended to the right to fill in empty values from the shift.\n",
    "\n",
    "[Left Shift](https://python-reference.readthedocs.io/en/latest/docs/operators/bitwise_left_shift_assignment.html)\n",
    "\n"
   ]
  },
  {
   "cell_type": "markdown",
   "metadata": {},
   "source": [
    "Bitwise left shift operator example pre left shift."
   ]
  },
  {
   "cell_type": "code",
   "execution_count": null,
   "metadata": {},
   "outputs": [
    {
     "name": "stdout",
     "output_type": "stream",
     "text": [
      "0b1\n",
      "1\n"
     ]
    }
   ],
   "source": [
    "# Variable for 1.\n",
    "b = 1\n",
    "# Print binary value of b to screen.\n",
    "print(bin(b))\n",
    "# Print b to screen.\n",
    "print(b)\n",
    "\n"
   ]
  },
  {
   "cell_type": "markdown",
   "metadata": {},
   "source": [
    "Bitwise left shift operator example post left shift."
   ]
  },
  {
   "cell_type": "code",
   "execution_count": null,
   "metadata": {},
   "outputs": [
    {
     "name": "stdout",
     "output_type": "stream",
     "text": [
      "0b10\n",
      "2\n"
     ]
    }
   ],
   "source": [
    "# Apply bitwise left shift to b.\n",
    "b <<= 1\n",
    "# Print the new binary value of b.\n",
    "print(bin(b))\n",
    "# Print the new integer value of b.\n",
    "print(b)"
   ]
  },
  {
   "cell_type": "markdown",
   "metadata": {},
   "source": [
    "\n",
    "$$\n",
    "\\begin{aligned}\n",
    "\\gg & : \\text{Right shift operation.} \\\\\n",
    "\\end{aligned}\n",
    "$$\n",
    "\n",
    "The bitwise right shift operator shifts all the bits of a value to the right by a specified number of places.\n",
    "Bits shifted out from the right most value are discarded if shift size > bit width.\n",
    "Zeros are appeneded to the left to fill in unsigned integers from the shift.\n",
    "\n",
    "[Right Shift](https://python-reference.readthedocs.io/en/latest/docs/operators/bitwise_right_shift_assignment.html)"
   ]
  },
  {
   "cell_type": "markdown",
   "metadata": {},
   "source": [
    "Bitwise right shift operator example post right shift."
   ]
  },
  {
   "cell_type": "code",
   "execution_count": null,
   "metadata": {},
   "outputs": [
    {
     "name": "stdout",
     "output_type": "stream",
     "text": [
      "0b1111\n",
      "15\n"
     ]
    }
   ],
   "source": [
    "# Variable for 15.\n",
    "b = 15\n",
    "# Binary value 15.\n",
    "print(bin(b))\n",
    "# Print 15 to screen.\n",
    "print(b)"
   ]
  },
  {
   "cell_type": "markdown",
   "metadata": {},
   "source": [
    "Bitwise right shift operator example pre right shift."
   ]
  },
  {
   "cell_type": "code",
   "execution_count": null,
   "metadata": {},
   "outputs": [
    {
     "name": "stdout",
     "output_type": "stream",
     "text": [
      "0b111\n",
      "7\n"
     ]
    }
   ],
   "source": [
    "\n",
    "# Apply bitwise left shift to b.\n",
    "b >>= 1\n",
    "# Print b's new binary value.\n",
    "print(bin(b))\n",
    "# Print b's new integer value.\n",
    "print(b)"
   ]
  },
  {
   "cell_type": "markdown",
   "metadata": {},
   "source": [
    "$$\n",
    "\\begin{aligned}\n",
    "\\vee & : \\text{Bitwise XOR operation.}\n",
    "\\end{aligned}\n",
    "$$\n",
    "The bitwise exclusive OR operation compares two bits; if the bits are different the result is 1, if the bits are the same the result is 0.\n",
    "\n",
    "[XOR](https://python-reference.readthedocs.io/en/latest/docs/operators/bitwise_XOR.html)"
   ]
  },
  {
   "cell_type": "markdown",
   "metadata": {},
   "source": [
    "First value to be compared."
   ]
  },
  {
   "cell_type": "code",
   "execution_count": null,
   "metadata": {},
   "outputs": [
    {
     "name": "stdout",
     "output_type": "stream",
     "text": [
      "0b100\n"
     ]
    }
   ],
   "source": [
    "# Variable to store binary value of 4.\n",
    "x = bin(4)\n",
    "# Print binary value to screen.\n",
    "print(x)"
   ]
  },
  {
   "cell_type": "markdown",
   "metadata": {},
   "source": [
    "Second value to be compared."
   ]
  },
  {
   "cell_type": "code",
   "execution_count": null,
   "metadata": {},
   "outputs": [
    {
     "name": "stdout",
     "output_type": "stream",
     "text": [
      "0b11\n"
     ]
    }
   ],
   "source": [
    "# Binary value of 3.\n",
    "y = bin(3)\n",
    "# Print binary value to screen.\n",
    "print(y)"
   ]
  },
  {
   "cell_type": "markdown",
   "metadata": {},
   "source": [
    "The 2 binary values are converted to there integer counterparts and then XOR operator is applied."
   ]
  },
  {
   "cell_type": "code",
   "execution_count": null,
   "metadata": {},
   "outputs": [
    {
     "name": "stdout",
     "output_type": "stream",
     "text": [
      "0b111\n"
     ]
    }
   ],
   "source": [
    "# Apply XOR to the first and second values to be compared.\n",
    "z = int(x, 2) ^ int(y, 2)\n",
    "# Print the result to the screen.\n",
    "print(bin(z))"
   ]
  },
  {
   "cell_type": "markdown",
   "metadata": {},
   "source": [
    "As x = 100 and y is 11, leading 0's do not change a binary value. We can treat y as 011. As at least 1 bit has a different value, the result of this operation is 111."
   ]
  },
  {
   "cell_type": "code",
   "execution_count": null,
   "metadata": {},
   "outputs": [],
   "source": [
    "# Implementation of The function rotl(x, n=1) that rotates the bits in a 32-bit unsigned integer to the left n places.\n",
    "def rotl(x, n=1):\n",
    "\n",
    "    # Print formatted bit width and function parameters to screen.\n",
    "    print(f\"Bit width: 32, binary number to be rotated: {bin(x)}, number of rotations: {n}\")\n",
    "    \n",
    "    # Returns left rotated value\n",
    "    return (x << n)|(x >> (32 - n)) & 0xFFFFFFFF"
   ]
  },
  {
   "cell_type": "code",
   "execution_count": null,
   "metadata": {},
   "outputs": [],
   "source": [
    "# Implementation of The function rotl(x, n=1) that rotates the bits in a 32-bit unsigned integer to the right n places.\n",
    "def rotr(x, n=1):\n",
    "\n",
    "    # Print formatted bit width and function parameters to screen.\n",
    "    print(f\"Bit width: 32, binary number to be rotated: {bin(x)}, number of rotations: {n}\")\n",
    "\n",
    "    # Returns left rotated value\n",
    "    return (x >> n)|(x << (32 - n)) & 0xFFFFFFFF"
   ]
  },
  {
   "cell_type": "code",
   "execution_count": null,
   "metadata": {},
   "outputs": [],
   "source": [
    "# Implementation of the ch(x, y, z) function that performs the choice operation where bits from y or z are selected base on x, \n",
    "def ch(x, y, z):\n",
    "\n",
    "    # Print formatted bit width and function paramters to screen.\n",
    "    print(f\"Bit width: 32, x: {bin(x)}, y: {bin(y)}, z: {bin(z)}\")\n",
    "\n",
    "    # Returns the choice bit\n",
    "    return ((x & y) | (x & z) | (y & z)) & 0xFFFFFFFF"
   ]
  },
  {
   "cell_type": "code",
   "execution_count": null,
   "metadata": {},
   "outputs": [],
   "source": [
    "# Implementation of the maj(x, y, z) function that performs the majority operation where the result bit is set to 1 if the majority of the bits are 1.\n",
    "def maj(x, y, z):\n",
    "    # Print formatted bit width and function paramters to screen.\n",
    "    print(f\"Bit width: 32, x: {bin(x)}, y: {bin(y)}, z: {bin(z)}\")\n",
    "    # Return the majority bit.       \n",
    "    return ((x & y) | (x & z) | (x & z)) & 0xFFFFFFFF"
   ]
  },
  {
   "cell_type": "markdown",
   "metadata": {},
   "source": [
    "Genearting a random binary value of length w to be passed in as a parameter to the ROTL and ROTR implementation."
   ]
  },
  {
   "cell_type": "code",
   "execution_count": null,
   "metadata": {},
   "outputs": [
    {
     "name": "stdout",
     "output_type": "stream",
     "text": [
      "6\n"
     ]
    }
   ],
   "source": [
    "# Generates a pseudo-random 4 bit value.\n",
    "new_x = random.getrandbits(4)\n",
    "print(new_x)"
   ]
  },
  {
   "cell_type": "markdown",
   "metadata": {},
   "source": [
    "Invokes ROTLF implementation with pseudo random binary value."
   ]
  },
  {
   "cell_type": "code",
   "execution_count": null,
   "metadata": {},
   "outputs": [
    {
     "name": "stdout",
     "output_type": "stream",
     "text": [
      "Bit width: 32, binary number to be rotated: 0b110, number of rotations: 2\n",
      "Rotated value: 0b11000\n"
     ]
    }
   ],
   "source": [
    "# Calls ROTLF function and stores result.\n",
    "left_rotate_new_x = bin(rotl(new_x,2))\n",
    "\n",
    "# Prints formated result to screen.\n",
    "print(f\"Rotated value: {left_rotate_new_x}\")"
   ]
  },
  {
   "cell_type": "markdown",
   "metadata": {},
   "source": [
    "Invokes ROTLR implementation with pseudo random binary value."
   ]
  },
  {
   "cell_type": "code",
   "execution_count": null,
   "metadata": {},
   "outputs": [],
   "source": [
    "# Calls ROTR function and stores result.\n",
    "right_rotate_new_x = bin(rotr(new_x,2))\n",
    "\n",
    "# Prints formated result to screen.\n",
    "print(f\"Rotated value: {left_rotate_new_x}\")"
   ]
  },
  {
   "cell_type": "markdown",
   "metadata": {},
   "source": [
    "Genearting 3 random binary values of length 4 to be passed in as a parameters to the ch implementation."
   ]
  },
  {
   "cell_type": "code",
   "execution_count": null,
   "metadata": {},
   "outputs": [],
   "source": [
    "# Generates 3 pseudo-random 4 bit values.\n",
    "new_1 = random.getrandbits(4)\n",
    "new_2 = random.getrandbits(4)\n",
    "new_3 = random.getrandbits(4)"
   ]
  },
  {
   "cell_type": "markdown",
   "metadata": {},
   "source": [
    "Invokes ch implementation with pseudo random binary value."
   ]
  },
  {
   "cell_type": "code",
   "execution_count": null,
   "metadata": {},
   "outputs": [],
   "source": [
    "# Calls ch function and stores result.\n",
    "ch_result = ch(new_1, new_2, new_3)\n",
    "\n",
    "# Prints formatted result to screen.\n",
    "print(f\"ch result: {bin(ch_result)}\")"
   ]
  },
  {
   "cell_type": "markdown",
   "metadata": {},
   "source": [
    "Invokes maj implementation with pseudo random binary value."
   ]
  },
  {
   "cell_type": "code",
   "execution_count": null,
   "metadata": {},
   "outputs": [],
   "source": [
    "# Calls maj function and stores result.\n",
    "maj_result = maj(new_1, new_2, new_3)\n",
    "\n",
    "# Prints formatted result to screen.\n",
    "print(f\"Majority  result: {bin(maj_result)}\")"
   ]
  },
  {
   "cell_type": "markdown",
   "metadata": {},
   "source": []
  },
  {
   "cell_type": "markdown",
   "metadata": {
    "vscode": {
     "languageId": "plaintext"
    }
   },
   "source": [
    "## Task 2: Hash Functions"
   ]
  },
  {
   "cell_type": "markdown",
   "metadata": {},
   "source": [
    "The following hash function is from The C Programming Language by Brian Kernighan and Dennis Ritchie.\n",
    "Convert it to Python, test it, and suggest why the values 31 and 101 are used."
   ]
  },
  {
   "cell_type": "markdown",
   "metadata": {},
   "source": [
    "```\n",
    "unsigned hash(char *s) {\n",
    "    unsigned hashval;\n",
    "    for (hashval = 0; *s != '\\0'; s++)\n",
    "        hashval = *s + 31 * hashval;\n",
    "    return hashval % 101;\n",
    "}\n",
    "```"
   ]
  },
  {
   "cell_type": "code",
   "execution_count": null,
   "metadata": {},
   "outputs": [],
   "source": [
    "\n",
    "def hash_function(input_string):\n",
    "    \"\"\"\n",
    "    A simple hash function that takes a string and returns a hash value based on\n",
    "    the hash function from The C programming language by Brian Kernighan and Dennis Ritchie.\n",
    "    \"\"\"\n",
    "    # Initialize hash value.\n",
    "    hashval = 0\n",
    "\n",
    "    # Iterate over each character in the input string.\n",
    "    for char in input_string:\n",
    "        \n",
    "        # Gets the ASCII value of the character and adds it to the hash value that is multiplied by 31.\n",
    "        hashval =  ord(char) + 31 * hashval\n",
    "\n",
    "    # returns the remainder of the hash value divided by 101.\n",
    "    return hashval % 101"
   ]
  },
  {
   "cell_type": "code",
   "execution_count": null,
   "metadata": {},
   "outputs": [
    {
     "name": "stdout",
     "output_type": "stream",
     "text": [
      "55\n"
     ]
    }
   ],
   "source": [
    "# Hashing a string.\n",
    "s = hash_function(\"aaadadasdasdad\")\n",
    "print(s)"
   ]
  },
  {
   "cell_type": "markdown",
   "metadata": {},
   "source": [
    "I don’t think there’s a definitive answer why 31 is used as a multiplier in the hash code. I think a lot of people will point to different things.\n",
    "[ Wikipedia – Hash Function: Multiplicative Hashing](https://en.wikipedia.org/wiki/Hash_function#Multiplicative_hashing) will say that small odd prime numbers prevent inputs that end up with the same hash value.\n",
    "\n",
    "[Javas hash code uses 31 source](https://stackoverflow.com/questions/299304/why-does-javas-hashcode-in-string-use-31-as-a-multiplier) notes that it’s efficient because multiplying 31 * x can be represented as a bit-shift and subtraction (x << 5) - x, which would have been faster in lower-level code and on older systems. But ultimately, while there are definitely optimal and sub-optimal numbers to use, I think it was somewhat arbitrary—it was something that worked. "
   ]
  },
  {
   "cell_type": "markdown",
   "metadata": {},
   "source": [
    "I think it’s very similar when it comes to a hashtable size of 101. There are reasons that - [hashtable size refernce](https://en.wikipedia.org/wiki/Hash_table#Table_size) notes that a prime number reduces clustering, and 101 is a low prime suited for small to medium-sized hash tables. But ultimately, it’s a number that worked, it’s memorable (“anything-101”), and given that it’s for smaller tables, it was probably best suited for use in a textbook. Same with other numbers chosen for illustrative purposes—they’re practical, familiar, and effective for demonstration"
   ]
  },
  {
   "cell_type": "markdown",
   "metadata": {
    "vscode": {
     "languageId": "plaintext"
    }
   },
   "source": [
    "## Task 3: SHA256"
   ]
  },
  {
   "cell_type": "markdown",
   "metadata": {},
   "source": [
    "Write a Python function that calculates the SHA256 padding for a given file."
   ]
  },
  {
   "cell_type": "markdown",
   "metadata": {},
   "source": [
    "Below is my python implementation of the padding stage for SHA-256 preprocessing.  \n",
    "This implementation follows the guidelines outlined in  [SHA-256 Padding Page 5 Section 5.1 - 5.11](https://doi.org/10.6028/NIST.FIPS.180-4)  \n",
    "which defines the padding process for the SHA-256 encryption standard.    \n"
   ]
  },
  {
   "cell_type": "markdown",
   "metadata": {},
   "source": [
    " As per [SHA-256 Padding Page 5 Section 5.1.1](https://doi.org/10.6028/NIST.FIPS.180-4) the padding formula can be defined as follows : \n",
    "$$\n",
    "(\\lambda + 1 + k) = 448 \\mod 512\n",
    "$$  \n",
    "$$\n",
    "\\begin{aligned}\n",
    "\\lambda & : \\text{The length of orginal  in bits} \\\\\n",
    "k & : \\text{The number of zero bits appended to the message after the initial 1 bit} \n",
    "\\end{aligned}\n",
    "$$  \n",
    "During pre-processing a single 1 bit is appended to separate the message from the padding. This is followed by a number of 0 bits (k) until the message is 448 bits mod 512. Finally the message length in bits  is stored as 64 bit integer guaranteeing the message length is a multiple of 512 bits. This completes the pre-processing and making the message ready for hashing."
   ]
  },
  {
   "cell_type": "markdown",
   "metadata": {},
   "source": [
    "If we take an example string of 'abc'."
   ]
  },
  {
   "cell_type": "code",
   "execution_count": 45,
   "metadata": {},
   "outputs": [
    {
     "name": "stdout",
     "output_type": "stream",
     "text": [
      "abc\n"
     ]
    }
   ],
   "source": [
    "# String to be padded.\n",
    "pad_example = 'abc'\n",
    "\n",
    "# Print string screen.\n",
    "print(pad_example)"
   ]
  },
  {
   "cell_type": "markdown",
   "metadata": {},
   "source": [
    "Then we convert 'abc' to a byte string using Python built-in encode method.\n",
    "[encode method usage](https://python-reference.readthedocs.io/en/latest/docs/str/encode.html).  \n",
    "We do this to compute the bit-length."
   ]
  },
  {
   "cell_type": "code",
   "execution_count": 46,
   "metadata": {},
   "outputs": [
    {
     "name": "stdout",
     "output_type": "stream",
     "text": [
      "b'abc'\n"
     ]
    }
   ],
   "source": [
    "# Convert string to byte string.\n",
    "pad_example_bytes = pad_example.encode()\n",
    "# Print string to screen.\n",
    "print(pad_example_bytes)"
   ]
  },
  {
   "cell_type": "markdown",
   "metadata": {},
   "source": [
    "This calculates the length of the byte String in bits. We know each byte is 8 bits so if we multiply the length of the byte string by 8 we will have the bit length of the byte string. We are doing this so we can calculate how much padding is needed to make the total bit length a multiple of 512."
   ]
  },
  {
   "cell_type": "code",
   "execution_count": 47,
   "metadata": {},
   "outputs": [
    {
     "name": "stdout",
     "output_type": "stream",
     "text": [
      "24\n"
     ]
    }
   ],
   "source": [
    "# Calculate the bit length of the example byte string. \n",
    "pad_example_bit_len = len(pad_example_bytes) * 8\n",
    "\n",
    "# Print bit length to screen.\n",
    "print(pad_example_bit_len)"
   ]
  },
  {
   "cell_type": "markdown",
   "metadata": {},
   "source": [
    "This would make $ \\lambda $ (message bit length) = 24 and leaves us to solve for k (padding required). So we will take the equation used above and modify with our values to solve for k.\n",
    "\n",
    "$$\n",
    "k = (448 - (\\lambda + 1)) \\mod 512\n",
    "$$\n"
   ]
  },
  {
   "cell_type": "markdown",
   "metadata": {},
   "source": [
    "Python implementation of the modified padding formula to determine the number of 0 bits to append."
   ]
  },
  {
   "cell_type": "code",
   "execution_count": 48,
   "metadata": {},
   "outputs": [
    {
     "name": "stdout",
     "output_type": "stream",
     "text": [
      "423\n"
     ]
    }
   ],
   "source": [
    "# Calculate the number of 0 bits to pad the example byte string.\n",
    "padding_bits_example = (448 - (pad_example_bit_len + 1)) % 512\n",
    "\n",
    "# Print the number of 0 bits.\n",
    "print(padding_bits_example)"
   ]
  },
  {
   "cell_type": "markdown",
   "metadata": {},
   "source": [
    "Adding a 1 bit to the byte string [as per 5.1.2 pg 13 ](https://nvlpubs.nist.gov/nistpubs/FIPS/NIST.FIPS.180-4.pdf)."
   ]
  },
  {
   "cell_type": "code",
   "execution_count": 49,
   "metadata": {},
   "outputs": [
    {
     "name": "stdout",
     "output_type": "stream",
     "text": [
      "4\n"
     ]
    }
   ],
   "source": [
    "# Pad byte string with 1 bit.\n",
    "padded_message = pad_example_bytes + b'\\x80'\n",
    "\n",
    "# Print the length of the byte string.\n",
    "print(len(padded_message))"
   ]
  },
  {
   "cell_type": "markdown",
   "metadata": {},
   "source": [
    "Add 0 bits until the padded message length is 64 bits short of 512 bits."
   ]
  },
  {
   "cell_type": "code",
   "execution_count": 50,
   "metadata": {},
   "outputs": [
    {
     "name": "stdout",
     "output_type": "stream",
     "text": [
      "56\n"
     ]
    }
   ],
   "source": [
    "# Loop until the length is 64 bits short of 512 bits.\n",
    "while(len(padded_message) * 8) % 512 != 448:\n",
    "\n",
    "    # Append 0 bit to the byte string.\n",
    "    padded_message += b'\\x00'\n",
    "    \n",
    "# Print the length of the padded message to the screen.    \n",
    "print(len(padded_message))"
   ]
  },
  {
   "cell_type": "markdown",
   "metadata": {},
   "source": [
    "Convert the original message length to be 64-bit big-endian format."
   ]
  },
  {
   "cell_type": "code",
   "execution_count": 51,
   "metadata": {},
   "outputs": [
    {
     "name": "stdout",
     "output_type": "stream",
     "text": [
      "8\n"
     ]
    }
   ],
   "source": [
    "# Convert the bit length of the orignal message to big-endian format.\n",
    "pad_example_length_bytes = pad_example_bit_len.to_bytes(8, 'big')\n",
    "\n",
    "# Print to sreen.\n",
    "print(len(pad_example_length_bytes))"
   ]
  },
  {
   "cell_type": "markdown",
   "metadata": {},
   "source": [
    "Add the converted bit length to the padded message."
   ]
  },
  {
   "cell_type": "code",
   "execution_count": 52,
   "metadata": {},
   "outputs": [
    {
     "name": "stdout",
     "output_type": "stream",
     "text": [
      "64\n"
     ]
    }
   ],
   "source": [
    "# Add the 64 bits to the end of the padded message.\n",
    "padded_message += pad_example_length_bytes\n",
    "\n",
    "# Print the length of the padded message to the screen.\n",
    "print(len(padded_message))"
   ]
  },
  {
   "cell_type": "markdown",
   "metadata": {},
   "source": [
    "Output the value in hex."
   ]
  },
  {
   "cell_type": "code",
   "execution_count": 53,
   "metadata": {},
   "outputs": [
    {
     "name": "stdout",
     "output_type": "stream",
     "text": [
      "61626380000000000000000000000000000000000000000000000000000000000000000000000000000000000000000000000000000000000000000000000018\n"
     ]
    }
   ],
   "source": [
    "# Print the padded value in hex to the screen\n",
    "print(padded_message.hex())"
   ]
  },
  {
   "cell_type": "markdown",
   "metadata": {},
   "source": [
    "Below we have a list of constants required for the sha-256 padding."
   ]
  },
  {
   "cell_type": "code",
   "execution_count": null,
   "metadata": {},
   "outputs": [],
   "source": [
    "# 1 bit padding byte.\n",
    "APPENDED_PADDING_BYTE = b'\\x80'\n",
    "\n",
    "# Block size for SHA-256.\n",
    "PADDING_BLOCK_SIZE = 64\n",
    "\n",
    "# Length to pad message to.\n",
    "ZERO_PADDING_SIZE = 56\n",
    "\n",
    "# Converts the length of the message to big endian format\n",
    "BYTE_LENGTH = 8\n",
    "\n",
    "# 0 bit padding byte.\n",
    "APPENDED_ZERO_PADDING_BYTE = b'\\x00'"
   ]
  },
  {
   "cell_type": "markdown",
   "metadata": {},
   "source": [
    "This is a helper function to that reads file content in binary."
   ]
  },
  {
   "cell_type": "code",
   "execution_count": null,
   "metadata": {},
   "outputs": [],
   "source": [
    "# Takes a file path as a parameter\n",
    "def binary_contents(file_path):\n",
    "    \"\"\"\n",
    "    Helper function to read a file's contents in binary.\n",
    "\n",
    "    Args:\n",
    "        file_path (str): The path to the file to be read.\n",
    "\n",
    "    Returns:\n",
    "        bytes: The binary contents of the file.\n",
    "    \"\"\"\n",
    "\n",
    "    # Open the file and treat it as binary.\n",
    "    with open(file_path, 'rb') as file:\n",
    "        # Store the binary file content in a variable.\n",
    "        binary_content = file.read()\n",
    "    \n",
    "    # Print the binary values of each byte.\n",
    "    print(\"Binary values of each byte before padding:\")\n",
    "    print(' '.join(map(lambda byte: f\"{byte:08b}\", binary_content)))\n",
    "\n",
    "    # Returns the binary content of the file in byte format.\n",
    "    return binary_content\n",
    "    "
   ]
  },
  {
   "cell_type": "markdown",
   "metadata": {},
   "source": [
    "Helper function to visualize the padding blocks applied by the SHA-256 algorithim."
   ]
  },
  {
   "cell_type": "code",
   "execution_count": null,
   "metadata": {},
   "outputs": [],
   "source": [
    "# Takes  a a byte String paramter.\n",
    "def byte_chunker(padding):\n",
    "    \"\"\"\n",
    "    Takes the SHA-256 padding for a file and splits it into 8-byte chunks.\n",
    "\n",
    "    Args:\n",
    "        padding (bytes): The SHA-256 padding to be split.\n",
    "\n",
    "    Returns:\n",
    "        None\n",
    "    \"\"\"\n",
    "    \n",
    "    # Split the padding into 8 byte chunks and convert to hex.\n",
    "    chunks = [padding[i:i+8].hex().upper() for i in range(0, len(padding), 8)]\n",
    "\n",
    "    # Format so that each chunk is on a new line.\n",
    "    formatted_chunks = '\\n'.join([f\"padding block: {i}: {chunk}\" for i, chunk in enumerate(chunks, 1)])\n",
    "\n",
    "    # Print formatted chunk to screen.\n",
    "    print(formatted_chunks)\n"
   ]
  },
  {
   "cell_type": "markdown",
   "metadata": {},
   "source": [
    "This is the python implementation of the SHA-256 padding formula."
   ]
  },
  {
   "cell_type": "markdown",
   "metadata": {},
   "source": [
    "This function takes in a file path as parameter, reads in the file path contents as binary, converts via a helper function, calculates the file size in bits to help determine the number of 0 bits to append, creates padding required to meet the SHA-256 specifications, prints out formatted padding blocks via a helper method, and then the padding to be applied in hex."
   ]
  },
  {
   "cell_type": "code",
   "execution_count": null,
   "metadata": {},
   "outputs": [],
   "source": [
    "# Takes a file path as a parameter.\n",
    "def sha256Padding(file_path):\n",
    "    \"\"\"\n",
    "    Takes a file path and applies SHA-256 padding to the file contents.\n",
    "    \"\"\"\n",
    "    \n",
    "    # Read the file contents in binary.\n",
    "    data_bin = binary_contents(file_path)\n",
    "    \n",
    "    # Calculate the file size in bits.\n",
    "    file_size_bit = len(data_bin) * BYTE_LENGTH\n",
    "\n",
    "    # Number of 0 bits to append.\n",
    "    needed_padding = (ZERO_PADDING_SIZE - ((file_size_bit + 1 + 64) % PADDING_BLOCK_SIZE)) % PADDING_BLOCK_SIZE\n",
    "\n",
    "    # Create padding value.\n",
    "    padding = APPENDED_PADDING_BYTE + APPENDED_ZERO_PADDING_BYTE * needed_padding + file_size_bit.to_bytes(BYTE_LENGTH, 'big')\n",
    "\n",
    "    # Print out padding blocks.\n",
    "    byte_chunker(padding)\n",
    "\n",
    "    # Print out padded value hex.\n",
    "    print(\"Padding to be applied: \" + padding.hex())\n"
   ]
  },
  {
   "cell_type": "code",
   "execution_count": null,
   "metadata": {},
   "outputs": [
    {
     "name": "stdout",
     "output_type": "stream",
     "text": [
      "Binary values of each byte before padding:\n",
      "01100001 01100010 01100011\n",
      "padding block: 1: 8000000000000000\n",
      "padding block: 2: 0000000000000000\n",
      "padding block: 3: 0000000000000000\n",
      "padding block: 4: 0000000000000000\n",
      "padding block: 5: 0000000000000018\n",
      "Padding to be applieds: 80000000000000000000000000000000000000000000000000000000000000000000000000000018\n"
     ]
    }
   ],
   "source": [
    "# Create padding for text file contents.\n",
    "sha256Padding('example.txt')"
   ]
  },
  {
   "cell_type": "markdown",
   "metadata": {
    "vscode": {
     "languageId": "plaintext"
    }
   },
   "source": [
    "## Task 4: Prime Numbers"
   ]
  },
  {
   "cell_type": "markdown",
   "metadata": {},
   "source": [
    "Calculate the first 100 prime numbers using two different algorithms.  \n",
    "Any algorithms that are well-established and works correctly are okay to use.  \n",
    "Explain how the algorithms work.  "
   ]
  },
  {
   "cell_type": "markdown",
   "metadata": {},
   "source": [
    "What is a prime number?  \n",
    "A [prime number](https://en.wikipedia.org/wiki/Prime_number) can be defined as a natural number greater than 1 that is not a product of two smaller natural numbers."
   ]
  },
  {
   "cell_type": "markdown",
   "metadata": {},
   "source": [
    "What is a composite number?  \n",
    "A [composite number](https://en.wikipedia.org/wiki/Composite_number) is a positive integer that can be formed by multiplying two smaller positive integers."
   ]
  },
  {
   "cell_type": "markdown",
   "metadata": {},
   "source": [
    "Algorithm 1: [The Sieve of Eratosthenes](https://brilliant.org/wiki/sieve-of-eratosthenes/)  \n",
    "The Sieve of Eratosthenes starts with a list of numbers from 1 - N. Beginning with 2, it crosses out all multiples of 2. It then moves to the next prime number and repeats the process of crossing out its multiples. This continues until reaching the square root of N."
   ]
  },
  {
   "cell_type": "markdown",
   "metadata": {},
   "source": [
    "why do we start with 2?  \n",
    "We start with 2 as it is the smallest prime number."
   ]
  },
  {
   "cell_type": "markdown",
   "metadata": {},
   "source": [
    "Why do we cross out multiples?  \n",
    "If 2 is prime but its multiples (4,6,8...) can be divided by 2 they are not prime as they can be divided by factors other than 1 and themselves."
   ]
  },
  {
   "cell_type": "markdown",
   "metadata": {},
   "source": [
    "Why do we use the square root of N?  \n",
    "If we take N to be 25, we only need to check for prime factors up to the square root of 25 (5) because any composite number must have at least one prime factor less than or equal to its square root."
   ]
  },
  {
   "cell_type": "markdown",
   "metadata": {},
   "source": [
    "So first we create a numpy array whose length is determined by the input + 1. This array is populated with True boolean values, this is for marking prime candidates, with the first two values (at indices 0 and 1) set to False as 0 and 1 are not prime numbers. Then we loop from 2 to the square root of the input (not the full size), we check if the current number is a prime, if it is we set all the multiples of this number to be marked as False so they don't have to be checked again. This process repeats until we arrive at the integer value of the square root of the input. Finally, we use numpy.nonzero() to extract the indices where values are still True, which gives us the list of prime numbers. This is the Sieve of Eratosthenes algorithm."
   ]
  },
  {
   "cell_type": "code",
   "execution_count": 59,
   "metadata": {},
   "outputs": [],
   "source": [
    "def sieve_of_eratosthenes(a):\n",
    "    \"\"\"\n",
    "    Implementation of the Sieve of Eratosthenes algorithm to find all prime numbers up to a given limit a.\n",
    "\n",
    "    Args:\n",
    "        a : The upper limit to find prime numbers.\n",
    "\n",
    "    Returns:\n",
    "        numpy.ndarray : An array of prime numbers up to the limit a.\n",
    "    \"\"\"\n",
    "    # Creates a numpy array of booleans of size a + 1 all set to True .\n",
    "    is_prime = numpy.ones(a +1, dtype=bool)\n",
    "\n",
    "    # Sets the first two values in the array to False\n",
    "    is_prime[:2] = False\n",
    "\n",
    "    # Loops through numbers starting at 2 to the square root of a.\n",
    "    for p in range(2, int(math.sqrt(a) + 1)):\n",
    "        \n",
    "        # Checks if the value at this index is True\n",
    "        if is_prime[p]:\n",
    "            # Sets all multiples of the number n at indices to False..\n",
    "            is_prime[p * p::p] = False\n",
    "    \n",
    "    # Returns the prime numbers as a numpy array.\n",
    "    return numpy.nonzero(is_prime)[0]    "
   ]
  },
  {
   "cell_type": "markdown",
   "metadata": {},
   "source": [
    "Initialize 100,000,000 as the bound for prime number generation."
   ]
  },
  {
   "cell_type": "code",
   "execution_count": 60,
   "metadata": {},
   "outputs": [],
   "source": [
    "# Intializes the variable a to 100000000.\n",
    "b = 100000000"
   ]
  },
  {
   "cell_type": "markdown",
   "metadata": {},
   "source": [
    "Call The sieve_of_eratosthenes with this bound."
   ]
  },
  {
   "cell_type": "code",
   "execution_count": 61,
   "metadata": {},
   "outputs": [],
   "source": [
    "# Call the sieve_of_eratosthenes function with the value of b.\n",
    "largerprimes = sieve_of_eratosthenes(b)"
   ]
  },
  {
   "cell_type": "code",
   "execution_count": 62,
   "metadata": {},
   "outputs": [
    {
     "name": "stdout",
     "output_type": "stream",
     "text": [
      "prime numbers less than 100000000: [ 2  3  5  7 11 13 17 19 23 29]\n"
     ]
    }
   ],
   "source": [
    "#  Print the first 10 prime numbers.\n",
    "print(f\"prime numbers less than {b}: {largerprimes[:10]}\")"
   ]
  },
  {
   "cell_type": "markdown",
   "metadata": {},
   "source": [
    "Algorithim 2: [Wheel factorization](https://en.wikipedia.org/wiki/Wheel_factorization):  \n",
    "is defined as a method for generating a sequence of natural numbers by repeated additions, as determined by a number of the first few primes, so that the generated numbers    \n",
    "are coprime with these primes, by construction\"."
   ]
  },
  {
   "cell_type": "markdown",
   "metadata": {},
   "source": [
    "Wheel factorization starts with something called the basis primes, which function as the foundation for this algorithm. You will choose a small list of initial primes as your basis."
   ]
  },
  {
   "cell_type": "code",
   "execution_count": 63,
   "metadata": {},
   "outputs": [],
   "source": [
    "# Basis primes.\n",
    "inital_primes = [2,3,5]"
   ]
  },
  {
   "cell_type": "markdown",
   "metadata": {},
   "source": [
    "We will get the LCM of the basis primes."
   ]
  },
  {
   "cell_type": "code",
   "execution_count": 64,
   "metadata": {},
   "outputs": [
    {
     "name": "stdout",
     "output_type": "stream",
     "text": [
      "30\n"
     ]
    }
   ],
   "source": [
    "\n",
    "# Calculate the LCM of the basis primes and print to screen. \n",
    "lcm_example = math.lcm(*inital_primes)\n",
    "print(lcm_example)"
   ]
  },
  {
   "cell_type": "markdown",
   "metadata": {},
   "source": [
    "This defines a cycle the length of the LCM in this case 30."
   ]
  },
  {
   "cell_type": "markdown",
   "metadata": {},
   "source": [
    "Here we define an example function in python that will generate the pattern that forms the basis of the wheel.\n",
    "\n",
    "It takes the basis primes (2,3,5) and their respective LCM (30) as parameters.\n",
    "\n",
    "It checks from 0-29 what numbers are not divisible by the basis primes.\n",
    "\n",
    "This pattern returns [1, 7, 11, 13, 17, 19, 23, 29]. This means that\n",
    "for each cycle there will be 8 positions whose values are not divisible by the primes in\n",
    "the first cycle.\n",
    "\n",
    "Thus, in each cycle of 30 we only need to check the values at these 8 positions as the values in the other 22 positions are guaranteed to be divisible by at least 1 of (2,3,5)."
   ]
  },
  {
   "cell_type": "code",
   "execution_count": 65,
   "metadata": {},
   "outputs": [],
   "source": [
    "def example_wheel_pattern(basis_primes, lcm):\n",
    "    \"\"\"\n",
    "    Demonstrates the wheel pattern for wheel factorization.\n",
    "\n",
    "    Args:\n",
    "        basis_primes : A list of basis primes.\n",
    "        lcm : The least common multiple of the basis primes.\n",
    "\n",
    "        rerurns:\n",
    "        list : A list of numbers that are not divisible by the basis primes.\n",
    "    \"\"\"\n",
    "    # Wheel pattern.\n",
    "    pattern = []\n",
    "\n",
    "    # Loop through the  range of the least common multiple.\n",
    "    for number in range(lcm):\n",
    "\n",
    "        # Check if the number is not divisible by the basis primes.\n",
    "        if all(number % p != 0 for p in basis_primes):\n",
    "\n",
    "            # Append the number to the wheel pattern.\n",
    "            pattern.append(number)\n",
    "\n",
    "    # Return the wheel pattern.\n",
    "    return pattern"
   ]
  },
  {
   "cell_type": "code",
   "execution_count": 66,
   "metadata": {},
   "outputs": [
    {
     "name": "stdout",
     "output_type": "stream",
     "text": [
      "[1, 7, 11, 13, 17, 19, 23, 29]\n"
     ]
    }
   ],
   "source": [
    "# Print the first cycle of the wheel pattern.\n",
    "pattern_exmaple = example_wheel_pattern(inital_primes, lcm_example)\n",
    "print(pattern_exmaple)"
   ]
  },
  {
   "cell_type": "markdown",
   "metadata": {},
   "source": [
    "Why do this at all?\n",
    "So in the context of this example, if we are generating the first 300 prime numbers, this would run for 10 cycles, each cycle the length of 30, and 22 possibilities eliminated from each cycle would mean that we have reduced the amount of numbers to be tested for primality by 73.33 recurring %. This is a huge reduction, especially when dealing with the generation of larger prime numbers."
   ]
  },
  {
   "cell_type": "markdown",
   "metadata": {},
   "source": [
    "Trial division implementation for verifying the primiality of the basis primes and for primiality testing in wheel factorizationn."
   ]
  },
  {
   "cell_type": "code",
   "execution_count": 67,
   "metadata": {},
   "outputs": [],
   "source": [
    "def trial_division(n, primes):\n",
    "    \"\"\"\n",
    "    Implementation of trial division algorithm to check if a number n is prime.\n",
    "\n",
    "    Args:\n",
    "        n : The number to check for primality.\n",
    "        primes : A list of prime numbers to use for trial division.\n",
    "\n",
    "    returns:\n",
    "        bool : True if n is prime, False otherwise.\n",
    "    \"\"\"\n",
    "    # If the number is less than 2 its not prime.\n",
    "    if n < 2:\n",
    "\n",
    "    # Return False.\n",
    "        return False\n",
    "    \n",
    "    # Loop through the primes.\n",
    "    for p in primes:\n",
    "\n",
    "        # If the  prime is greater than the square root of n, break the loop.\n",
    "        if p > math.isqrt(n):\n",
    "            break\n",
    "\n",
    "        # If n is divisbily by any prime it is composite.\n",
    "        if n % p == 0:\n",
    "            return False\n",
    "        \n",
    "    # If no prime divides n, then n is prime.\n",
    "    return True"
   ]
  },
  {
   "cell_type": "markdown",
   "metadata": {},
   "source": [
    "Confirming the primality of the basis primes."
   ]
  },
  {
   "cell_type": "code",
   "execution_count": 68,
   "metadata": {},
   "outputs": [],
   "source": [
    "# Run the trial division function on each basis prime candidate.\n",
    "res1 = trial_division(2, [])\n",
    "res2 = trial_division(3, [2])\n",
    "res3 = trial_division(5, [2,3])"
   ]
  },
  {
   "cell_type": "markdown",
   "metadata": {},
   "source": [
    "Print basis primes to screen."
   ]
  },
  {
   "cell_type": "code",
   "execution_count": 69,
   "metadata": {},
   "outputs": [
    {
     "name": "stdout",
     "output_type": "stream",
     "text": [
      "True\n",
      "True\n",
      "True\n"
     ]
    }
   ],
   "source": [
    "# Print the results of the trial division function.\n",
    "print(res1)\n",
    "print(res2)\n",
    "print(res3)"
   ]
  },
  {
   "cell_type": "markdown",
   "metadata": {},
   "source": [
    "My implementation of wheel factorization is a generator which produces values on demand.  \n",
    "Initially yielding the first primes from the basis primes input.   \n",
    "It then initializes a list of primes and the next number to be checked for primality.   \n",
    "It counts the number of basis primes and computes the LCM.  \n",
    "It creates a list of numbers from 0 to cycle_size - 1 but only keeps values in the cycle that don't have the basis primes as factors or are themselves basis primes.  \n",
    "It converts the wheel pattern to a set for faster look-up.\n",
    "The function loops until it finds n primes, or if n is not specified it will run indefinitely.  \n",
    "It checks if the current number is in the wheel pattern, then calls the trial division function to verify primality, increments the prime count, yields the candidate, and moves to the next candidate."
   ]
  },
  {
   "cell_type": "code",
   "execution_count": 70,
   "metadata": {},
   "outputs": [],
   "source": [
    "def optimized_wf(n, basis_primes):\n",
    "\n",
    "    # Return the first 3 primes.\n",
    "    yield from basis_primes\n",
    "\n",
    "    # Create a list of primes.\n",
    "    current_prime_list = list(basis_primes)\n",
    "\n",
    "    # The next number to check for primality.\n",
    "    candidate = max(basis_primes) + 1\n",
    "\n",
    "    # Number of primes.\n",
    "    count = len(basis_primes)\n",
    "\n",
    "    # Next number to check for primality.\n",
    "    cycle_size = math.lcm(*basis_primes)\n",
    "\n",
    "    # Create a pattern of numbers that aren't divisible by any of the basis primes/\n",
    "    wheel_pattern = [candidate for candidate  in range(cycle_size) if all(candidate  % p != 0 or candidate == p for p in basis_primes)]\n",
    "    \n",
    "    # Convert wheel pattern to set.\n",
    "    wheel_positions = set(wheel_pattern)\n",
    "\n",
    "    # Loop until we find n primes or indefinitely.\n",
    "    while n is None or count < n:\n",
    "\n",
    "        # Checks if the current number is in the wheel pattern.\n",
    "        if candidate % cycle_size in wheel_positions:\n",
    "\n",
    "            # Checks if the candidate is prime via trial division.\n",
    "            if trial_division(candidate, current_prime_list):\n",
    "\n",
    "                # Add the candidate to the list of primes.\n",
    "                current_prime_list.append(candidate)\n",
    "\n",
    "                # Incremnent prime count.\n",
    "                count += 1\n",
    "\n",
    "                # Yield primes one at a time.\n",
    "                yield candidate\n",
    "\n",
    "        # Move to the next number.\n",
    "        candidate += 1\n",
    "        "
   ]
  },
  {
   "cell_type": "markdown",
   "metadata": {},
   "source": [
    "Computes the first 100 primes via wheel factorization."
   ]
  },
  {
   "cell_type": "code",
   "execution_count": 71,
   "metadata": {},
   "outputs": [
    {
     "name": "stdout",
     "output_type": "stream",
     "text": [
      "[2, 3, 5, 7, 11, 13, 17, 19, 23, 29, 31, 37, 41, 43, 47, 53, 59, 61, 67, 71, 73, 79, 83, 89, 97, 101, 103, 107, 109, 113, 127, 131, 137, 139, 149, 151, 157, 163, 167, 173, 179, 181, 191, 193, 197, 199, 211, 223, 227, 229, 233, 239, 241, 251, 257, 263, 269, 271, 277, 281, 283, 293, 307, 311, 313, 317, 331, 337, 347, 349, 353, 359, 367, 373, 379, 383, 389, 397, 401, 409, 419, 421, 431, 433, 439, 443, 449, 457, 461, 463, 467, 479, 487, 491, 499, 503, 509, 521, 523, 541]\n"
     ]
    }
   ],
   "source": [
    "# Print the first 100 primes.\n",
    "print(list(optimized_wf(100,[2,3,5])))"
   ]
  },
  {
   "cell_type": "markdown",
   "metadata": {},
   "source": [
    "## Task 5: Roots\n"
   ]
  },
  {
   "cell_type": "markdown",
   "metadata": {},
   "source": [
    "Calculate the first 32 bits of the fractional part of the square roots of the first 100 prime numbers."
   ]
  },
  {
   "cell_type": "markdown",
   "metadata": {},
   "source": [
    "Using the algorithm from the previous task, we generate the first 100 prime numbers."
   ]
  },
  {
   "cell_type": "code",
   "execution_count": 72,
   "metadata": {},
   "outputs": [],
   "source": [
    "# Generate the first 100 primes.\n",
    "first_100_primes = list(optimized_wf(100, [2,3,5]))"
   ]
  },
  {
   "cell_type": "markdown",
   "metadata": {},
   "source": [
    "Display the fhe first 10 primes."
   ]
  },
  {
   "cell_type": "code",
   "execution_count": 73,
   "metadata": {},
   "outputs": [
    {
     "name": "stdout",
     "output_type": "stream",
     "text": [
      "[2, 3, 5, 7, 11, 13, 17, 19, 23, 29]\n"
     ]
    }
   ],
   "source": [
    "# Print a slice of the first 100 primes.\n",
    "print(first_100_primes[:10])"
   ]
  },
  {
   "cell_type": "markdown",
   "metadata": {},
   "source": [
    "What is a square root? [Square root definition.](https://en.wikipedia.org/wiki/Square_root)  \n",
    "\"In mathematics, a square root of a number x is a number y such that $y^{2}=x$\" in other words,  \n",
    "a number y whose square (the result of multiplying the number by itself, or $y\\cdot y$) is x  "
   ]
  },
  {
   "cell_type": "markdown",
   "metadata": {},
   "source": [
    "[math.isqrt method usage](https://docs.python.org/3/library/math.html#math.isqrt)  \n",
    "Python's implementation of the square root operation from the math module functions perfectly for perfect squares such as 4,9,16 etc....\n",
    "But when we start dealing with irrational numbers we can see very small rounding errors introduced as irrational numbers cannot be computed. "
   ]
  },
  {
   "cell_type": "markdown",
   "metadata": {},
   "source": [
    "[Python floating point numbers.](https://en.wikipedia.org/wiki/IEEE_754#Formats) Python uses double precision for floating point numbers which is specified under the basic and interchange formats table. For the purpose of this work we are focusing on the Decimal digits subheading of the Significand heading which states that a number can have up to 15.95 digits after the decimal point. In practice it will go up to 16."
   ]
  },
  {
   "cell_type": "code",
   "execution_count": 74,
   "metadata": {},
   "outputs": [
    {
     "name": "stdout",
     "output_type": "stream",
     "text": [
      "3.0\n",
      "1.4142135623730951\n"
     ]
    }
   ],
   "source": [
    "# Print the square root of 9.\n",
    "print(math.sqrt(9))\n",
    "\n",
    "# Prints an approximation of the square root of 2.\n",
    "print(math.sqrt(2))"
   ]
  },
  {
   "cell_type": "markdown",
   "metadata": {},
   "source": [
    "Due to the rounding errors introduced from both Python and binary limitations of representing floating point errors we can see these small rounding errors, when  \n",
    "we multiply Python's approximation of the square root of 2 by itself and we get 2.0000000000000004."
   ]
  },
  {
   "cell_type": "code",
   "execution_count": 75,
   "metadata": {},
   "outputs": [],
   "source": [
    "# Approximation of the square root of 2 multiplied by itself.\n",
    "example_root = math.sqrt(2) * math.sqrt(2) "
   ]
  },
  {
   "cell_type": "code",
   "execution_count": 76,
   "metadata": {},
   "outputs": [
    {
     "name": "stdout",
     "output_type": "stream",
     "text": [
      "2.0000000000000004\n"
     ]
    }
   ],
   "source": [
    "# Print the result to the screen.\n",
    "print(example_root)"
   ]
  },
  {
   "cell_type": "markdown",
   "metadata": {},
   "source": [
    "The consquence of this, is when running equivalence operations on floating point numbers one must be cautious of rounding errors that can introduce false positives/negatives.\n"
   ]
  },
  {
   "cell_type": "code",
   "execution_count": 77,
   "metadata": {},
   "outputs": [
    {
     "name": "stdout",
     "output_type": "stream",
     "text": [
      "True\n"
     ]
    }
   ],
   "source": [
    "# Check if the result is not equal to 2.\n",
    "if(example_root != 2):\n",
    "    # Print True to the screen.\n",
    "    print(\"True\")"
   ]
  },
  {
   "cell_type": "markdown",
   "metadata": {},
   "source": [
    "[numpy sqrt() method usage](https://numpy.org/doc/stable/reference/generated/numpy.sqrt.html)  The numpy implementation of the square root function although differs  in implementation (discussed below) suffers with the same constraints as discussed above."
   ]
  },
  {
   "cell_type": "code",
   "execution_count": 78,
   "metadata": {},
   "outputs": [
    {
     "name": "stdout",
     "output_type": "stream",
     "text": [
      "3.0\n",
      "1.4142135623730951\n"
     ]
    }
   ],
   "source": [
    "# Print the square root of 9 using numpy.\n",
    "print(numpy.sqrt(9))\n",
    "# Print the approximation of the square root of 2 using numpy.\n",
    "print(numpy.sqrt(2))"
   ]
  },
  {
   "cell_type": "code",
   "execution_count": 79,
   "metadata": {},
   "outputs": [],
   "source": [
    "# Approximation of the square root of 2 multiplied by itself using numpy.\n",
    "example_root2 = 1.4142135623730951 * 1.4142135623730951"
   ]
  },
  {
   "cell_type": "code",
   "execution_count": 80,
   "metadata": {},
   "outputs": [
    {
     "name": "stdout",
     "output_type": "stream",
     "text": [
      "2.0000000000000004\n"
     ]
    }
   ],
   "source": [
    "# Print the result to the screen.\n",
    "print(example_root2)"
   ]
  },
  {
   "cell_type": "markdown",
   "metadata": {},
   "source": [
    "[First 40 prime numbers](https://en.wikipedia.org/wiki/List_of_prime_numbers)"
   ]
  },
  {
   "cell_type": "code",
   "execution_count": 81,
   "metadata": {},
   "outputs": [],
   "source": [
    "# List of the first 40 prime numbers.\n",
    "example40_primes = [2,\t3,\t5,\t7,\t11,\t13,\t17,\t19,\t23,\t29,\t31,\t37,\t41,\t43,\t47,\t53,\t59,\t61,\t67,\t71,\n",
    "                    73,\t79,\t83,\t89,\t97,\t101, 103, 107, 109,\t113, 127, 131, 137, 139, 149, 151, 157, 163, 167, 173 ]"
   ]
  },
  {
   "cell_type": "markdown",
   "metadata": {},
   "source": [
    "Some of the ways numpy.sqrt() function differs itself from math.sqrt() is math.sqrt() has to operate on an element by element of an array where numpy.sqrt() can operate on an entire array."
   ]
  },
  {
   "cell_type": "code",
   "execution_count": 82,
   "metadata": {},
   "outputs": [
    {
     "name": "stdout",
     "output_type": "stream",
     "text": [
      "[ 1.41421356  1.73205081  2.23606798  2.64575131  3.31662479  3.60555128\n",
      "  4.12310563  4.35889894  4.79583152  5.38516481  5.56776436  6.08276253\n",
      "  6.40312424  6.55743852  6.8556546   7.28010989  7.68114575  7.81024968\n",
      "  8.18535277  8.42614977  8.54400375  8.88819442  9.11043358  9.43398113\n",
      "  9.8488578  10.04987562 10.14889157 10.34408043 10.44030651 10.63014581\n",
      " 11.26942767 11.44552314 11.70469991 11.78982612 12.20655562 12.28820573\n",
      " 12.52996409 12.76714533 12.92284798 13.15294644]\n"
     ]
    }
   ],
   "source": [
    "# Print the square root of the first 40 prime numbers using numpy.\n",
    "print(numpy.sqrt(example40_primes))"
   ]
  },
  {
   "cell_type": "markdown",
   "metadata": {},
   "source": [
    "To achieve the same functionality with the math library one has to use a list comprehension in conjunction with the math.sqrt which is arguably a little more verbose but definitely more inefficient."
   ]
  },
  {
   "cell_type": "code",
   "execution_count": 83,
   "metadata": {},
   "outputs": [
    {
     "name": "stdout",
     "output_type": "stream",
     "text": [
      "[1.4142135623730951, 1.7320508075688772, 2.23606797749979, 2.6457513110645907, 3.3166247903554, 3.605551275463989, 4.123105625617661, 4.358898943540674, 4.795831523312719, 5.385164807134504, 5.5677643628300215, 6.082762530298219, 6.4031242374328485, 6.557438524302, 6.855654600401044, 7.280109889280518, 7.681145747868608, 7.810249675906654, 8.18535277187245, 8.426149773176359, 8.54400374531753, 8.888194417315589, 9.1104335791443, 9.433981132056603, 9.848857801796104, 10.04987562112089, 10.14889156509222, 10.344080432788601, 10.44030650891055, 10.63014581273465, 11.269427669584644, 11.445523142259598, 11.704699910719626, 11.789826122551595, 12.206555615733702, 12.288205727444508, 12.529964086141668, 12.767145334803704, 12.922847983320086, 13.152946437965905]\n"
     ]
    }
   ],
   "source": [
    "# Print the square root of the first 40 prime numbers using math libary..\n",
    "print([math.sqrt(prime) for prime in example40_primes])"
   ]
  },
  {
   "cell_type": "code",
   "execution_count": 84,
   "metadata": {},
   "outputs": [
    {
     "ename": "KeyboardInterrupt",
     "evalue": "",
     "output_type": "error",
     "traceback": [
      "\u001b[0;31m---------------------------------------------------------------------------\u001b[0m",
      "\u001b[0;31mKeyboardInterrupt\u001b[0m                         Traceback (most recent call last)",
      "Cell \u001b[0;32mIn[84], line 2\u001b[0m\n\u001b[1;32m      1\u001b[0m \u001b[38;5;66;03m# Generate the first 2 million primes.\u001b[39;00m\n\u001b[0;32m----> 2\u001b[0m aPrimes \u001b[38;5;241m=\u001b[39m\u001b[38;5;28;43mlist\u001b[39;49m\u001b[43m(\u001b[49m\u001b[43m(\u001b[49m\u001b[43moptimized_wf\u001b[49m\u001b[43m(\u001b[49m\u001b[38;5;241;43m2000000\u001b[39;49m\u001b[43m,\u001b[49m\u001b[43m \u001b[49m\u001b[43m[\u001b[49m\u001b[38;5;241;43m2\u001b[39;49m\u001b[43m,\u001b[49m\u001b[38;5;241;43m3\u001b[39;49m\u001b[43m,\u001b[49m\u001b[38;5;241;43m5\u001b[39;49m\u001b[43m]\u001b[49m\u001b[43m)\u001b[49m\u001b[43m)\u001b[49m\u001b[43m)\u001b[49m\n",
      "Cell \u001b[0;32mIn[70], line 31\u001b[0m, in \u001b[0;36moptimized_wf\u001b[0;34m(n, basis_primes)\u001b[0m\n\u001b[1;32m     25\u001b[0m \u001b[38;5;28;01mwhile\u001b[39;00m n \u001b[38;5;129;01mis\u001b[39;00m \u001b[38;5;28;01mNone\u001b[39;00m \u001b[38;5;129;01mor\u001b[39;00m count \u001b[38;5;241m<\u001b[39m n:\n\u001b[1;32m     26\u001b[0m \n\u001b[1;32m     27\u001b[0m     \u001b[38;5;66;03m# Checks if the current number is in the wheel pattern.\u001b[39;00m\n\u001b[1;32m     28\u001b[0m     \u001b[38;5;28;01mif\u001b[39;00m candidate \u001b[38;5;241m%\u001b[39m cycle_size \u001b[38;5;129;01min\u001b[39;00m wheel_positions:\n\u001b[1;32m     29\u001b[0m \n\u001b[1;32m     30\u001b[0m         \u001b[38;5;66;03m# Checks if the candidate is prime via trial division.\u001b[39;00m\n\u001b[0;32m---> 31\u001b[0m         \u001b[38;5;28;01mif\u001b[39;00m \u001b[43mtrial_division\u001b[49m\u001b[43m(\u001b[49m\u001b[43mcandidate\u001b[49m\u001b[43m,\u001b[49m\u001b[43m \u001b[49m\u001b[43mcurrent_prime_list\u001b[49m\u001b[43m)\u001b[49m:\n\u001b[1;32m     32\u001b[0m \n\u001b[1;32m     33\u001b[0m             \u001b[38;5;66;03m# Add the candidate to the list of primes.\u001b[39;00m\n\u001b[1;32m     34\u001b[0m             current_prime_list\u001b[38;5;241m.\u001b[39mappend(candidate)\n\u001b[1;32m     36\u001b[0m             \u001b[38;5;66;03m# Incremnent prime count.\u001b[39;00m\n",
      "Cell \u001b[0;32mIn[67], line 22\u001b[0m, in \u001b[0;36mtrial_division\u001b[0;34m(n, primes)\u001b[0m\n\u001b[1;32m     18\u001b[0m \u001b[38;5;66;03m# Loop through the primes.\u001b[39;00m\n\u001b[1;32m     19\u001b[0m \u001b[38;5;28;01mfor\u001b[39;00m p \u001b[38;5;129;01min\u001b[39;00m primes:\n\u001b[1;32m     20\u001b[0m \n\u001b[1;32m     21\u001b[0m     \u001b[38;5;66;03m# If the  prime is greater than the square root of n, break the loop.\u001b[39;00m\n\u001b[0;32m---> 22\u001b[0m     \u001b[38;5;28;01mif\u001b[39;00m p \u001b[38;5;241m>\u001b[39m \u001b[43mmath\u001b[49m\u001b[38;5;241;43m.\u001b[39;49m\u001b[43misqrt\u001b[49m\u001b[43m(\u001b[49m\u001b[43mn\u001b[49m\u001b[43m)\u001b[49m:\n\u001b[1;32m     23\u001b[0m         \u001b[38;5;28;01mbreak\u001b[39;00m\n\u001b[1;32m     25\u001b[0m     \u001b[38;5;66;03m# If n is divisbily by any prime it is composite.\u001b[39;00m\n",
      "\u001b[0;31mKeyboardInterrupt\u001b[0m: "
     ]
    }
   ],
   "source": [
    "# Generate the first 2 million primes.\n",
    "aPrimes =list((optimized_wf(2000000, [2,3,5])))"
   ]
  },
  {
   "cell_type": "code",
   "execution_count": null,
   "metadata": {},
   "outputs": [],
   "source": [
    "# Calculate the square root of the 2 million primes using numpy\n",
    "squaresNumpy = numpy.sqrt(aPrimes)"
   ]
  },
  {
   "cell_type": "code",
   "execution_count": null,
   "metadata": {},
   "outputs": [],
   "source": [
    "# Calculate the square root of the first 2 million primes using math library.\n",
    "squaresMath = [math.sqrt(prime) for prime in list(aPrimes)]"
   ]
  },
  {
   "cell_type": "markdown",
   "metadata": {},
   "source": [
    "Although there is only a 0.1s< difference in this example, if you moved into larger list's of primes there would be an increasing time difference highlighting the effiency of numpy.sqrt() over math.sqrt()."
   ]
  },
  {
   "cell_type": "markdown",
   "metadata": {},
   "source": [
    "Now we begin to calculate the fractional parts of the first 100 primes."
   ]
  },
  {
   "cell_type": "code",
   "execution_count": null,
   "metadata": {},
   "outputs": [],
   "source": [
    "# Calculate the square roots of the first 100 primes.\n",
    "sqrt_values = numpy.sqrt(first_100_primes)"
   ]
  },
  {
   "cell_type": "code",
   "execution_count": null,
   "metadata": {},
   "outputs": [
    {
     "name": "stdout",
     "output_type": "stream",
     "text": [
      "[1.41421356 1.73205081 2.23606798 2.64575131 3.31662479 3.60555128\n",
      " 4.12310563 4.35889894 4.79583152 5.38516481]\n"
     ]
    }
   ],
   "source": [
    "# Print the square roots of the first 10 primes.\n",
    "print(sqrt_values[:10])"
   ]
  },
  {
   "cell_type": "markdown",
   "metadata": {},
   "source": [
    "[numpy.floor() usage](https://numpy.org/doc/2.2/reference/generated/numpy.floor.html)  \n",
    "Here we are using numpy.floor() to isolate the fractional part of each prime number.    [flooring definition](https://en.wikipedia.org/wiki/Floor_and_ceiling_functions) flooring is rounding down a number to the lowest integer that is less than or equal to said number."
   ]
  },
  {
   "cell_type": "code",
   "execution_count": null,
   "metadata": {},
   "outputs": [],
   "source": [
    "# Number that we want the fractional part of.\n",
    "example_floor  = 2.46"
   ]
  },
  {
   "cell_type": "code",
   "execution_count": null,
   "metadata": {},
   "outputs": [
    {
     "name": "stdout",
     "output_type": "stream",
     "text": [
      "2.46\n"
     ]
    }
   ],
   "source": [
    "# Print.\n",
    "print(example_floor)"
   ]
  },
  {
   "cell_type": "code",
   "execution_count": null,
   "metadata": {},
   "outputs": [],
   "source": [
    "# Integer value of the floored number.\n",
    "example_whole = numpy.floor(example_floor)"
   ]
  },
  {
   "cell_type": "code",
   "execution_count": null,
   "metadata": {},
   "outputs": [
    {
     "name": "stdout",
     "output_type": "stream",
     "text": [
      "2.0\n"
     ]
    }
   ],
   "source": [
    "# Print.\n",
    "print(example_whole)"
   ]
  },
  {
   "cell_type": "code",
   "execution_count": null,
   "metadata": {},
   "outputs": [
    {
     "name": "stdout",
     "output_type": "stream",
     "text": [
      "0.45999999999999996\n"
     ]
    }
   ],
   "source": [
    "# Subtract the Integer value from the number pre-flooring to isolate the fractional part.\n",
    "print(example_floor - example_whole)"
   ]
  },
  {
   "cell_type": "markdown",
   "metadata": {},
   "source": [
    "We are leveraging numpy's capacity to operate on an entire array to subtract the integer part from square root of the first 100 primes to isolate the fractional part."
   ]
  },
  {
   "cell_type": "code",
   "execution_count": null,
   "metadata": {},
   "outputs": [],
   "source": [
    "# Get the fractional parts of the first 100 primes.\n",
    "frac = sqrt_values - numpy.floor(sqrt_values)"
   ]
  },
  {
   "cell_type": "code",
   "execution_count": null,
   "metadata": {},
   "outputs": [
    {
     "name": "stdout",
     "output_type": "stream",
     "text": [
      "[0.41421356 0.73205081 0.23606798 0.64575131 0.31662479 0.60555128\n",
      " 0.12310563 0.35889894 0.79583152 0.38516481]\n"
     ]
    }
   ],
   "source": [
    "# Print the fractional parts of the first 10 primes.\n",
    "print(frac[:10])"
   ]
  },
  {
   "cell_type": "markdown",
   "metadata": {},
   "source": [
    "[Scaling in binary](https://en.wikipedia.org/wiki/Fixed-point_arithmetic) Scaling in this sense can be defined as \"In computing, fixed-point is a method of representing fractional (non-integer) numbers by storing a fixed number of digits of their fractional part.\" In the context of what we are doing we are multiplying the fractional part by 2^32 to shift over the decimal point and casting it as an integer."
   ]
  },
  {
   "cell_type": "code",
   "execution_count": null,
   "metadata": {},
   "outputs": [],
   "source": [
    "# move the fractional part 32 bits in front of the decimal point.\n",
    "int_val = numpy.floor(frac * (2**32)).astype(numpy.int64)"
   ]
  },
  {
   "cell_type": "code",
   "execution_count": null,
   "metadata": {},
   "outputs": [
    {
     "name": "stdout",
     "output_type": "stream",
     "text": [
      "[1779033703 3144134277 1013904242 2773480762 1359893119 2600822924\n",
      "  528734635 1541459225 3418070365 1654270250]\n"
     ]
    }
   ],
   "source": [
    "# Print the first 10 scaled integer values of fractional parts of the first 10 primes.\n",
    "print(int_val[:10])"
   ]
  },
  {
   "cell_type": "code",
   "execution_count": null,
   "metadata": {},
   "outputs": [
    {
     "name": "stdout",
     "output_type": "stream",
     "text": [
      "√     2 fractional part (32 bits): 01101010000010011110011001100111\n",
      "√     3 fractional part (32 bits): 10111011011001111010111010000101\n",
      "√     5 fractional part (32 bits): 00111100011011101111001101110010\n",
      "√     7 fractional part (32 bits): 10100101010011111111010100111010\n",
      "√    11 fractional part (32 bits): 01010001000011100101001001111111\n",
      "√    13 fractional part (32 bits): 10011011000001010110100010001100\n",
      "√    17 fractional part (32 bits): 00011111100000111101100110101011\n",
      "√    19 fractional part (32 bits): 01011011111000001100110100011001\n",
      "√    23 fractional part (32 bits): 11001011101110111001110101011101\n",
      "√    29 fractional part (32 bits): 01100010100110100010100100101010\n"
     ]
    }
   ],
   "source": [
    "# Iterate over the first 100 primes and their corresponding scaled integer values.\n",
    "for prime, val in list(zip(first_100_primes, int_val))[:10]:\n",
    "    # Print the square root of the prime number and the binary value of the fractional part.\n",
    "    print(f\"√{prime:6} fractional part (32 bits): {val:032b}\")"
   ]
  },
  {
   "cell_type": "markdown",
   "metadata": {},
   "source": [
    "## Task 6: Proof of Work\n",
    "Find the word(s) in the English language with the greatest number of 0 bits at the beginning of their SHA256 hash digest.\n",
    "Include proof that any word you list is in at least one English dictionary."
   ]
  },
  {
   "cell_type": "markdown",
   "metadata": {},
   "source": [
    "This will contain the individual words from our words.txt file."
   ]
  },
  {
   "cell_type": "code",
   "execution_count": null,
   "metadata": {},
   "outputs": [],
   "source": [
    "# Empty list to store words.\n",
    "words = []"
   ]
  },
  {
   "cell_type": "markdown",
   "metadata": {},
   "source": [
    "So we have a words.txt file from [Source for English words](https://github.com/dwyl/english-words/blob/master/words.txt). This file has over 466k English words with each word on a separate line. These lines are read in one by one with the white space being stripped and the individual word being added to our words list."
   ]
  },
  {
   "cell_type": "code",
   "execution_count": null,
   "metadata": {},
   "outputs": [],
   "source": [
    "# Open a file in read mode.\n",
    "with open('words.txt', 'r') as file:\n",
    "    # Iterate over each line in the file.\n",
    "    for line in file:\n",
    "        # Append each line to the list of words.\n",
    "        words.append(line.strip())"
   ]
  },
  {
   "cell_type": "markdown",
   "metadata": {},
   "source": [
    "Prints the first 10 words to screen."
   ]
  },
  {
   "cell_type": "code",
   "execution_count": null,
   "metadata": {},
   "outputs": [
    {
     "name": "stdout",
     "output_type": "stream",
     "text": [
      "['2', '1080', '&c', '10-point', '10th', '11-point', '12-point', '16-point', '18-point', '1st']\n"
     ]
    }
   ],
   "source": [
    "# Print the first 10 words from the list.\n",
    "print(words[:10])"
   ]
  },
  {
   "cell_type": "markdown",
   "metadata": {},
   "source": [
    "The hash library is part of the standard Python package and provides implementations for hashing algorithms. [hashlib.sha256() implementation](https://docs.python.org/3/library/hashlib.html) This returns a hash object that is an implementation of the SHA-256 hashing algorithm."
   ]
  },
  {
   "cell_type": "code",
   "execution_count": null,
   "metadata": {},
   "outputs": [
    {
     "name": "stdout",
     "output_type": "stream",
     "text": [
      "<sha256 _hashlib.HASH object @ 0x7d7ec4490070>\n"
     ]
    }
   ],
   "source": [
    "# Creates a SHA-256 hash object.\n",
    "h = hashlib.sha256()\n",
    "\n",
    "# Prints the string representation of the SHA-256 hash object.\n",
    "print(h)"
   ]
  },
  {
   "cell_type": "markdown",
   "metadata": {},
   "source": [
    "Once we have our hash object, we take a byte array as a parameter. The hash object processes it."
   ]
  },
  {
   "cell_type": "code",
   "execution_count": null,
   "metadata": {},
   "outputs": [],
   "source": [
    "# Process byte array.\n",
    "h.update(b\"hello\")"
   ]
  },
  {
   "cell_type": "markdown",
   "metadata": {},
   "source": [
    "Once we call digest()/hexdigest() on the hash object, we get the raw bytes or hexadecimal representation of the hash."
   ]
  },
  {
   "cell_type": "code",
   "execution_count": null,
   "metadata": {},
   "outputs": [
    {
     "data": {
      "text/plain": [
       "b',\\xf2M\\xba_\\xb0\\xa3\\x0e&\\xe8;*\\xc5\\xb9\\xe2\\x9e\\x1b\\x16\\x1e\\\\\\x1f\\xa7B^s\\x043b\\x93\\x8b\\x98$'"
      ]
     },
     "execution_count": 113,
     "metadata": {},
     "output_type": "execute_result"
    }
   ],
   "source": [
    "# Print the sha256 hash of the byte array in bytes\n",
    "h.digest()"
   ]
  },
  {
   "cell_type": "code",
   "execution_count": null,
   "metadata": {},
   "outputs": [
    {
     "data": {
      "text/plain": [
       "'2cf24dba5fb0a30e26e83b2ac5b9e29e1b161e5c1fa7425e73043362938b9824'"
      ]
     },
     "execution_count": 114,
     "metadata": {},
     "output_type": "execute_result"
    }
   ],
   "source": [
    "# Print the sha256 hash of the byte array in hex.\n",
    "h.hexdigest()"
   ]
  },
  {
   "cell_type": "markdown",
   "metadata": {},
   "source": [
    "We create an empty dictionary to store the words and their hex hashes."
   ]
  },
  {
   "cell_type": "code",
   "execution_count": null,
   "metadata": {},
   "outputs": [],
   "source": [
    "# Empty dictionary to store the words and the hex hashes of the words in text file.\n",
    "word_hashes = {}"
   ]
  },
  {
   "cell_type": "markdown",
   "metadata": {},
   "source": [
    "So we iterate over each word creating a new SHA-256 object for each word. The reason a new object is created every time is if you hashed two words with the same object the hash of the second word would be equal to \"word1,word2\" which is not inherently bad but in instances where you need the individual hash of each word such as this task, passwords etc., this can be problematic. Each word is then processed, converted to lowercase, and converted to byte array using the UTF-8 standard. Then the word and the hash of each word is added to a dictionary."
   ]
  },
  {
   "cell_type": "code",
   "execution_count": null,
   "metadata": {},
   "outputs": [],
   "source": [
    "# Iterate over each word in the list of words.\n",
    "for word in words:\n",
    "\n",
    "    # Create a SHA-256 hash object for each word.\n",
    "    hash_obj = hashlib.sha256()\n",
    "\n",
    "    # Process each word converting to lowercase and to a byte array.\n",
    "    hash_obj.update(word.lower().encode('utf-8'))\n",
    "\n",
    "    # Store the word and the hash of each word in the dictionary.\n",
    "    word_hashes[word.lower()] = hash_obj.hexdigest()\n"
   ]
  },
  {
   "cell_type": "markdown",
   "metadata": {},
   "source": [
    "We use itertools.islice() to limit the iteration to only the first 10 key-value pairs from the word_hashes dictionary. For each pair, we unpack the word and its corresponding hash value and display them in a formatted string."
   ]
  },
  {
   "cell_type": "code",
   "execution_count": null,
   "metadata": {},
   "outputs": [
    {
     "name": "stdout",
     "output_type": "stream",
     "text": [
      "Word: 2, Hash: d4735e3a265e16eee03f59718b9b5d03019c07d8b6c51f90da3a666eec13ab35\n",
      "Word: 1080, Hash: 32eb1a8dafeb0873c8d00b0e9058c8c77ff6c6d9235b3236989c50ef63d8f9ba\n",
      "Word: &c, Hash: ef9d5f1f8123b6c9e371d37a328ba389b8d8955b37b7cf39a5446e1e3bdd6fe1\n",
      "Word: 10-point, Hash: 08626fa4ca073e17c263e237fe04ed7e1ca311c966b8d61a18c802cf976058ff\n",
      "Word: 10th, Hash: 3d303171e2763bc5e53e750aa5598d4a2dd621c34f9d6a6db9158b13a46cc7d4\n",
      "Word: 11-point, Hash: b2181c7daf4d6c9fb47d10b2d3d9c362c1617c0a4f6f513f39a4dbfd7657b08f\n",
      "Word: 12-point, Hash: efd4bf9093ab8f49e2dc9d413bdb8ae06771594f158a237b4501f846bc5ea8af\n",
      "Word: 16-point, Hash: b521cb8a5fb7812fdf90a0fc46ffa35f4c3730cfa1fe1666ead11747094c5298\n",
      "Word: 18-point, Hash: 20eb4081004055723323f3c66366f767aa031c34356d71e093defae99cdf71c4\n",
      "Word: 1st, Hash: e01ddf6594a4387bbf520e7d678578151b8824849cc02783c66e9da6c07f953e\n"
     ]
    }
   ],
   "source": [
    "# For each word and hash value in the dictionary.\n",
    "for word, hash_value in itertools.islice(word_hashes.items(),10):\n",
    "    # Print the word and its hash value.\n",
    "    print(f\"Word: {word}, Hash: {hash_value}\")"
   ]
  },
  {
   "cell_type": "markdown",
   "metadata": {},
   "source": [
    "Now we need a dictionary to store the words and their binary values of the hashes so the leading 0 bits can be counted."
   ]
  },
  {
   "cell_type": "code",
   "execution_count": null,
   "metadata": {},
   "outputs": [],
   "source": [
    "# Create an empty dictionary.\n",
    "word_bin = {}"
   ]
  },
  {
   "cell_type": "markdown",
   "metadata": {},
   "source": [
    "We then iterate over our word and hash key-value pairs from the word_hash dictionary. The hex hash is converted to an integer that's converted to a binary string representation with the '0b' prefix removed, as this would interfere with the 0 count. The binary value is then padded with extra 0 bits until it's the length of 256 characters. The word and its corresponding binary string are added to the dictionary."
   ]
  },
  {
   "cell_type": "code",
   "execution_count": null,
   "metadata": {},
   "outputs": [],
   "source": [
    "# For each word and hash value in the dictionary.\n",
    "for word, hash_value in word_hashes.items():\n",
    "    # Convert the hash value from hex to binary and store it in the dictionary.\n",
    "    word_bin[word] = bin(int(hash_value, 16))[2:].zfill(256)"
   ]
  },
  {
   "cell_type": "markdown",
   "metadata": {},
   "source": [
    "We use itertools.islice() to limit the iteration to only the first 10 key-value pairs from the word_bin dictionary. For each pair, we unpack the word and its corresponding binary representation of the hex hash and display them in a formatted string."
   ]
  },
  {
   "cell_type": "code",
   "execution_count": null,
   "metadata": {},
   "outputs": [
    {
     "name": "stdout",
     "output_type": "stream",
     "text": [
      "Word: 2, Hash value in binary: 1101010001110011010111100011101000100110010111100001011011101110111000000011111101011001011100011000101110011011010111010000001100000001100111000000011111011000101101101100010100011111100100001101101000111010011001100110111011101100000100111010101100110101\n",
      "Word: 1080, Hash value in binary: 0011001011101011000110101000110110101111111010110000100001110011110010001101000000001011000011101001000001011000110010001100011101111111111101101100011011011001001000110101101100110010001101101001100010011100010100001110111101100011110110001111100110111010\n",
      "Word: &c, Hash value in binary: 1110111110011101010111110001111110000001001000111011011011001001111000110111000111010011011110100011001010001011101000111000100110111000110110001001010101011011001101111011011111001111001110011010010101000100011011100001111000111011110111010110111111100001\n",
      "Word: 10-point, Hash value in binary: 0000100001100010011011111010010011001010000001110011111000010111110000100110001111100010001101111111111000000100111011010111111000011100101000110001000111001001011001101011100011010110000110100001100011001000000000101100111110010111011000000101100011111111\n",
      "Word: 10th, Hash value in binary: 0011110100110000001100010111000111100010011101100011101111000101111001010011111001110101000010101010010101011001100011010100101000101101110101100010000111000011010011111001110101101010011011011011100100010101100010110001001110100100011011001100011111010100\n",
      "Word: 11-point, Hash value in binary: 1011001000011000000111000111110110101111010011010110110010011111101101000111110100010000101100101101001111011001110000110110001011000001011000010111110000001010010011110110111101010001001111110011100110100100110110111111110101110110010101111011000010001111\n",
      "Word: 12-point, Hash value in binary: 1110111111010100101111111001000010010011101010111000111101001001111000101101110010011101010000010011101111011011100010101110000001100111011100010101100101001111000101011000101000100011011110110100010100000001111110000100011010111100010111101010100010101111\n",
      "Word: 16-point, Hash value in binary: 1011010100100001110010111000101001011111101101111000000100101111110111111001000010100000111111000100011011111111101000110101111101001100001101110011000011001111101000011111111000010110011001101110101011010001000101110100011100001001010011000101001010011000\n",
      "Word: 18-point, Hash value in binary: 0010000011101011010000001000000100000000010000000101010101110010001100110010001111110011110001100110001101100110111101110110011110101010000000110001110000110100001101010110110101110001111000001001001111011110111110101110100110011100110111110111000111000100\n",
      "Word: 1st, Hash value in binary: 1110000000011101110111110110010110010100101001000011100001111011101111110101001000001110011111010110011110000101011110000001010100011011100010000010010010000100100111001100000000100111100000111100011001101110100111011010011011000000011111111001010100111110\n"
     ]
    }
   ],
   "source": [
    "# For each word and binary value in the dictionary.\n",
    "for word, bin_value in itertools.islice(word_bin.items(),10):\n",
    "    # Print the word and its binary value.\n",
    "    print(f\"Word: {word}, Hash value in binary: {bin_value}\")"
   ]
  },
  {
   "cell_type": "markdown",
   "metadata": {},
   "source": [
    "We initialized an empty dictionary for the word and the count of the number of leading 0's in each binary representation of the hex hash of the word. We iterate over the dictionary containing the word and the binary representation of the hex hash. We then iterate over the binary representation and for each 0 we find, the leading zeros count is increased by 1 until we encounter a 1, and then the loop exits and returns a dictionary with the word and its corresponding leading 0s count."
   ]
  },
  {
   "cell_type": "code",
   "execution_count": null,
   "metadata": {},
   "outputs": [],
   "source": [
    "\n",
    "# Create an empty dictionary.\n",
    "word_leading_zeros = {}\n",
    "\n",
    "# For each word and binary representation.\n",
    "for word, bin_value in word_bin.items():\n",
    "\n",
    "    # Initialize a variable to count leading zeros.\n",
    "    leading_zeros = 0\n",
    "    \n",
    "    # for each character in the binary representation.\n",
    "    for char in bin_value:\n",
    "        # If the character is a zero, increment the leading zeros counter.\n",
    "        if char == '0':\n",
    "            leading_zeros += 1\n",
    "        else:\n",
    "            # Break the loop once a non-zero character is encountered.\n",
    "            break\n",
    "\n",
    "    # Add the word and the number of leading zeros to the dictionary.\n",
    "    word_leading_zeros[word] = leading_zeros\n",
    "  "
   ]
  },
  {
   "cell_type": "markdown",
   "metadata": {},
   "source": [
    "We use itertools.islice() to limit the iteration to only the first 10 key-value pairs from the word_leading_zeros dictionary. For each pair, we unpack the word and its corresponding leading zeros count and display them in a formatted string."
   ]
  },
  {
   "cell_type": "code",
   "execution_count": null,
   "metadata": {},
   "outputs": [
    {
     "name": "stdout",
     "output_type": "stream",
     "text": [
      "Word: 2, Hash: 0\n",
      "Word: 1080, Hash: 2\n",
      "Word: &c, Hash: 0\n",
      "Word: 10-point, Hash: 4\n",
      "Word: 10th, Hash: 2\n",
      "Word: 11-point, Hash: 0\n",
      "Word: 12-point, Hash: 0\n",
      "Word: 16-point, Hash: 0\n",
      "Word: 18-point, Hash: 2\n",
      "Word: 1st, Hash: 0\n"
     ]
    }
   ],
   "source": [
    "\n",
    "# For each word and leading 0 count in the dictionary.\n",
    "for word, leading_zeros in itertools.islice(word_leading_zeros.items(),10):\n",
    "    # Print the word and its leading zeros count.\n",
    "    print(f\"Word: {word}, Hash: {leading_zeros}\")"
   ]
  },
  {
   "cell_type": "markdown",
   "metadata": {},
   "source": [
    "Then we sort the words by using a lambda expression to sort by leading 0's rather than the word and reverse the order so that the words with the most leading 0's appear first."
   ]
  },
  {
   "cell_type": "code",
   "execution_count": null,
   "metadata": {},
   "outputs": [],
   "source": [
    "# Sort the leading zeros counts in descending order.\n",
    "word_leading_zeros = sorted(word_leading_zeros.items(), key=lambda x: x[1], reverse=True)"
   ]
  },
  {
   "cell_type": "markdown",
   "metadata": {},
   "source": [
    "We iterate over the first 10 values of the list sorted by leading 0's and the word. We access the word_leading_zeros dictionary and unpack the tuple into word and zeros."
   ]
  },
  {
   "cell_type": "code",
   "execution_count": null,
   "metadata": {},
   "outputs": [
    {
     "name": "stdout",
     "output_type": "stream",
     "text": [
      "Leading Zeros: 18, Word: goaltenders\n",
      "Leading Zeros: 16, Word: evander\n",
      "Leading Zeros: 16, Word: guilefulness\n",
      "Leading Zeros: 16, Word: mismatchment\n",
      "Leading Zeros: 15, Word: duppa\n",
      "Leading Zeros: 15, Word: grady\n",
      "Leading Zeros: 15, Word: mountable\n",
      "Leading Zeros: 15, Word: palala\n",
      "Leading Zeros: 15, Word: suavely\n",
      "Leading Zeros: 14, Word: alpestral\n"
     ]
    }
   ],
   "source": [
    "# Iterate over the leading zeros tuple.\n",
    "for word, zeros in word_leading_zeros[:10]:\n",
    "    # Print the leading zeros count and the word.\n",
    "    print(f\"Leading Zeros: {zeros}, Word: {word}\")"
   ]
  },
  {
   "cell_type": "markdown",
   "metadata": {},
   "source": [
    "We create a variable to store the highest number of leading zeros."
   ]
  },
  {
   "cell_type": "code",
   "execution_count": null,
   "metadata": {},
   "outputs": [],
   "source": [
    "# Highest number of leading zeros.\n",
    "highest_zeros = max(zeros for word, zeros in word_leading_zeros)"
   ]
  },
  {
   "cell_type": "markdown",
   "metadata": {},
   "source": [
    "This looks through the leading zeros list to find the word/words with the highest leading 0's count."
   ]
  },
  {
   "cell_type": "code",
   "execution_count": null,
   "metadata": {},
   "outputs": [],
   "source": [
    "# Find the word/words with the highest leading zeros count.\n",
    "word_with_highest_zeros = [word for word, zeros in word_leading_zeros if zeros == highest_zeros]"
   ]
  },
  {
   "cell_type": "markdown",
   "metadata": {},
   "source": [
    "Print the word with the highest leading zeros count to the screen."
   ]
  },
  {
   "cell_type": "code",
   "execution_count": null,
   "metadata": {},
   "outputs": [
    {
     "name": "stdout",
     "output_type": "stream",
     "text": [
      "Word with highest leading zeros: goaltenders, Leading Zeros: 18\n"
     ]
    }
   ],
   "source": [
    "\n",
    "# Print the word with the highest leading zeros count.\n",
    "print(f\"Word with highest leading zeros: {word}, Leading Zeros: {highest_zeros}\")"
   ]
  },
  {
   "cell_type": "markdown",
   "metadata": {},
   "source": [
    "[Proof goaltenders is in a dictionary](https://dictionary.cambridge.org/dictionary/english/goaltender)"
   ]
  },
  {
   "cell_type": "markdown",
   "metadata": {},
   "source": [
    "## Task 7: Turing Machines"
   ]
  },
  {
   "cell_type": "markdown",
   "metadata": {},
   "source": [
    "Design a Turing Machine that adds 1 to a binary number on its tape.\n",
    "The machine should start at the left-most non-blank symbol.\n",
    "It should treat the right-most symbol as the least significant bit."
   ]
  },
  {
   "cell_type": "markdown",
   "metadata": {},
   "source": [
    "[On Computable Numbers, with an Application to the Entscheidungsproblem](https://people.math.ethz.ch/~halorenz/4students/Literatur/TuringFullText.pdf)\n",
    "Proceedings of the London Mathematical Society Series 2, 42, 230-265\n",
    "Turing, A. M. (1937)\n",
    "\n",
    "This paper both formed the basis for modern computing and gives us context of what this task is about. In this paper, Turing defined a theoretical 'a-machine' which has come to be known as a Turing machine thanks to Alonzo Church.\n",
    "\n",
    "Turing initially defined 5 components for this machine as:\n",
    "\n",
    "1. Infinite tape\n",
    "2. Scanner\n",
    "3. Finite set of m-configurations\n",
    "4. Set of configuration formulas\n",
    "5. Starting configuration.\n"
   ]
  },
  {
   "cell_type": "markdown",
   "metadata": {},
   "source": [
    "From the 1950s onwards, as computer science was finding its feet in academia, there was a lot of work done that led to new representations of the Turing machine that kept Turing's computational model intact but created a standardization of it that is still used today, defined as:\n",
    "[modern turing machine definition](https://en.wikipedia.org/wiki/Turing_machine#Formal_definition)"
   ]
  },
  {
   "cell_type": "markdown",
   "metadata": {},
   "source": [
    "A machine is a 7-tuple (Q, T, b, A, d, s, F) where:\n",
    "\n",
    "1. Q is a finite, non-empty set. We call the elements states; this was m-configurations.\n",
    "2. T is a finite, non-empty set called the tape alphabet. Any cell can hold one of these. This was the alphabet that could be printed on the tape.\n",
    "3. b is the blank symbol.\n",
    "4. A is the input alphabet, which is a subset of T excluding b.\n",
    "5. d is the transition function d:(Q\\F)xT -> QxTx{L,R}. These are the configuration formulas in m-configurations.\n",
    "6. s is the initial state. It must be an element of Q.\n",
    "7. F is a subset of Q. The elements are called final states.\n",
    "\n",
    "This gives us the template to approach designing a Turing Machine that adds 1 to a binary number on its tape."
   ]
  },
  {
   "cell_type": "markdown",
   "metadata": {},
   "source": [
    "| STATES | MEANING |\n",
    "|----------|----------|\n",
    "| U  | Intial | |\n",
    "| S  |  Scanning |\n",
    "| A  | Adding | \n",
    "| C  | Carrying |\n",
    "| X  | Reject | \n",
    "| Y  | Accept | "
   ]
  },
  {
   "cell_type": "markdown",
   "metadata": {},
   "source": [
    "The states I'm settling on as described above were based on the steps you would take adding 1 to a binary number. A start state to indicate work has begun, which I've called U. If we consider the operation of adding 1 to 1111, you could deduce that it will become 10000. But when you get numbers such as 10101111111111111111111111111111111111111111, this becomes a bit more complex."
   ]
  },
  {
   "cell_type": "markdown",
   "metadata": {},
   "source": [
    "So where do you start? Well, you need to go to the least significant bit, and in order to do this, you're going to need a state to represent this movement, which I called S. The operations you'd be performing on this binary number would be addition in order to add a '1' to the binary value and to carry this 1 so the appropriate 0's and 1's change. The states I represented with A and C respectively. Then lastly, an accept state to indicate a successful addition called Y and a reject state X, which I will talk about below."
   ]
  },
  {
   "cell_type": "code",
   "execution_count": null,
   "metadata": {},
   "outputs": [],
   "source": [
    "# The set of states for the turing machine.\n",
    "Q = {'U','S','A','C',' X','Y'}"
   ]
  },
  {
   "cell_type": "markdown",
   "metadata": {},
   "source": [
    "The tape alphabet will contain both 0, 1, which are the necessary symbols for binary addition, and the blank symbol, which has a multitude of uses such as representing infinite tape. It marks boundaries for the input; in this context, it also facilitates expansion wherein if I add '1' to '1111', it allows me to represent '10000'. This is by no means an exhaustive list of its uses."
   ]
  },
  {
   "cell_type": "code",
   "execution_count": null,
   "metadata": {},
   "outputs": [],
   "source": [
    "# Tape Alphabet - underscore is b.\n",
    "T = {'0','1','_'}"
   ]
  },
  {
   "cell_type": "code",
   "execution_count": null,
   "metadata": {},
   "outputs": [],
   "source": [
    "# Blank Symbol.\n",
    "b = '_'"
   ]
  },
  {
   "cell_type": "markdown",
   "metadata": {},
   "source": [
    "The input alphabet here is defining what binary addition can be performed on."
   ]
  },
  {
   "cell_type": "code",
   "execution_count": null,
   "metadata": {},
   "outputs": [],
   "source": [
    "# Input Alphabet.\n",
    "A = {'0','1'}"
   ]
  },
  {
   "cell_type": "markdown",
   "metadata": {},
   "source": [
    "Below is my transtion table for my turing machine.  \n",
    "if the machine is in the intial satate and reads a 0, it transtiosn to the S state (scans) writes a 0 and moves the head right.\n",
    "\n",
    "if the machine is in the intial satate and reads a 1, it transtiosn to the S state (scans) writes a 1 and moves the head right.\n",
    "\n",
    "if the machine is in the intial satate and reads a _, it transtiosn to the X state (Reject) writes a _ and moves the head right and halts.\n",
    "\n",
    "if the machine is in the s satate (scans) and reads a 0, it transtiosn to the S state (scans) writes a 0 and moves the head right.\n",
    "\n",
    "if the machine is in the s satate (scans) and reads a 1, it transtiosn to the S state (scans) writes a 1 and moves the head right.\n",
    "\n",
    "if the machine is in the s satate (scans) and reads a _, it transtiosn to the A state (Add) writes a _ and moves the head left.\n",
    "\n",
    "if the machine is in the A satate (Add) and reads a 0, it transtiosn to the Y state (Success) writes a 1 and moves the head left and halts.\n",
    "\n",
    "if the machine is in the A satate (Add) and reads a 1, it transtiosn to the C state (Carry) writes a 0 and moves the head left.\n",
    "\n",
    "if the machine is in the A satate (Add) and reads a _, it transtiosn to the Y state (Success) writes a 1 and moves the head left and halts.\n",
    "\n",
    "if the machine is in the C satate (Carry) and reads a 0, it transtiosn to the Y state (Success) writes a 1 and moves the head left and halts.\n",
    "\n",
    "if the machine is in the C satate (Carry) and reads a 1, it transtiosn to the C state (Carry) writes a 0 and moves the head left.\n",
    "\n",
    "if the machine is in the C satate (Carry) and reads a _, it transtiosn to the Y state (Success) writes a 1 and moves the head left and halts."
   ]
  },
  {
   "cell_type": "markdown",
   "metadata": {},
   "source": [
    "| Current State | Read Symbol | Next State | Write Symbol | Move Direction |\n",
    "|---------------|------------|------------|--------------|----------------|\n",
    "| U         | 0          | S       | 0            | R              |\n",
    "| U         | 1          | S       | 1            | R              |\n",
    "| U         | _          | X | _          | R              |\n",
    "| S          | 0          | S       | 0            | R              |\n",
    "| S          | 1          | S       | 1            | R              |\n",
    "| S          | _          | A        | _            | L              |\n",
    "| A           | 0          | Y | 1         | L              |\n",
    "| A           | 1          | C      | 0            | L              |\n",
    "| A           | _          | Y | 1         | L              |\n",
    "| C         | 0          | Y | 1         | L              |\n",
    "| C         | 1          | C      | 0            | L              |\n",
    "| C         | _          | Y | 1         | L              |"
   ]
  },
  {
   "cell_type": "code",
   "execution_count": null,
   "metadata": {},
   "outputs": [],
   "source": [
    "def d(state, symbol):\n",
    "    table = {\n",
    "\n",
    "        ('START', '0'): ('SCAN', '0', 'R'),\n",
    "        ('START', '1'): ('SCAN', '1', 'R'),\n",
    "        ('START', '_'): ('FINAL_REJECT', '_', 'R'),\n",
    "\n",
    "        ('SCAN', '0'): ('SCAN', '0', 'R'),\n",
    "        ('SCAN', '1'): ('SCAN', '1', 'R'),\n",
    "        ('SCAN', '_'): ('ADD', '_', 'L'),\n",
    "\n",
    "        ('ADD', '0'): ('FINAL_SUCCESS', '1', 'L'),\n",
    "        ('ADD', '1'): ('CARRY', '0', 'L'),\n",
    "        ('ADD', '_'): ('FINAL_SUCCESS', '1', 'L'),\n",
    "\n",
    "        ('CARRY', '0'): ('FINAL_SUCCESS', '1', 'L'),\n",
    "        ('CARRY', '1'): ('CARRY', '0', 'L'),\n",
    "        ('CARRY', '_'): ('FINAL_SUCCESS', '1', 'L'),\n",
    "    }\n",
    "    return table[(state, symbol)]"
   ]
  },
  {
   "cell_type": "markdown",
   "metadata": {},
   "source": [
    "These are just defining the intial states and the final states of the turing machine."
   ]
  },
  {
   "cell_type": "code",
   "execution_count": null,
   "metadata": {},
   "outputs": [],
   "source": [
    "# Intial state.\n",
    "S = 'U'"
   ]
  },
  {
   "cell_type": "code",
   "execution_count": null,
   "metadata": {},
   "outputs": [],
   "source": [
    "# Final state.\n",
    "F = {'X', 'Y'}"
   ]
  },
  {
   "cell_type": "markdown",
   "metadata": {},
   "source": [
    "Just a note: Initially when I ran this, I just had a final state of done in my transition table, but was quite unsure how to handle an input that was just '_' in my simulator without violating the constraints of a Turing machine [Accept/Reject States](https://www.geeksforgeeks.org/turing-machine-in-toc/) Whereas my previous iteration was treating it as a '0' and adding '1', I felt this approach was a much more logical way of handling the input whilst maintaining the functionality of a Turing machine."
   ]
  },
  {
   "cell_type": "markdown",
   "metadata": {},
   "source": [
    "The configuration table above forms the basis for my state_table that will be passed as a parameter to my Turing machine function."
   ]
  },
  {
   "cell_type": "code",
   "execution_count": null,
   "metadata": {},
   "outputs": [],
   "source": [
    "state_table = {\n",
    "    \n",
    "        # Start state transitions.\n",
    "        ('START', '0'): ('SCAN', '0', 'R'),\n",
    "        ('START', '1'): ('SCAN', '1', 'R'),\n",
    "        ('START', '_'): ('FINAL_REJECT', '_', 'R'),\n",
    "\n",
    "        # Scan state transitions.\n",
    "        ('SCAN', '0'): ('SCAN', '0', 'R'),\n",
    "        ('SCAN', '1'): ('SCAN', '1', 'R'),\n",
    "        ('SCAN', '_'): ('ADD', '_', 'L'),\n",
    "\n",
    "        # Add state transitions.\n",
    "        ('ADD', '0'): ('FINAL_SUCCESS', '1', 'L'),\n",
    "        ('ADD', '1'): ('CARRY', '0', 'L'),\n",
    "        ('ADD', '_'): ('FINAL_SUCCESS', '1', 'L'),\n",
    "\n",
    "        # Carry state transitions.\n",
    "        ('CARRY', '0'): ('FINAL_SUCCESS', '1', 'L'),\n",
    "        ('CARRY', '1'): ('CARRY', '0', 'L'),\n",
    "        ('CARRY', '_'): ('FINAL_SUCCESS', '1', 'L'),\n",
    "}"
   ]
  },
  {
   "cell_type": "markdown",
   "metadata": {},
   "source": [
    "This is my implementation of a Turing machine simulator. It takes a state table as a parameter, the initial input to be on the tape, and a verbose flag to set if you do/don't want to see the initial tape, the full state and transition log, and the number of operations to complete.\n",
    "\n",
    "To avoid situations where no input is given, if there is no input, it inserts the '_' as a way for the Turing machine to handle no inputs.\n",
    "\n",
    "It creates the tape from the initial input by converting it into a string array. So '1000' would become ['1','0','0','0'], mimicking the tape for the Turing machine.\n",
    "\n",
    "It performs table lookups from the configurations table to derive the initial state, states that transition, and states that transition to other states. It converts these to sets to remove duplicates and subtracts states from the latter two to identify the final states.\n",
    "\n",
    "Then, while it's not in the final state, it reads a symbol and queries the table with the current state and symbol. Based on this transition state, it writes the associated symbol. Then a check is performed if the direction was returned. It decrements the tape to mimic moving left if it was left, and if it was right, it increments the tape to mimic moving right.\n",
    "\n",
    "If the tape reaches the end or beginning of the tape, it inserts a '_' to circumnavigate an index out of bounds error.\n",
    "\n",
    "It then prints the current position and state on the tape.\n",
    "\n",
    "Once the Turing machine has halted, the final number of operations is returned and the final state is printed."
   ]
  },
  {
   "cell_type": "code",
   "execution_count": null,
   "metadata": {},
   "outputs": [],
   "source": [
    "def simulate(table, initial_input, verbose=True):\n",
    "    \"\"\"\n",
    "    Simulates a Turing machine based on the provided transition table and an input to be put on the tape.\n",
    "\n",
    "    Args:\n",
    "        table (dict): A transition table where keys are (state, symbol) tuples and values are (next_state, write_symbol, direction) tuples.\n",
    "        initial_input (str): The initial input string to be placed on the tape.\n",
    "        verbose (bool): If True, prints the state and tape at each step.\n",
    "    \n",
    "    Returns:\n",
    "        str: The final state of the Turing machine.\n",
    "    \"\"\"\n",
    "    # Number of operations till halt.\n",
    "    no_ops = 0\n",
    "\n",
    "    # Current position on the tape.\n",
    "    pos = 0\n",
    "\n",
    "    # Prints the length of the initial input.\n",
    "    if verbose is True:\n",
    "        print(f'Length of input: {len(initial_input)}')\n",
    "    \n",
    "    # If the input is empty, set it equal to the blank symbol.\n",
    "    if initial_input == '':\n",
    "        initial_input = ['_']\n",
    "\n",
    "    # Create a tape from the initial input.\n",
    "    tape = list(initial_input)\n",
    "\n",
    "    # Get the initial state.\n",
    "    state = list(table.keys())[0][0]\n",
    "\n",
    "    # Gets all the states that have outgoing transitions \n",
    "    states_1 = set(i[0] for i in table.keys())\n",
    "\n",
    "    # Gets all the destination states.\n",
    "    states_3 = set(i[0] for i in table.values())\n",
    "\n",
    "    # Gets all the final states.\n",
    "    F = states_3 - states_1\n",
    "\n",
    "    # Prints the initial state and the tape.\n",
    "    if verbose is True:\n",
    "        print(state + ''.join(tape))\n",
    "\n",
    "    # While the current state is not in the final states.\n",
    "    while state not in F:\n",
    "\n",
    "        # Read the current symbol from the tape.\n",
    "        symbol = tape[pos]\n",
    "\n",
    "        # Get next state, symbol, and direction.        \n",
    "        state, tape[pos], direction = table[(state, symbol)]\n",
    "\n",
    "        # Increment the number of operations.\n",
    "        no_ops += 1\n",
    "\n",
    "        # If direction returned from the transition table is L.\n",
    "        if direction == 'L':\n",
    "            # Move left.\n",
    "            pos -= 1\n",
    "        else:\n",
    "            # Move right.\n",
    "            pos += 1\n",
    "        \n",
    "        # If the tape reaches the beginning, add a blank symbol.\n",
    "        if pos < 0:\n",
    "            # Add a blank symbol\n",
    "            tape = ['_'] + tape\n",
    "            pos = 0\n",
    "        \n",
    "        # If the tape reaches the end, add a blank symbol.\n",
    "        if pos == len(tape):\n",
    "            tape.append('_')\n",
    "\n",
    "        # Print the tape with current state and position.\n",
    "        if verbose is True:\n",
    "            print(''.join(tape[:pos]) + state + ''.join(tape[pos:]))\n",
    "\n",
    "    # Print the number of operations to halt.\n",
    "    if verbose is True:\n",
    "        print(f'Number of operations: {no_ops}')\n",
    "\n",
    "    # Return the final state.\n",
    "    return state"
   ]
  },
  {
   "cell_type": "markdown",
   "metadata": {},
   "source": [
    "This is creating a turing machine based on the state table we defined with tape that will be '111'"
   ]
  },
  {
   "cell_type": "code",
   "execution_count": null,
   "metadata": {},
   "outputs": [
    {
     "name": "stdout",
     "output_type": "stream",
     "text": [
      "Length of input: 4\n",
      "START1111\n",
      "1SCAN111\n",
      "11SCAN11\n",
      "111SCAN1\n",
      "1111SCAN_\n",
      "111ADD1_\n",
      "11CARRY10_\n",
      "1CARRY100_\n",
      "CARRY1000_\n",
      "CARRY_0000_\n",
      "FINAL_SUCCESS_10000_\n",
      "Number of operations: 10\n"
     ]
    },
    {
     "data": {
      "text/plain": [
       "'FINAL_SUCCESS'"
      ]
     },
     "execution_count": 274,
     "metadata": {},
     "output_type": "execute_result"
    }
   ],
   "source": [
    "# Simulate the Turing machine for binary addition with the initial input '1111'.\n",
    "simulate(state_table, '1111')"
   ]
  },
  {
   "cell_type": "markdown",
   "metadata": {},
   "source": [
    "This is creating a Turing machine based on the state table we defined with varying tapes to ensure this works as intended."
   ]
  },
  {
   "cell_type": "code",
   "execution_count": null,
   "metadata": {},
   "outputs": [
    {
     "ename": "NameError",
     "evalue": "name 'simulate' is not defined",
     "output_type": "error",
     "traceback": [
      "\u001b[0;31m---------------------------------------------------------------------------\u001b[0m",
      "\u001b[0;31mNameError\u001b[0m                                 Traceback (most recent call last)",
      "Cell \u001b[0;32mIn[102], line 2\u001b[0m\n\u001b[1;32m      1\u001b[0m \u001b[38;5;28;01mfor\u001b[39;00m eg \u001b[38;5;129;01min\u001b[39;00m [\u001b[38;5;124m'\u001b[39m\u001b[38;5;124m'\u001b[39m, \u001b[38;5;124m'\u001b[39m\u001b[38;5;124m0\u001b[39m\u001b[38;5;124m'\u001b[39m, \u001b[38;5;124m'\u001b[39m\u001b[38;5;124m100\u001b[39m\u001b[38;5;124m'\u001b[39m, \u001b[38;5;124m'\u001b[39m\u001b[38;5;124m10101011101100101\u001b[39m\u001b[38;5;124m'\u001b[39m]:\n\u001b[0;32m----> 2\u001b[0m     \u001b[43msimulate\u001b[49m(state_table, eg)\n",
      "\u001b[0;31mNameError\u001b[0m: name 'simulate' is not defined"
     ]
    }
   ],
   "source": [
    "\"Simulate the Turing machine for multiple inputs to ensure functionality.\"\n",
    "for eg in ['', '0', '100', '10101011101100101']:\n",
    "    simulate(state_table, eg)"
   ]
  },
  {
   "cell_type": "markdown",
   "metadata": {},
   "source": [
    "## Task 8: Computational Complexity"
   ]
  },
  {
   "cell_type": "markdown",
   "metadata": {},
   "source": [
    "Implement bubble sort in Python, modifying it to count the number of comparisons made during sorting.  \n",
    "Use this function to sort all permutations of the list:\n",
    "```python\n",
    "L = [1, 2, 4, 5 ,5]\n",
    "```  \n",
    "For each permutation, print the permutation itself followed by the number of comparisons required to sort it."
   ]
  },
  {
   "cell_type": "markdown",
   "metadata": {},
   "source": [
    "Here we are using itertools.permutations to generate all the possible permutations of the provided list of integers.[itertools.permutations usage.](https://docs.python.org/3/library/itertools.html#)  This takes 2 parameters and interable and the length of permutations to be computed. If a length is not specfied or is None, it defaults to the length of the iterable and returns an iterator"
   ]
  },
  {
   "cell_type": "markdown",
   "metadata": {},
   "source": [
    "What is an iterator?  \n",
    "An iterator can be defined as [explaination of an iterator](https://wiki.python.org/moin/Iterator) something that implemnts the __next__() which returns the next element in a sequence, raises a StopIteration exception and can return itself through __iter__()."
   ]
  },
  {
   "cell_type": "markdown",
   "metadata": {},
   "source": [
    "Here we are calling the itertools.permutations function that returns an iterator object."
   ]
  },
  {
   "cell_type": "code",
   "execution_count": null,
   "metadata": {},
   "outputs": [],
   "source": [
    "# Create an iterator for all permutations of an array containing 1, 2, and 3.\n",
    "example1_task_8 = itertools.permutations([1,2,3])"
   ]
  },
  {
   "cell_type": "code",
   "execution_count": null,
   "metadata": {},
   "outputs": [
    {
     "name": "stdout",
     "output_type": "stream",
     "text": [
      "<class 'itertools.permutations'>\n"
     ]
    }
   ],
   "source": [
    "# Print type to screen.\n",
    "print(type(example1_task_8))"
   ]
  },
  {
   "cell_type": "markdown",
   "metadata": {},
   "source": [
    "When we want to get the next value in the iterator, we call the next() function. This will return a tuple consisting of a permutation from the initial array. When this tuple is returned, it is consumed from the iterator, meaning this value cannot be accessed again. When we call next() again, it will move forward to the next permutation."
   ]
  },
  {
   "cell_type": "code",
   "execution_count": null,
   "metadata": {},
   "outputs": [
    {
     "name": "stdout",
     "output_type": "stream",
     "text": [
      "<class 'tuple'>\n"
     ]
    }
   ],
   "source": [
    "# Print type to screen.\n",
    "print(type(next(example1_task_8)))\n"
   ]
  },
  {
   "cell_type": "code",
   "execution_count": null,
   "metadata": {},
   "outputs": [],
   "source": [
    "# Return the first permutation.\n",
    "print(next(example1_task_8))"
   ]
  },
  {
   "cell_type": "code",
   "execution_count": null,
   "metadata": {},
   "outputs": [
    {
     "ename": "StopIteration",
     "evalue": "",
     "output_type": "error",
     "traceback": [
      "\u001b[0;31m---------------------------------------------------------------------------\u001b[0m",
      "\u001b[0;31mStopIteration\u001b[0m                             Traceback (most recent call last)",
      "Cell \u001b[0;32mIn[15], line 2\u001b[0m\n\u001b[1;32m      1\u001b[0m \u001b[38;5;66;03m# Return the second permutation.\u001b[39;00m\n\u001b[0;32m----> 2\u001b[0m \u001b[38;5;28mprint\u001b[39m(\u001b[38;5;28;43mnext\u001b[39;49m\u001b[43m(\u001b[49m\u001b[43mexample1_task_8\u001b[49m\u001b[43m)\u001b[49m)\n",
      "\u001b[0;31mStopIteration\u001b[0m: "
     ]
    }
   ],
   "source": [
    "# Return the second permutation.\n",
    "print(next(example1_task_8))"
   ]
  },
  {
   "cell_type": "markdown",
   "metadata": {},
   "source": [
    "If we want all the values at once, which is often the case, we need to convert this to a data structure, in this case a list. When we do this, next() is being called repeatedly when we convert this to a list, until the list is populated with tuples of the permutations. The StopIteration exception is raised and caught under the hood, and the list will have all the permutations while the iterator we used to populate the list will be empty."
   ]
  },
  {
   "cell_type": "code",
   "execution_count": null,
   "metadata": {},
   "outputs": [],
   "source": [
    "# Convert the iterator to a list.\n",
    "example2_task_8 = list(example1_task_8)"
   ]
  },
  {
   "cell_type": "code",
   "execution_count": null,
   "metadata": {},
   "outputs": [
    {
     "name": "stdout",
     "output_type": "stream",
     "text": [
      "[(1, 2, 3), (1, 3, 2), (2, 1, 3), (2, 3, 1), (3, 1, 2), (3, 2, 1)]\n"
     ]
    }
   ],
   "source": [
    "# Print list of permutations to screen.\n",
    "print(example2_task_8)"
   ]
  },
  {
   "cell_type": "code",
   "execution_count": null,
   "metadata": {},
   "outputs": [
    {
     "name": "stdout",
     "output_type": "stream",
     "text": [
      "[]\n"
     ]
    }
   ],
   "source": [
    "# Print the exhuasted iterator to screen.\n",
    "print(list(example1_task_8))"
   ]
  },
  {
   "cell_type": "markdown",
   "metadata": {},
   "source": [
    "Now we are going to start the task first intilizing the array that will be passed to itertools.permutations."
   ]
  },
  {
   "cell_type": "code",
   "execution_count": null,
   "metadata": {},
   "outputs": [],
   "source": [
    "# List of integers for creating permutations.\n",
    "L = [1, 2, 3, 4, 5]"
   ]
  },
  {
   "cell_type": "markdown",
   "metadata": {},
   "source": [
    "I got an implementation of the bubble sort in python from [this learning resoruce](https://www.geeksforgeeks.org/python-program-for-bubble-sort/). Which I adapted to to count the number of comparsions need to sort."
   ]
  },
  {
   "cell_type": "markdown",
   "metadata": {},
   "source": [
    "The bubble sort algorihim can be defined as ([Bubble Sort Definition](https://www.geeksforgeeks.org/bubble-sort-algorithm/)) a sorting algorithm that works by repeatedly swaping adjacent elements if they are in the wrong order."
   ]
  },
  {
   "cell_type": "markdown",
   "metadata": {},
   "source": [
    "So first we are going to need an array to be sorted, a loop boundary to not go out of bounds during comparisons, an iteration index to track what pass of the bubble sort we are on, and a flag to check if the array is sorted."
   ]
  },
  {
   "cell_type": "code",
   "execution_count": null,
   "metadata": {},
   "outputs": [],
   "source": [
    "# Intial array to be sorted.\n",
    "array = [1,3,7,6,5,4,2]\n",
    "\n",
    "# Loop boundary.\n",
    "loopBoundary = len(array) - 1\n",
    "\n",
    "# Tracks what pass we are on.\n",
    "iteration = 0\n",
    "\n",
    "# Boolen check if the array is sorted.\n",
    "sorted = False"
   ]
  },
  {
   "cell_type": "markdown",
   "metadata": {},
   "source": [
    "On the first pass in the bubble sort we are checking the indexs of the array to be sorted."
   ]
  },
  {
   "cell_type": "code",
   "execution_count": null,
   "metadata": {},
   "outputs": [
    {
     "name": "stdout",
     "output_type": "stream",
     "text": [
      "Pass 1, checking positions 0 to 6\n"
     ]
    }
   ],
   "source": [
    "# Increments the number of passes.\n",
    "iteration += 1\n",
    "\n",
    "# Print the current pass and the to the screen.\n",
    "print(f\"Pass {iteration}, checking positions 0 to {loopBoundary}\")\n",
    "\n",
    "# Set swapped to False.\n",
    "swapped = False"
   ]
  },
  {
   "cell_type": "markdown",
   "metadata": {},
   "source": [
    "This performs one pass of the bubble sort algorithm. It iterates over the unsorted portion of the array. It compares adjacent elements, swapping when the left is larger than the right so that the largest value ends up at the end of the array."
   ]
  },
  {
   "cell_type": "code",
   "execution_count": null,
   "metadata": {},
   "outputs": [
    {
     "name": "stdout",
     "output_type": "stream",
     "text": [
      "Swapped: 6 and 7: [1, 3, 6, 7, 5, 4, 2]\n",
      "Swapped: 5 and 7: [1, 3, 6, 5, 7, 4, 2]\n",
      "Swapped: 4 and 7: [1, 3, 6, 5, 4, 7, 2]\n",
      "Swapped: 2 and 7: [1, 3, 6, 5, 4, 2, 7]\n",
      "End of pass: 1, current array state: [1, 3, 6, 5, 4, 2, 7]\n"
     ]
    }
   ],
   "source": [
    "# Loop through the array.\n",
    "for i in range(loopBoundary):\n",
    "\n",
    "    # Check if the current element is greater than the adjacent element.\n",
    "    if array[i] > array[i + 1]:\n",
    "\n",
    "        # Swap the elements.\n",
    "        array[i], array[i + 1] = array[i + 1], array[i]\n",
    "\n",
    "        # Set swapped to True.\n",
    "        swapped = True\n",
    "        # Print the swapped elements and the current state of the array.\n",
    "        print(f\"Swapped: {array[i]} and {array[i + 1]}: {array}\")\n",
    "        \n",
    "# Print the state of the array and the current pass.        \n",
    "print(f\"End of pass: {iteration}, current array state: {array}\")\n"
   ]
  },
  {
   "cell_type": "markdown",
   "metadata": {},
   "source": [
    "Since the largest value now sits at the end of the array, we need to check one less element so we subtract 1 from the loop boundary. If there are no swaps on the pass or the loop boundary is 0, then we know there are no more comparisons to be made, so the array must be sorted."
   ]
  },
  {
   "cell_type": "code",
   "execution_count": null,
   "metadata": {},
   "outputs": [],
   "source": [
    "# Remove index of the last element.\n",
    "loopBoundary -= 1\n",
    "\n",
    "# If no elements were swapped or there is only one element.\n",
    "if not swapped or loopBoundary == 0:\n",
    "    \n",
    "    # The array is sorted.\n",
    "    sorted = True"
   ]
  },
  {
   "cell_type": "markdown",
   "metadata": {},
   "source": [
    "This just prints to the screen if the array is sorted, if its not the next pass needs to be ran."
   ]
  },
  {
   "cell_type": "code",
   "execution_count": null,
   "metadata": {},
   "outputs": [
    {
     "name": "stdout",
     "output_type": "stream",
     "text": [
      "Array is not sorted run next pass to index 2\n"
     ]
    }
   ],
   "source": [
    "# If the array is sorted print to screen.\n",
    "if sorted:\n",
    "    print(\"Array is sorted\")\n",
    "# If the array is not sorted print to screen run next pass.\n",
    "else:\n",
    "    print(f\"Array is not sorted run next pass with boundary at index {loopBoundary}\")"
   ]
  },
  {
   "cell_type": "markdown",
   "metadata": {},
   "source": [
    "Although it's not generally advised to structure code in Jupyter cells in this manner, these cells still only have to be run once to get an idea of how this algorithm works; it just won't run to completion. I felt that this was the best way I could break this algorithm up into its core components to better explain while also maintaining its core functionality."
   ]
  },
  {
   "cell_type": "markdown",
   "metadata": {},
   "source": [
    "How I achieved modifying it to count the number of comparisons made during sorting was using itertools.permutations to generate the combinations and wrapping the bubble sort in a for loop that iterates over each permutation. The count increases once we are looping over the unsorted part of the array. Whilst I feel that it doesn't look quite right incrementing within this for loop, I'd feel it is implicit that if you are in the unsorted iteration, a comparison is being made."
   ]
  },
  {
   "cell_type": "code",
   "execution_count": null,
   "metadata": {},
   "outputs": [],
   "source": [
    "def bubble_sort(array):\n",
    "    \"\"\"\n",
    "    Bubble sort implementation that iterates over permutations of the input array and prints\n",
    "    each permutation and its corresponding number of comparisons it took to sort.\n",
    "\n",
    "    Args:\n",
    "        array (list): The list of integers to be sorted.\n",
    "\n",
    "    Returns:\n",
    "        None\n",
    "    \"\"\"\n",
    "\n",
    "    # Generate all permutations of the input array.\n",
    "    all_permutations = list(itertools.permutations(array))\n",
    "\n",
    "    # Iterate over each permutation.\n",
    "    for perm in all_permutations:\n",
    "\n",
    "        # Initialize comparisons counter.\n",
    "        comparisons = 0\n",
    "        \n",
    "        # Convert tuple to list for sorting.\n",
    "        sorted_perms = list(perm)\n",
    "\n",
    "        # Set boundary of the unsorted part of the array.\n",
    "        for n in range(len(sorted_perms) -1, 0, -1):\n",
    "\n",
    "            # Initialize flag for tracking swaps in current permutation.\n",
    "            swapped = False\n",
    "\n",
    "            # Loop through the unsorted part of the array.\n",
    "            for i in range(n):\n",
    "\n",
    "                # Increment comparisons counter.\n",
    "                comparisons += 1\n",
    "\n",
    "                # Check if the current element is greater than the adjacent element.\n",
    "                if sorted_perms[i] > sorted_perms[i+1]:\n",
    "\n",
    "                    # Swap the larger element with the smaller one.\n",
    "                    sorted_perms[i], sorted_perms[i+1] = sorted_perms[i+1], sorted_perms[i]\n",
    "\n",
    "                    # Set swapped flag to True for current permutation.\n",
    "                    swapped = True\n",
    "\n",
    "            # If no swaps were made.\n",
    "            if not swapped:\n",
    "\n",
    "                # Exit the loop.\n",
    "                break\n",
    "\n",
    "        # Print the permutation and the number of comparisons it took to sort.\n",
    "        print(f\"permutation {perm} required {comparisons} comparisons to sort.\")"
   ]
  },
  {
   "cell_type": "code",
   "execution_count": null,
   "metadata": {},
   "outputs": [
    {
     "name": "stdout",
     "output_type": "stream",
     "text": [
      "permutation (1, 2, 3, 4, 5) required 4 comparisons to sort.\n",
      "permutation (1, 2, 3, 5, 4) required 7 comparisons to sort.\n",
      "permutation (1, 2, 4, 3, 5) required 7 comparisons to sort.\n",
      "permutation (1, 2, 4, 5, 3) required 9 comparisons to sort.\n",
      "permutation (1, 2, 5, 3, 4) required 7 comparisons to sort.\n",
      "permutation (1, 2, 5, 4, 3) required 9 comparisons to sort.\n",
      "permutation (1, 3, 2, 4, 5) required 7 comparisons to sort.\n",
      "permutation (1, 3, 2, 5, 4) required 7 comparisons to sort.\n",
      "permutation (1, 3, 4, 2, 5) required 9 comparisons to sort.\n",
      "permutation (1, 3, 4, 5, 2) required 10 comparisons to sort.\n",
      "permutation (1, 3, 5, 2, 4) required 9 comparisons to sort.\n",
      "permutation (1, 3, 5, 4, 2) required 10 comparisons to sort.\n",
      "permutation (1, 4, 2, 3, 5) required 7 comparisons to sort.\n",
      "permutation (1, 4, 2, 5, 3) required 9 comparisons to sort.\n",
      "permutation (1, 4, 3, 2, 5) required 9 comparisons to sort.\n",
      "permutation (1, 4, 3, 5, 2) required 10 comparisons to sort.\n",
      "permutation (1, 4, 5, 2, 3) required 9 comparisons to sort.\n",
      "permutation (1, 4, 5, 3, 2) required 10 comparisons to sort.\n",
      "permutation (1, 5, 2, 3, 4) required 7 comparisons to sort.\n",
      "permutation (1, 5, 2, 4, 3) required 9 comparisons to sort.\n",
      "permutation (1, 5, 3, 2, 4) required 9 comparisons to sort.\n",
      "permutation (1, 5, 3, 4, 2) required 10 comparisons to sort.\n",
      "permutation (1, 5, 4, 2, 3) required 9 comparisons to sort.\n",
      "permutation (1, 5, 4, 3, 2) required 10 comparisons to sort.\n",
      "permutation (2, 1, 3, 4, 5) required 7 comparisons to sort.\n",
      "permutation (2, 1, 3, 5, 4) required 7 comparisons to sort.\n",
      "permutation (2, 1, 4, 3, 5) required 7 comparisons to sort.\n",
      "permutation (2, 1, 4, 5, 3) required 9 comparisons to sort.\n",
      "permutation (2, 1, 5, 3, 4) required 7 comparisons to sort.\n",
      "permutation (2, 1, 5, 4, 3) required 9 comparisons to sort.\n",
      "permutation (2, 3, 1, 4, 5) required 9 comparisons to sort.\n",
      "permutation (2, 3, 1, 5, 4) required 9 comparisons to sort.\n",
      "permutation (2, 3, 4, 1, 5) required 10 comparisons to sort.\n",
      "permutation (2, 3, 4, 5, 1) required 10 comparisons to sort.\n",
      "permutation (2, 3, 5, 1, 4) required 10 comparisons to sort.\n",
      "permutation (2, 3, 5, 4, 1) required 10 comparisons to sort.\n",
      "permutation (2, 4, 1, 3, 5) required 9 comparisons to sort.\n",
      "permutation (2, 4, 1, 5, 3) required 9 comparisons to sort.\n",
      "permutation (2, 4, 3, 1, 5) required 10 comparisons to sort.\n",
      "permutation (2, 4, 3, 5, 1) required 10 comparisons to sort.\n",
      "permutation (2, 4, 5, 1, 3) required 10 comparisons to sort.\n",
      "permutation (2, 4, 5, 3, 1) required 10 comparisons to sort.\n",
      "permutation (2, 5, 1, 3, 4) required 9 comparisons to sort.\n",
      "permutation (2, 5, 1, 4, 3) required 9 comparisons to sort.\n",
      "permutation (2, 5, 3, 1, 4) required 10 comparisons to sort.\n",
      "permutation (2, 5, 3, 4, 1) required 10 comparisons to sort.\n",
      "permutation (2, 5, 4, 1, 3) required 10 comparisons to sort.\n",
      "permutation (2, 5, 4, 3, 1) required 10 comparisons to sort.\n",
      "permutation (3, 1, 2, 4, 5) required 7 comparisons to sort.\n",
      "permutation (3, 1, 2, 5, 4) required 7 comparisons to sort.\n",
      "permutation (3, 1, 4, 2, 5) required 9 comparisons to sort.\n",
      "permutation (3, 1, 4, 5, 2) required 10 comparisons to sort.\n",
      "permutation (3, 1, 5, 2, 4) required 9 comparisons to sort.\n",
      "permutation (3, 1, 5, 4, 2) required 10 comparisons to sort.\n",
      "permutation (3, 2, 1, 4, 5) required 9 comparisons to sort.\n",
      "permutation (3, 2, 1, 5, 4) required 9 comparisons to sort.\n",
      "permutation (3, 2, 4, 1, 5) required 10 comparisons to sort.\n",
      "permutation (3, 2, 4, 5, 1) required 10 comparisons to sort.\n",
      "permutation (3, 2, 5, 1, 4) required 10 comparisons to sort.\n",
      "permutation (3, 2, 5, 4, 1) required 10 comparisons to sort.\n",
      "permutation (3, 4, 1, 2, 5) required 9 comparisons to sort.\n",
      "permutation (3, 4, 1, 5, 2) required 10 comparisons to sort.\n",
      "permutation (3, 4, 2, 1, 5) required 10 comparisons to sort.\n",
      "permutation (3, 4, 2, 5, 1) required 10 comparisons to sort.\n",
      "permutation (3, 4, 5, 1, 2) required 10 comparisons to sort.\n",
      "permutation (3, 4, 5, 2, 1) required 10 comparisons to sort.\n",
      "permutation (3, 5, 1, 2, 4) required 9 comparisons to sort.\n",
      "permutation (3, 5, 1, 4, 2) required 10 comparisons to sort.\n",
      "permutation (3, 5, 2, 1, 4) required 10 comparisons to sort.\n",
      "permutation (3, 5, 2, 4, 1) required 10 comparisons to sort.\n",
      "permutation (3, 5, 4, 1, 2) required 10 comparisons to sort.\n",
      "permutation (3, 5, 4, 2, 1) required 10 comparisons to sort.\n",
      "permutation (4, 1, 2, 3, 5) required 7 comparisons to sort.\n",
      "permutation (4, 1, 2, 5, 3) required 9 comparisons to sort.\n",
      "permutation (4, 1, 3, 2, 5) required 9 comparisons to sort.\n",
      "permutation (4, 1, 3, 5, 2) required 10 comparisons to sort.\n",
      "permutation (4, 1, 5, 2, 3) required 9 comparisons to sort.\n",
      "permutation (4, 1, 5, 3, 2) required 10 comparisons to sort.\n",
      "permutation (4, 2, 1, 3, 5) required 9 comparisons to sort.\n",
      "permutation (4, 2, 1, 5, 3) required 9 comparisons to sort.\n",
      "permutation (4, 2, 3, 1, 5) required 10 comparisons to sort.\n",
      "permutation (4, 2, 3, 5, 1) required 10 comparisons to sort.\n",
      "permutation (4, 2, 5, 1, 3) required 10 comparisons to sort.\n",
      "permutation (4, 2, 5, 3, 1) required 10 comparisons to sort.\n",
      "permutation (4, 3, 1, 2, 5) required 9 comparisons to sort.\n",
      "permutation (4, 3, 1, 5, 2) required 10 comparisons to sort.\n",
      "permutation (4, 3, 2, 1, 5) required 10 comparisons to sort.\n",
      "permutation (4, 3, 2, 5, 1) required 10 comparisons to sort.\n",
      "permutation (4, 3, 5, 1, 2) required 10 comparisons to sort.\n",
      "permutation (4, 3, 5, 2, 1) required 10 comparisons to sort.\n",
      "permutation (4, 5, 1, 2, 3) required 9 comparisons to sort.\n",
      "permutation (4, 5, 1, 3, 2) required 10 comparisons to sort.\n",
      "permutation (4, 5, 2, 1, 3) required 10 comparisons to sort.\n",
      "permutation (4, 5, 2, 3, 1) required 10 comparisons to sort.\n",
      "permutation (4, 5, 3, 1, 2) required 10 comparisons to sort.\n",
      "permutation (4, 5, 3, 2, 1) required 10 comparisons to sort.\n",
      "permutation (5, 1, 2, 3, 4) required 7 comparisons to sort.\n",
      "permutation (5, 1, 2, 4, 3) required 9 comparisons to sort.\n",
      "permutation (5, 1, 3, 2, 4) required 9 comparisons to sort.\n",
      "permutation (5, 1, 3, 4, 2) required 10 comparisons to sort.\n",
      "permutation (5, 1, 4, 2, 3) required 9 comparisons to sort.\n",
      "permutation (5, 1, 4, 3, 2) required 10 comparisons to sort.\n",
      "permutation (5, 2, 1, 3, 4) required 9 comparisons to sort.\n",
      "permutation (5, 2, 1, 4, 3) required 9 comparisons to sort.\n",
      "permutation (5, 2, 3, 1, 4) required 10 comparisons to sort.\n",
      "permutation (5, 2, 3, 4, 1) required 10 comparisons to sort.\n",
      "permutation (5, 2, 4, 1, 3) required 10 comparisons to sort.\n",
      "permutation (5, 2, 4, 3, 1) required 10 comparisons to sort.\n",
      "permutation (5, 3, 1, 2, 4) required 9 comparisons to sort.\n",
      "permutation (5, 3, 1, 4, 2) required 10 comparisons to sort.\n",
      "permutation (5, 3, 2, 1, 4) required 10 comparisons to sort.\n",
      "permutation (5, 3, 2, 4, 1) required 10 comparisons to sort.\n",
      "permutation (5, 3, 4, 1, 2) required 10 comparisons to sort.\n",
      "permutation (5, 3, 4, 2, 1) required 10 comparisons to sort.\n",
      "permutation (5, 4, 1, 2, 3) required 9 comparisons to sort.\n",
      "permutation (5, 4, 1, 3, 2) required 10 comparisons to sort.\n",
      "permutation (5, 4, 2, 1, 3) required 10 comparisons to sort.\n",
      "permutation (5, 4, 2, 3, 1) required 10 comparisons to sort.\n",
      "permutation (5, 4, 3, 1, 2) required 10 comparisons to sort.\n",
      "permutation (5, 4, 3, 2, 1) required 10 comparisons to sort.\n"
     ]
    }
   ],
   "source": [
    "# Array to be sorted.\n",
    "L = [1, 2, 3, 4, 5]\n",
    "\n",
    "# Function call.\n",
    "bubble_sort(L)"
   ]
  }
 ],
 "metadata": {
  "kernelspec": {
   "display_name": "Python 3",
   "language": "python",
   "name": "python3"
  },
  "language_info": {
   "codemirror_mode": {
    "name": "ipython",
    "version": 3
   },
   "file_extension": ".py",
   "mimetype": "text/x-python",
   "name": "python",
   "nbconvert_exporter": "python",
   "pygments_lexer": "ipython3",
   "version": "3.12.1"
  }
 },
 "nbformat": 4,
 "nbformat_minor": 2
}
